{
 "cells": [
  {
   "cell_type": "markdown",
   "id": "f5bac2c7",
   "metadata": {},
   "source": [
    "#  Descripción del análisis de causas"
   ]
  },
  {
   "cell_type": "code",
   "execution_count": 1,
   "id": "3fc6bc8c",
   "metadata": {},
   "outputs": [],
   "source": [
    "import pandas as pd\n",
    "import numpy as np\n",
    "import seaborn as sns\n",
    "from sklearn import preprocessing\n",
    "import matplotlib.pyplot as plt"
   ]
  },
  {
   "cell_type": "code",
   "execution_count": 2,
   "id": "17261315",
   "metadata": {},
   "outputs": [
    {
     "data": {
      "text/html": [
       "<style>.container { width:100% !important; }</style>"
      ],
      "text/plain": [
       "<IPython.core.display.HTML object>"
      ]
     },
     "metadata": {},
     "output_type": "display_data"
    }
   ],
   "source": [
    "from IPython.core.display import display, HTML\n",
    "display(HTML(\"<style>.container { width:100% !important; }</style>\"))"
   ]
  },
  {
   "cell_type": "code",
   "execution_count": 3,
   "id": "d5cca9d3",
   "metadata": {},
   "outputs": [
    {
     "name": "stderr",
     "output_type": "stream",
     "text": [
      "C:\\ProgramData\\Anaconda3\\envs\\ds_sqdm_claro\\lib\\site-packages\\IPython\\core\\interactiveshell.py:3169: DtypeWarning: Columns (3,5,6) have mixed types.Specify dtype option on import or set low_memory=False.\n",
      "  has_raised = await self.run_ast_nodes(code_ast.body, cell_name,\n"
     ]
    }
   ],
   "source": [
    "data= pd.read_csv('DATA_FINAL_08.csv',sep=';', header = 0)"
   ]
  },
  {
   "cell_type": "code",
   "execution_count": 4,
   "id": "d6a4da8d",
   "metadata": {},
   "outputs": [
    {
     "data": {
      "text/plain": [
       "0      3213264\n",
       "-1      474001\n",
       "0        21119\n",
       "2        19132\n",
       "1        10043\n",
       "3         5100\n",
       "-1        3162\n",
       "4         1273\n",
       "5          359\n",
       "6          312\n",
       "-2         282\n",
       "2          177\n",
       "1           75\n",
       "-4          30\n",
       "3           28\n",
       "4           10\n",
       "-9           8\n",
       "-3           6\n",
       "NG           3\n",
       "5            2\n",
       "-16          2\n",
       "-36          1\n",
       "-25          1\n",
       "-12          1\n",
       "-6           1\n",
       "Name: CARTERA, dtype: int64"
      ]
     },
     "execution_count": 4,
     "metadata": {},
     "output_type": "execute_result"
    }
   ],
   "source": [
    "data['CARTERA'].value_counts()"
   ]
  },
  {
   "cell_type": "code",
   "execution_count": 5,
   "id": "ea8175a7",
   "metadata": {},
   "outputs": [],
   "source": [
    "data['CARTERA']=np.where(data['CARTERA']=='0',0,data['CARTERA'])"
   ]
  },
  {
   "cell_type": "code",
   "execution_count": 6,
   "id": "54d35310",
   "metadata": {},
   "outputs": [],
   "source": [
    "data['INVOLUNTARIO']=np.where(data['CARTERA']==0,0,-1)\n",
    "data['VOLUNTARIO']=np.where(data['CARTERA']==0,-1,0)"
   ]
  },
  {
   "cell_type": "code",
   "execution_count": 7,
   "id": "18eb543a",
   "metadata": {},
   "outputs": [],
   "source": [
    "seleccionVariables=['CONGELACION','VIAJES','CAPACIDAD_DE_PAGO','CAUSAS_EXTERNAS','COMPETENCIA','MAL_SERVICIO','NO_UTILIZAR',\n",
    "                    'NO_GUSTO','SIN_MOTIVO','SIN_CONTACTO','TRASLADOS','OTROS','CAMBIO_DE_SERVICIO','CAMBIO_TARIFA','EMPAQUETAMIENTO',\n",
    "                    'CESION_DE_CONTRATO','UNIFICACION_EMPAQUETAMIENTO']"
   ]
  },
  {
   "cell_type": "code",
   "execution_count": 8,
   "id": "f1cf0149",
   "metadata": {},
   "outputs": [],
   "source": [
    "data['BAJAS_TOTAL']=data[seleccionVariables].sum(axis=1)"
   ]
  },
  {
   "cell_type": "code",
   "execution_count": 9,
   "id": "f4181637",
   "metadata": {
    "scrolled": true
   },
   "outputs": [
    {
     "data": {
      "text/plain": [
       "CUENTA           int64\n",
       "COD_SERVICIO    object\n",
       "Velocidad       object\n",
       "Internet        object\n",
       "COD_NODO        object\n",
       "                 ...  \n",
       "AREA            object\n",
       "ZONA            object\n",
       "CIUDAD          object\n",
       "DISTRITO        object\n",
       "BAJAS_TOTAL      int64\n",
       "Length: 88, dtype: object"
      ]
     },
     "execution_count": 9,
     "metadata": {},
     "output_type": "execute_result"
    }
   ],
   "source": [
    "data.dtypes"
   ]
  },
  {
   "cell_type": "code",
   "execution_count": 10,
   "id": "ba10be64",
   "metadata": {},
   "outputs": [],
   "source": [
    "data['CUENTA']=data['CUENTA'].astype(str)"
   ]
  },
  {
   "cell_type": "code",
   "execution_count": 11,
   "id": "84e84978",
   "metadata": {},
   "outputs": [],
   "source": [
    "maestro_data=data[['COD_NODO','DIVISION', 'AREA', 'ZONA', 'CIUDAD', 'DISTRITO']].drop_duplicates()"
   ]
  },
  {
   "cell_type": "markdown",
   "id": "42375706",
   "metadata": {},
   "source": [
    "# SELECCION DE VARIABLES\n",
    "* Alfa Tarifas\n",
    "* Velocidad Beta\n",
    "* Velocidad Factor Alfa\n",
    "* Llamadas Admin\n",
    "* Llamadas Tec\n",
    "* Calidad muestras ok\n",
    "* Razones\n",
    "\n",
    "###  Descriptivo\n",
    "* lugar Regional\n",
    "* Churn Temprano\n",
    "* Voluntario e involuntario"
   ]
  },
  {
   "cell_type": "code",
   "execution_count": 12,
   "id": "2209217f",
   "metadata": {},
   "outputs": [
    {
     "data": {
      "text/plain": [
       "0           8\n",
       "1           3\n",
       "2           3\n",
       "3           8\n",
       "4           7\n",
       "           ..\n",
       "3748387    11\n",
       "3748388    11\n",
       "3748389     6\n",
       "3748390     9\n",
       "3748391    10\n",
       "Name: FECHA, Length: 3748392, dtype: int64"
      ]
     },
     "execution_count": 12,
     "metadata": {},
     "output_type": "execute_result"
    }
   ],
   "source": [
    "data['FECHA']"
   ]
  },
  {
   "cell_type": "markdown",
   "id": "8e69478d",
   "metadata": {},
   "source": [
    "### Calculo variables"
   ]
  },
  {
   "cell_type": "code",
   "execution_count": 13,
   "id": "418ba7a0",
   "metadata": {},
   "outputs": [],
   "source": [
    "### Alfa Beta"
   ]
  },
  {
   "cell_type": "code",
   "execution_count": 14,
   "id": "1a646aef",
   "metadata": {},
   "outputs": [
    {
     "data": {
      "text/html": [
       "<div>\n",
       "<style scoped>\n",
       "    .dataframe tbody tr th:only-of-type {\n",
       "        vertical-align: middle;\n",
       "    }\n",
       "\n",
       "    .dataframe tbody tr th {\n",
       "        vertical-align: top;\n",
       "    }\n",
       "\n",
       "    .dataframe thead th {\n",
       "        text-align: right;\n",
       "    }\n",
       "</style>\n",
       "<table border=\"1\" class=\"dataframe\">\n",
       "  <thead>\n",
       "    <tr style=\"text-align: right;\">\n",
       "      <th></th>\n",
       "      <th>ALFA</th>\n",
       "      <th>BETA</th>\n",
       "    </tr>\n",
       "  </thead>\n",
       "  <tbody>\n",
       "    <tr>\n",
       "      <th>count</th>\n",
       "      <td>3.162999e+06</td>\n",
       "      <td>3.507214e+06</td>\n",
       "    </tr>\n",
       "    <tr>\n",
       "      <th>mean</th>\n",
       "      <td>1.271766e+00</td>\n",
       "      <td>1.338653e+00</td>\n",
       "    </tr>\n",
       "    <tr>\n",
       "      <th>std</th>\n",
       "      <td>1.965219e+00</td>\n",
       "      <td>1.722602e+00</td>\n",
       "    </tr>\n",
       "    <tr>\n",
       "      <th>min</th>\n",
       "      <td>0.000000e+00</td>\n",
       "      <td>4.376013e-02</td>\n",
       "    </tr>\n",
       "    <tr>\n",
       "      <th>25%</th>\n",
       "      <td>4.642514e-01</td>\n",
       "      <td>8.435897e-01</td>\n",
       "    </tr>\n",
       "    <tr>\n",
       "      <th>50%</th>\n",
       "      <td>9.256882e-01</td>\n",
       "      <td>1.112853e+00</td>\n",
       "    </tr>\n",
       "    <tr>\n",
       "      <th>75%</th>\n",
       "      <td>1.648786e+00</td>\n",
       "      <td>1.485097e+00</td>\n",
       "    </tr>\n",
       "    <tr>\n",
       "      <th>max</th>\n",
       "      <td>3.215254e+02</td>\n",
       "      <td>1.840000e+02</td>\n",
       "    </tr>\n",
       "  </tbody>\n",
       "</table>\n",
       "</div>"
      ],
      "text/plain": [
       "               ALFA          BETA\n",
       "count  3.162999e+06  3.507214e+06\n",
       "mean   1.271766e+00  1.338653e+00\n",
       "std    1.965219e+00  1.722602e+00\n",
       "min    0.000000e+00  4.376013e-02\n",
       "25%    4.642514e-01  8.435897e-01\n",
       "50%    9.256882e-01  1.112853e+00\n",
       "75%    1.648786e+00  1.485097e+00\n",
       "max    3.215254e+02  1.840000e+02"
      ]
     },
     "execution_count": 14,
     "metadata": {},
     "output_type": "execute_result"
    }
   ],
   "source": [
    "data[['ALFA','BETA']].describe()"
   ]
  },
  {
   "cell_type": "code",
   "execution_count": 15,
   "id": "2dc7f9c8",
   "metadata": {},
   "outputs": [],
   "source": [
    "#seleccion_variables=['COD_NODO','FECHA','INVOLUNTARIO','CD_BLANCOS_CAMBIOS_SERVICIO','AVG_TARIFA_TIGO','AVG_TARIFA_ETB','AVG_TARIFA_MOVISTAR','PROM_RENTA']\n",
    "variables_tarifa=['AVG_TARIFA_TIGO','AVG_TARIFA_ETB','AVG_TARIFA_MOVISTAR']"
   ]
  },
  {
   "cell_type": "code",
   "execution_count": 16,
   "id": "8d184833",
   "metadata": {},
   "outputs": [],
   "source": [
    "data['comp_tarifa']=data[variables_tarifa].min(axis=1)"
   ]
  },
  {
   "cell_type": "code",
   "execution_count": 17,
   "id": "9bf6cfbb",
   "metadata": {},
   "outputs": [],
   "source": [
    "data['operador_menor_tarifa']=np.where(data['comp_tarifa']==data['AVG_TARIFA_TIGO'],'AVG_TARIFA_TIGO',\n",
    "                                              np.where(data['comp_tarifa']==data['AVG_TARIFA_ETB'],'AVG_TARIFA_ETB',\n",
    "                                                      np.where(data['comp_tarifa']==data['AVG_TARIFA_MOVISTAR'],'AVG_TARIFA_MOVISTAR','NINGUNO'\n",
    "                                             )))"
   ]
  },
  {
   "cell_type": "code",
   "execution_count": 18,
   "id": "3f4f0c0f",
   "metadata": {},
   "outputs": [],
   "source": [
    "data['ALFA_tarifa']=np.where(data['operador_menor_tarifa']=='NINGUNO',np.nan,data['comp_tarifa']/data['PROM_RENTA'])"
   ]
  },
  {
   "cell_type": "code",
   "execution_count": 19,
   "id": "67b6d1ad",
   "metadata": {},
   "outputs": [
    {
     "data": {
      "text/html": [
       "<div>\n",
       "<style scoped>\n",
       "    .dataframe tbody tr th:only-of-type {\n",
       "        vertical-align: middle;\n",
       "    }\n",
       "\n",
       "    .dataframe tbody tr th {\n",
       "        vertical-align: top;\n",
       "    }\n",
       "\n",
       "    .dataframe thead th {\n",
       "        text-align: right;\n",
       "    }\n",
       "</style>\n",
       "<table border=\"1\" class=\"dataframe\">\n",
       "  <thead>\n",
       "    <tr style=\"text-align: right;\">\n",
       "      <th></th>\n",
       "      <th>CUENTA</th>\n",
       "      <th>FECHA</th>\n",
       "      <th>AVG_TARIFA_TIGO</th>\n",
       "      <th>AVG_TARIFA_ETB</th>\n",
       "      <th>AVG_TARIFA_MOVISTAR</th>\n",
       "      <th>PROM_RENTA</th>\n",
       "      <th>comp_tarifa</th>\n",
       "      <th>ALFA_tarifa</th>\n",
       "    </tr>\n",
       "  </thead>\n",
       "  <tbody>\n",
       "  </tbody>\n",
       "</table>\n",
       "</div>"
      ],
      "text/plain": [
       "Empty DataFrame\n",
       "Columns: [CUENTA, FECHA, AVG_TARIFA_TIGO, AVG_TARIFA_ETB, AVG_TARIFA_MOVISTAR, PROM_RENTA, comp_tarifa, ALFA_tarifa]\n",
       "Index: []"
      ]
     },
     "execution_count": 19,
     "metadata": {},
     "output_type": "execute_result"
    }
   ],
   "source": [
    "data[data['CUENTA']==2139171][['CUENTA','FECHA']+variables_tarifa+['PROM_RENTA','comp_tarifa','ALFA_tarifa']]"
   ]
  },
  {
   "cell_type": "code",
   "execution_count": 20,
   "id": "81bd7554",
   "metadata": {},
   "outputs": [
    {
     "data": {
      "text/html": [
       "<div>\n",
       "<style scoped>\n",
       "    .dataframe tbody tr th:only-of-type {\n",
       "        vertical-align: middle;\n",
       "    }\n",
       "\n",
       "    .dataframe tbody tr th {\n",
       "        vertical-align: top;\n",
       "    }\n",
       "\n",
       "    .dataframe thead th {\n",
       "        text-align: right;\n",
       "    }\n",
       "</style>\n",
       "<table border=\"1\" class=\"dataframe\">\n",
       "  <thead>\n",
       "    <tr style=\"text-align: right;\">\n",
       "      <th></th>\n",
       "      <th>PRECIO_MEGA_CLARO_1</th>\n",
       "      <th>PRECIO_MEGA_TIGO_1</th>\n",
       "      <th>PRECIO_MEGA_ETB_1</th>\n",
       "    </tr>\n",
       "  </thead>\n",
       "  <tbody>\n",
       "    <tr>\n",
       "      <th>0</th>\n",
       "      <td>1044.000000</td>\n",
       "      <td>0.000000</td>\n",
       "      <td>0.000000</td>\n",
       "    </tr>\n",
       "    <tr>\n",
       "      <th>1</th>\n",
       "      <td>2071.826923</td>\n",
       "      <td>0.000000</td>\n",
       "      <td>0.000000</td>\n",
       "    </tr>\n",
       "    <tr>\n",
       "      <th>2</th>\n",
       "      <td>2043.260000</td>\n",
       "      <td>0.000000</td>\n",
       "      <td>0.000000</td>\n",
       "    </tr>\n",
       "    <tr>\n",
       "      <th>3</th>\n",
       "      <td>1311.897059</td>\n",
       "      <td>2933.333333</td>\n",
       "      <td>2663.333333</td>\n",
       "    </tr>\n",
       "    <tr>\n",
       "      <th>4</th>\n",
       "      <td>1260.892857</td>\n",
       "      <td>4666.666667</td>\n",
       "      <td>0.000000</td>\n",
       "    </tr>\n",
       "    <tr>\n",
       "      <th>...</th>\n",
       "      <td>...</td>\n",
       "      <td>...</td>\n",
       "      <td>...</td>\n",
       "    </tr>\n",
       "    <tr>\n",
       "      <th>3748387</th>\n",
       "      <td>1466.861538</td>\n",
       "      <td>0.000000</td>\n",
       "      <td>0.000000</td>\n",
       "    </tr>\n",
       "    <tr>\n",
       "      <th>3748388</th>\n",
       "      <td>1452.011494</td>\n",
       "      <td>0.000000</td>\n",
       "      <td>0.000000</td>\n",
       "    </tr>\n",
       "    <tr>\n",
       "      <th>3748389</th>\n",
       "      <td>2108.863636</td>\n",
       "      <td>3060.606061</td>\n",
       "      <td>2663.333333</td>\n",
       "    </tr>\n",
       "    <tr>\n",
       "      <th>3748390</th>\n",
       "      <td>1502.594203</td>\n",
       "      <td>1355.233333</td>\n",
       "      <td>0.000000</td>\n",
       "    </tr>\n",
       "    <tr>\n",
       "      <th>3748391</th>\n",
       "      <td>1227.328947</td>\n",
       "      <td>0.000000</td>\n",
       "      <td>0.000000</td>\n",
       "    </tr>\n",
       "  </tbody>\n",
       "</table>\n",
       "<p>3748392 rows × 3 columns</p>\n",
       "</div>"
      ],
      "text/plain": [
       "         PRECIO_MEGA_CLARO_1  PRECIO_MEGA_TIGO_1  PRECIO_MEGA_ETB_1\n",
       "0                1044.000000            0.000000           0.000000\n",
       "1                2071.826923            0.000000           0.000000\n",
       "2                2043.260000            0.000000           0.000000\n",
       "3                1311.897059         2933.333333        2663.333333\n",
       "4                1260.892857         4666.666667           0.000000\n",
       "...                      ...                 ...                ...\n",
       "3748387          1466.861538            0.000000           0.000000\n",
       "3748388          1452.011494            0.000000           0.000000\n",
       "3748389          2108.863636         3060.606061        2663.333333\n",
       "3748390          1502.594203         1355.233333           0.000000\n",
       "3748391          1227.328947            0.000000           0.000000\n",
       "\n",
       "[3748392 rows x 3 columns]"
      ]
     },
     "execution_count": 20,
     "metadata": {},
     "output_type": "execute_result"
    }
   ],
   "source": [
    "data[['PRECIO_MEGA_CLARO_1','PRECIO_MEGA_TIGO_1','PRECIO_MEGA_ETB_1']]"
   ]
  },
  {
   "cell_type": "code",
   "execution_count": 21,
   "id": "e1bfd23c",
   "metadata": {},
   "outputs": [
    {
     "data": {
      "text/plain": [
       "Index(['CUENTA', 'COD_SERVICIO', 'Velocidad', 'Internet', 'COD_NODO',\n",
       "       'ESTRATO', 'CARTERA', 'CONGELACION', 'VIAJES', 'CAPACIDAD_DE_PAGO',\n",
       "       'CAUSAS_EXTERNAS', 'COMPETENCIA', 'MAL_SERVICIO', 'NO_UTILIZAR',\n",
       "       'NO_GUSTO', 'SIN_MOTIVO', 'SIN_CONTACTO', 'TRASLADOS', 'OTROS',\n",
       "       'CD_BLANCOS_CAMBIOS_OTROS', 'CAMBIO_DE_SERVICIO', 'CAMBIO_TARIFA',\n",
       "       'EMPAQUETAMIENTO', 'CESION_DE_CONTRATO', 'UNIFICACION_EMPAQUETAMIENTO',\n",
       "       'CD_BLANCOS_CAMBIOS_SERVICIO', 'FECHA', 'CHURN_TEMPRANO',\n",
       "       'INVOLUNTARIO', 'VOLUNTARIO', 'TIPO_RAZON', 'CANTIDAD_LLAMADAS',\n",
       "       'CANTIDAD_ADMIN', 'CANTIDAD_TECNICO', 'CAMPANA_HBO', 'CAMPANA_FOX',\n",
       "       'CAMPANA_ADULTO', 'CAMPANA_EQUIPOS_ADIC', 'CAMPANA_ULTRAWIFI',\n",
       "       'CAMPANA_VOZ', 'CAMPANA_RETENCION', 'CAMPANA_AFECTACION_SRV',\n",
       "       'PART_CANT_CALL', 'CANT_USER', 'PROM_VEL', 'VEL_ME_8', 'VEL_10_25',\n",
       "       'VEL_30', 'VEL_40_50', 'VEL_MA_60', 'CONVERGENTE', 'PROM_VEL_HOGAR',\n",
       "       'MEDIANA_VEL', 'PROM_RENTA', 'PRECIO_MEGA_CLARO_1', 'CANTIDAD_churn',\n",
       "       'ANTIGUEDAD_MESES_PROM', 'ANTIGUEDAD_MESES_MED', 'AVG_TARIFA_TIGO',\n",
       "       'AVG_TIGO_MEGAS', 'PRECIO_MEGA_TIGO_1', 'AVG_TARIFA_ETB',\n",
       "       'AVG_ETB_MEGAS', 'PRECIO_MEGA_ETB_1', 'AVG_TARIFA_MOVISTAR',\n",
       "       'AVG_MOVISTAR_MEGAS', 'AVG_MOV_MEGAS', 'OPERADOR_TIGO_OOKLA',\n",
       "       'OPERADOR_ETB_OOKLA', 'OPERADOR_MOVISTAR_OOKLA', 'SUMA_OPERADORES',\n",
       "       'RANK1_VEL_DWLD', 'OP_CLARO', 'CANTIDAD', 'PENETRACION', 'OCUPACION_DW',\n",
       "       'OCUPACION_UP', 'ALFA', 'BETA', 'MEGA', 'NIVEL_ALARMA_MALO',\n",
       "       'NIVEL_ALARMA_BUENO', 'DIVISION', 'AREA', 'ZONA', 'CIUDAD', 'DISTRITO',\n",
       "       'BAJAS_TOTAL', 'comp_tarifa', 'operador_menor_tarifa', 'ALFA_tarifa'],\n",
       "      dtype='object')"
      ]
     },
     "execution_count": 21,
     "metadata": {},
     "output_type": "execute_result"
    }
   ],
   "source": [
    "data.columns"
   ]
  },
  {
   "cell_type": "code",
   "execution_count": 22,
   "id": "fc90877e",
   "metadata": {},
   "outputs": [
    {
     "data": {
      "text/plain": [
       "count    2.192311e+06\n",
       "mean     9.981074e-01\n",
       "std      2.084416e-01\n",
       "min      3.469364e-01\n",
       "25%      8.491211e-01\n",
       "50%      9.844099e-01\n",
       "75%      1.129350e+00\n",
       "max      2.918921e+00\n",
       "Name: ALFA_tarifa, dtype: float64"
      ]
     },
     "execution_count": 22,
     "metadata": {},
     "output_type": "execute_result"
    }
   ],
   "source": [
    "data['ALFA_tarifa'].describe()"
   ]
  },
  {
   "cell_type": "markdown",
   "id": "08427a50",
   "metadata": {},
   "source": [
    "### Llamadas"
   ]
  },
  {
   "cell_type": "code",
   "execution_count": 23,
   "id": "99088c3f",
   "metadata": {},
   "outputs": [],
   "source": [
    "llamadas= pd.read_csv('Cantidad_llamadas_v3.csv',sep=';', header = 0)\n",
    "#llamadas2= pd.read_csv('Cantidad_llamadas_v2.csv',sep=';', header = 0)"
   ]
  },
  {
   "cell_type": "code",
   "execution_count": 24,
   "id": "a6bcf4cd",
   "metadata": {},
   "outputs": [
    {
     "data": {
      "text/html": [
       "<div>\n",
       "<style scoped>\n",
       "    .dataframe tbody tr th:only-of-type {\n",
       "        vertical-align: middle;\n",
       "    }\n",
       "\n",
       "    .dataframe tbody tr th {\n",
       "        vertical-align: top;\n",
       "    }\n",
       "\n",
       "    .dataframe thead th {\n",
       "        text-align: right;\n",
       "    }\n",
       "</style>\n",
       "<table border=\"1\" class=\"dataframe\">\n",
       "  <thead>\n",
       "    <tr style=\"text-align: right;\">\n",
       "      <th></th>\n",
       "      <th>CUENTA</th>\n",
       "      <th>MES</th>\n",
       "      <th>CANTIDAD</th>\n",
       "      <th>ADMINISTRATIVO</th>\n",
       "      <th>TECNICO</th>\n",
       "      <th>NODO</th>\n",
       "      <th>ANIO</th>\n",
       "    </tr>\n",
       "  </thead>\n",
       "  <tbody>\n",
       "    <tr>\n",
       "      <th>0</th>\n",
       "      <td>92508566</td>\n",
       "      <td>1</td>\n",
       "      <td>9</td>\n",
       "      <td>2</td>\n",
       "      <td>7</td>\n",
       "      <td>BT5</td>\n",
       "      <td>2021</td>\n",
       "    </tr>\n",
       "    <tr>\n",
       "      <th>1</th>\n",
       "      <td>76760738</td>\n",
       "      <td>1</td>\n",
       "      <td>1</td>\n",
       "      <td>1</td>\n",
       "      <td>0</td>\n",
       "      <td>S5D</td>\n",
       "      <td>2021</td>\n",
       "    </tr>\n",
       "    <tr>\n",
       "      <th>2</th>\n",
       "      <td>82231382</td>\n",
       "      <td>1</td>\n",
       "      <td>4</td>\n",
       "      <td>3</td>\n",
       "      <td>1</td>\n",
       "      <td>SUS</td>\n",
       "      <td>2021</td>\n",
       "    </tr>\n",
       "    <tr>\n",
       "      <th>3</th>\n",
       "      <td>41391822</td>\n",
       "      <td>1</td>\n",
       "      <td>6</td>\n",
       "      <td>4</td>\n",
       "      <td>2</td>\n",
       "      <td>1DN</td>\n",
       "      <td>2021</td>\n",
       "    </tr>\n",
       "    <tr>\n",
       "      <th>4</th>\n",
       "      <td>79054881</td>\n",
       "      <td>1</td>\n",
       "      <td>1</td>\n",
       "      <td>1</td>\n",
       "      <td>0</td>\n",
       "      <td>JGI2D</td>\n",
       "      <td>2021</td>\n",
       "    </tr>\n",
       "    <tr>\n",
       "      <th>...</th>\n",
       "      <td>...</td>\n",
       "      <td>...</td>\n",
       "      <td>...</td>\n",
       "      <td>...</td>\n",
       "      <td>...</td>\n",
       "      <td>...</td>\n",
       "      <td>...</td>\n",
       "    </tr>\n",
       "    <tr>\n",
       "      <th>9809865</th>\n",
       "      <td>93586402</td>\n",
       "      <td>12</td>\n",
       "      <td>1</td>\n",
       "      <td>1</td>\n",
       "      <td>0</td>\n",
       "      <td>2OE</td>\n",
       "      <td>2020</td>\n",
       "    </tr>\n",
       "    <tr>\n",
       "      <th>9809866</th>\n",
       "      <td>54213988</td>\n",
       "      <td>12</td>\n",
       "      <td>1</td>\n",
       "      <td>1</td>\n",
       "      <td>0</td>\n",
       "      <td>NGL</td>\n",
       "      <td>2020</td>\n",
       "    </tr>\n",
       "    <tr>\n",
       "      <th>9809867</th>\n",
       "      <td>74212184</td>\n",
       "      <td>12</td>\n",
       "      <td>1</td>\n",
       "      <td>0</td>\n",
       "      <td>1</td>\n",
       "      <td>TVZ</td>\n",
       "      <td>2020</td>\n",
       "    </tr>\n",
       "    <tr>\n",
       "      <th>9809868</th>\n",
       "      <td>48749462</td>\n",
       "      <td>12</td>\n",
       "      <td>1</td>\n",
       "      <td>0</td>\n",
       "      <td>1</td>\n",
       "      <td>POD</td>\n",
       "      <td>2020</td>\n",
       "    </tr>\n",
       "    <tr>\n",
       "      <th>9809869</th>\n",
       "      <td>44957306</td>\n",
       "      <td>12</td>\n",
       "      <td>1</td>\n",
       "      <td>1</td>\n",
       "      <td>0</td>\n",
       "      <td>ZS1</td>\n",
       "      <td>2020</td>\n",
       "    </tr>\n",
       "  </tbody>\n",
       "</table>\n",
       "<p>9809870 rows × 7 columns</p>\n",
       "</div>"
      ],
      "text/plain": [
       "           CUENTA  MES  CANTIDAD  ADMINISTRATIVO  TECNICO   NODO  ANIO\n",
       "0        92508566    1         9               2        7    BT5  2021\n",
       "1        76760738    1         1               1        0    S5D  2021\n",
       "2        82231382    1         4               3        1    SUS  2021\n",
       "3        41391822    1         6               4        2    1DN  2021\n",
       "4        79054881    1         1               1        0  JGI2D  2021\n",
       "...           ...  ...       ...             ...      ...    ...   ...\n",
       "9809865  93586402   12         1               1        0    2OE  2020\n",
       "9809866  54213988   12         1               1        0    NGL  2020\n",
       "9809867  74212184   12         1               0        1    TVZ  2020\n",
       "9809868  48749462   12         1               0        1    POD  2020\n",
       "9809869  44957306   12         1               1        0    ZS1  2020\n",
       "\n",
       "[9809870 rows x 7 columns]"
      ]
     },
     "execution_count": 24,
     "metadata": {},
     "output_type": "execute_result"
    }
   ],
   "source": [
    "llamadas"
   ]
  },
  {
   "cell_type": "code",
   "execution_count": 25,
   "id": "b726e783",
   "metadata": {},
   "outputs": [],
   "source": [
    "#llamadas=llamadas.sort_values(['CUENTA','NODO','ANIO','MES'])"
   ]
  },
  {
   "cell_type": "code",
   "execution_count": 26,
   "id": "13983682",
   "metadata": {},
   "outputs": [
    {
     "data": {
      "text/html": [
       "<div>\n",
       "<style scoped>\n",
       "    .dataframe tbody tr th:only-of-type {\n",
       "        vertical-align: middle;\n",
       "    }\n",
       "\n",
       "    .dataframe tbody tr th {\n",
       "        vertical-align: top;\n",
       "    }\n",
       "\n",
       "    .dataframe thead th {\n",
       "        text-align: right;\n",
       "    }\n",
       "</style>\n",
       "<table border=\"1\" class=\"dataframe\">\n",
       "  <thead>\n",
       "    <tr style=\"text-align: right;\">\n",
       "      <th></th>\n",
       "      <th></th>\n",
       "      <th></th>\n",
       "      <th>NODO</th>\n",
       "    </tr>\n",
       "    <tr>\n",
       "      <th>CUENTA</th>\n",
       "      <th>MES</th>\n",
       "      <th>ANIO</th>\n",
       "      <th></th>\n",
       "    </tr>\n",
       "  </thead>\n",
       "  <tbody>\n",
       "    <tr>\n",
       "      <th>61672518</th>\n",
       "      <th>3</th>\n",
       "      <th>2021</th>\n",
       "      <td>4</td>\n",
       "    </tr>\n",
       "    <tr>\n",
       "      <th>35208129</th>\n",
       "      <th>1</th>\n",
       "      <th>2021</th>\n",
       "      <td>4</td>\n",
       "    </tr>\n",
       "    <tr>\n",
       "      <th>28883684</th>\n",
       "      <th>6</th>\n",
       "      <th>2021</th>\n",
       "      <td>4</td>\n",
       "    </tr>\n",
       "    <tr>\n",
       "      <th>91882100</th>\n",
       "      <th>10</th>\n",
       "      <th>2021</th>\n",
       "      <td>3</td>\n",
       "    </tr>\n",
       "    <tr>\n",
       "      <th>39816957</th>\n",
       "      <th>10</th>\n",
       "      <th>2020</th>\n",
       "      <td>3</td>\n",
       "    </tr>\n",
       "    <tr>\n",
       "      <th>...</th>\n",
       "      <th>...</th>\n",
       "      <th>...</th>\n",
       "      <td>...</td>\n",
       "    </tr>\n",
       "    <tr>\n",
       "      <th rowspan=\"4\" valign=\"top\">31356484</th>\n",
       "      <th>7</th>\n",
       "      <th>2021</th>\n",
       "      <td>1</td>\n",
       "    </tr>\n",
       "    <tr>\n",
       "      <th>8</th>\n",
       "      <th>2021</th>\n",
       "      <td>1</td>\n",
       "    </tr>\n",
       "    <tr>\n",
       "      <th rowspan=\"2\" valign=\"top\">10</th>\n",
       "      <th>2020</th>\n",
       "      <td>1</td>\n",
       "    </tr>\n",
       "    <tr>\n",
       "      <th>2021</th>\n",
       "      <td>1</td>\n",
       "    </tr>\n",
       "    <tr>\n",
       "      <th>99699954</th>\n",
       "      <th>10</th>\n",
       "      <th>2021</th>\n",
       "      <td>1</td>\n",
       "    </tr>\n",
       "  </tbody>\n",
       "</table>\n",
       "<p>9698560 rows × 1 columns</p>\n",
       "</div>"
      ],
      "text/plain": [
       "                   NODO\n",
       "CUENTA   MES ANIO      \n",
       "61672518 3   2021     4\n",
       "35208129 1   2021     4\n",
       "28883684 6   2021     4\n",
       "91882100 10  2021     3\n",
       "39816957 10  2020     3\n",
       "...                 ...\n",
       "31356484 7   2021     1\n",
       "         8   2021     1\n",
       "         10  2020     1\n",
       "             2021     1\n",
       "99699954 10  2021     1\n",
       "\n",
       "[9698560 rows x 1 columns]"
      ]
     },
     "execution_count": 26,
     "metadata": {},
     "output_type": "execute_result"
    }
   ],
   "source": [
    "llamadas[['CUENTA','NODO','ANIO','MES']].groupby(['CUENTA','MES','ANIO']).count().sort_values('NODO', ascending=False)"
   ]
  },
  {
   "cell_type": "code",
   "execution_count": 27,
   "id": "286ec88c",
   "metadata": {},
   "outputs": [
    {
     "data": {
      "text/html": [
       "<div>\n",
       "<style scoped>\n",
       "    .dataframe tbody tr th:only-of-type {\n",
       "        vertical-align: middle;\n",
       "    }\n",
       "\n",
       "    .dataframe tbody tr th {\n",
       "        vertical-align: top;\n",
       "    }\n",
       "\n",
       "    .dataframe thead th {\n",
       "        text-align: right;\n",
       "    }\n",
       "</style>\n",
       "<table border=\"1\" class=\"dataframe\">\n",
       "  <thead>\n",
       "    <tr style=\"text-align: right;\">\n",
       "      <th></th>\n",
       "      <th>CUENTA</th>\n",
       "      <th>MES</th>\n",
       "      <th>CANTIDAD</th>\n",
       "      <th>ADMINISTRATIVO</th>\n",
       "      <th>TECNICO</th>\n",
       "      <th>NODO</th>\n",
       "      <th>ANIO</th>\n",
       "    </tr>\n",
       "  </thead>\n",
       "  <tbody>\n",
       "    <tr>\n",
       "      <th>183849</th>\n",
       "      <td>61672518</td>\n",
       "      <td>3</td>\n",
       "      <td>2</td>\n",
       "      <td>2</td>\n",
       "      <td>0</td>\n",
       "      <td>2BQ2</td>\n",
       "      <td>2021</td>\n",
       "    </tr>\n",
       "    <tr>\n",
       "      <th>1144574</th>\n",
       "      <td>61672518</td>\n",
       "      <td>3</td>\n",
       "      <td>1</td>\n",
       "      <td>1</td>\n",
       "      <td>0</td>\n",
       "      <td>U1N</td>\n",
       "      <td>2021</td>\n",
       "    </tr>\n",
       "    <tr>\n",
       "      <th>3762790</th>\n",
       "      <td>61672518</td>\n",
       "      <td>3</td>\n",
       "      <td>3</td>\n",
       "      <td>3</td>\n",
       "      <td>0</td>\n",
       "      <td>1BQ12D</td>\n",
       "      <td>2021</td>\n",
       "    </tr>\n",
       "    <tr>\n",
       "      <th>4682471</th>\n",
       "      <td>61672518</td>\n",
       "      <td>3</td>\n",
       "      <td>4</td>\n",
       "      <td>2</td>\n",
       "      <td>2</td>\n",
       "      <td>1BQ13D</td>\n",
       "      <td>2021</td>\n",
       "    </tr>\n",
       "    <tr>\n",
       "      <th>2089553</th>\n",
       "      <td>61672518</td>\n",
       "      <td>4</td>\n",
       "      <td>1</td>\n",
       "      <td>1</td>\n",
       "      <td>0</td>\n",
       "      <td>1BQ12D</td>\n",
       "      <td>2021</td>\n",
       "    </tr>\n",
       "    <tr>\n",
       "      <th>5967842</th>\n",
       "      <td>61672518</td>\n",
       "      <td>8</td>\n",
       "      <td>2</td>\n",
       "      <td>2</td>\n",
       "      <td>0</td>\n",
       "      <td>1BQ12D</td>\n",
       "      <td>2021</td>\n",
       "    </tr>\n",
       "    <tr>\n",
       "      <th>8334485</th>\n",
       "      <td>61672518</td>\n",
       "      <td>11</td>\n",
       "      <td>2</td>\n",
       "      <td>1</td>\n",
       "      <td>0</td>\n",
       "      <td>1BQ13D</td>\n",
       "      <td>2020</td>\n",
       "    </tr>\n",
       "    <tr>\n",
       "      <th>8442124</th>\n",
       "      <td>61672518</td>\n",
       "      <td>12</td>\n",
       "      <td>2</td>\n",
       "      <td>1</td>\n",
       "      <td>0</td>\n",
       "      <td>1BQ13D</td>\n",
       "      <td>2020</td>\n",
       "    </tr>\n",
       "  </tbody>\n",
       "</table>\n",
       "</div>"
      ],
      "text/plain": [
       "           CUENTA  MES  CANTIDAD  ADMINISTRATIVO  TECNICO    NODO  ANIO\n",
       "183849   61672518    3         2               2        0    2BQ2  2021\n",
       "1144574  61672518    3         1               1        0     U1N  2021\n",
       "3762790  61672518    3         3               3        0  1BQ12D  2021\n",
       "4682471  61672518    3         4               2        2  1BQ13D  2021\n",
       "2089553  61672518    4         1               1        0  1BQ12D  2021\n",
       "5967842  61672518    8         2               2        0  1BQ12D  2021\n",
       "8334485  61672518   11         2               1        0  1BQ13D  2020\n",
       "8442124  61672518   12         2               1        0  1BQ13D  2020"
      ]
     },
     "execution_count": 27,
     "metadata": {},
     "output_type": "execute_result"
    }
   ],
   "source": [
    "llamadas[llamadas['CUENTA']==61672518].sort_values('MES')"
   ]
  },
  {
   "cell_type": "code",
   "execution_count": 28,
   "id": "83123e7b",
   "metadata": {},
   "outputs": [],
   "source": [
    "llamadas['DIA']=1\n",
    "llamadas['FECHA']=pd.to_datetime(llamadas['ANIO']*10000+llamadas['MES']*100+llamadas['DIA'], format='%Y%m%d')\n",
    "llamadas['KEY']=llamadas['CUENTA'].astype(str)+'--'+llamadas['NODO'].astype(str)"
   ]
  },
  {
   "cell_type": "code",
   "execution_count": 29,
   "id": "e6c85f42",
   "metadata": {},
   "outputs": [],
   "source": [
    "pv_cantidad_llamadas=pd.pivot_table(llamadas, columns=['KEY'], values=['CANTIDAD'],index=['FECHA'], aggfunc=np.sum)\n",
    "pv_cantidad_llamadas.columns= pv_cantidad_llamadas.columns.droplevel()\n",
    "pv_cantidad_llamadas=pv_cantidad_llamadas.fillna(0).reset_index()\n",
    "#pv_cantidad_llamadas"
   ]
  },
  {
   "cell_type": "code",
   "execution_count": 30,
   "id": "d5c9ee98",
   "metadata": {
    "scrolled": true
   },
   "outputs": [],
   "source": [
    "un_llamadas=pd.melt(pv_cantidad_llamadas, id_vars=['FECHA'], var_name='NODO', value_name='CANTIDAD_LLAMADAS')\n",
    "un_llamadas=un_llamadas.sort_values(['NODO','FECHA'])\n",
    "#un_llamadas"
   ]
  },
  {
   "cell_type": "code",
   "execution_count": 31,
   "id": "864eb3eb",
   "metadata": {},
   "outputs": [],
   "source": [
    "un_llamadas['CANT_1'] = un_llamadas.groupby(['NODO'])['CANTIDAD_LLAMADAS'].shift(1)\n",
    "un_llamadas['CANT_2'] = un_llamadas.groupby(['NODO'])['CANTIDAD_LLAMADAS'].shift(2)\n",
    "#un_llamadas"
   ]
  },
  {
   "cell_type": "code",
   "execution_count": 32,
   "id": "81fb19fd",
   "metadata": {},
   "outputs": [],
   "source": [
    "un_llamadas['Llamadas_3M']=un_llamadas[['CANTIDAD_LLAMADAS','CANT_1','CANT_2']].sum(axis=1)\n",
    "un_llamadas[['CUENTA','COD_NODO']] = un_llamadas['NODO'].str.split('--',expand=True)"
   ]
  },
  {
   "cell_type": "code",
   "execution_count": 33,
   "id": "6dedfa6b",
   "metadata": {},
   "outputs": [],
   "source": [
    "#un_llamadas=un_llamadas.rename(columns={'COD_NODO':'CUENTA','CUENTA':'COD_NODO'})\n",
    "#un_llamadas['CUENTA']=un_llamadas['CUENTA'].astype('Int64')"
   ]
  },
  {
   "cell_type": "code",
   "execution_count": 34,
   "id": "4063df66",
   "metadata": {},
   "outputs": [
    {
     "data": {
      "text/plain": [
       "43669632"
      ]
     },
     "execution_count": 34,
     "metadata": {},
     "output_type": "execute_result"
    }
   ],
   "source": [
    "len(un_llamadas)"
   ]
  },
  {
   "cell_type": "code",
   "execution_count": 35,
   "id": "3498be37",
   "metadata": {},
   "outputs": [],
   "source": [
    "un_llamadas=un_llamadas[un_llamadas['FECHA'].dt.year==2021]"
   ]
  },
  {
   "cell_type": "code",
   "execution_count": 36,
   "id": "b5f0e7b1",
   "metadata": {},
   "outputs": [],
   "source": [
    "un_llamadas['MES']=un_llamadas['FECHA'].dt.month"
   ]
  },
  {
   "cell_type": "code",
   "execution_count": 37,
   "id": "add60912",
   "metadata": {},
   "outputs": [],
   "source": [
    "un_llamadas=un_llamadas.groupby(['CUENTA','COD_NODO','MES'])[['Llamadas_3M']].sum().reset_index()"
   ]
  },
  {
   "cell_type": "code",
   "execution_count": 38,
   "id": "a0e11efd",
   "metadata": {},
   "outputs": [
    {
     "data": {
      "text/html": [
       "<div>\n",
       "<style scoped>\n",
       "    .dataframe tbody tr th:only-of-type {\n",
       "        vertical-align: middle;\n",
       "    }\n",
       "\n",
       "    .dataframe tbody tr th {\n",
       "        vertical-align: top;\n",
       "    }\n",
       "\n",
       "    .dataframe thead th {\n",
       "        text-align: right;\n",
       "    }\n",
       "</style>\n",
       "<table border=\"1\" class=\"dataframe\">\n",
       "  <thead>\n",
       "    <tr style=\"text-align: right;\">\n",
       "      <th></th>\n",
       "      <th>CUENTA</th>\n",
       "      <th>COD_NODO</th>\n",
       "      <th>MES</th>\n",
       "      <th>Llamadas_3M</th>\n",
       "    </tr>\n",
       "  </thead>\n",
       "  <tbody>\n",
       "    <tr>\n",
       "      <th>0</th>\n",
       "      <td>10000043</td>\n",
       "      <td>S1C</td>\n",
       "      <td>1</td>\n",
       "      <td>0.0</td>\n",
       "    </tr>\n",
       "    <tr>\n",
       "      <th>1</th>\n",
       "      <td>10000043</td>\n",
       "      <td>S1C</td>\n",
       "      <td>2</td>\n",
       "      <td>0.0</td>\n",
       "    </tr>\n",
       "    <tr>\n",
       "      <th>2</th>\n",
       "      <td>10000043</td>\n",
       "      <td>S1C</td>\n",
       "      <td>3</td>\n",
       "      <td>0.0</td>\n",
       "    </tr>\n",
       "    <tr>\n",
       "      <th>3</th>\n",
       "      <td>10000043</td>\n",
       "      <td>S1C</td>\n",
       "      <td>4</td>\n",
       "      <td>0.0</td>\n",
       "    </tr>\n",
       "    <tr>\n",
       "      <th>4</th>\n",
       "      <td>10000043</td>\n",
       "      <td>S1C</td>\n",
       "      <td>5</td>\n",
       "      <td>1.0</td>\n",
       "    </tr>\n",
       "    <tr>\n",
       "      <th>...</th>\n",
       "      <td>...</td>\n",
       "      <td>...</td>\n",
       "      <td>...</td>\n",
       "      <td>...</td>\n",
       "    </tr>\n",
       "    <tr>\n",
       "      <th>32752219</th>\n",
       "      <td>9999954</td>\n",
       "      <td>4A1012</td>\n",
       "      <td>8</td>\n",
       "      <td>17.0</td>\n",
       "    </tr>\n",
       "    <tr>\n",
       "      <th>32752220</th>\n",
       "      <td>9999954</td>\n",
       "      <td>4A1012</td>\n",
       "      <td>9</td>\n",
       "      <td>6.0</td>\n",
       "    </tr>\n",
       "    <tr>\n",
       "      <th>32752221</th>\n",
       "      <td>9999954</td>\n",
       "      <td>4A1012</td>\n",
       "      <td>10</td>\n",
       "      <td>3.0</td>\n",
       "    </tr>\n",
       "    <tr>\n",
       "      <th>32752222</th>\n",
       "      <td>9999954</td>\n",
       "      <td>4A1012</td>\n",
       "      <td>11</td>\n",
       "      <td>0.0</td>\n",
       "    </tr>\n",
       "    <tr>\n",
       "      <th>32752223</th>\n",
       "      <td>9999954</td>\n",
       "      <td>4A1012</td>\n",
       "      <td>12</td>\n",
       "      <td>0.0</td>\n",
       "    </tr>\n",
       "  </tbody>\n",
       "</table>\n",
       "<p>32752224 rows × 4 columns</p>\n",
       "</div>"
      ],
      "text/plain": [
       "            CUENTA COD_NODO  MES  Llamadas_3M\n",
       "0         10000043      S1C    1          0.0\n",
       "1         10000043      S1C    2          0.0\n",
       "2         10000043      S1C    3          0.0\n",
       "3         10000043      S1C    4          0.0\n",
       "4         10000043      S1C    5          1.0\n",
       "...            ...      ...  ...          ...\n",
       "32752219   9999954   4A1012    8         17.0\n",
       "32752220   9999954   4A1012    9          6.0\n",
       "32752221   9999954   4A1012   10          3.0\n",
       "32752222   9999954   4A1012   11          0.0\n",
       "32752223   9999954   4A1012   12          0.0\n",
       "\n",
       "[32752224 rows x 4 columns]"
      ]
     },
     "execution_count": 38,
     "metadata": {},
     "output_type": "execute_result"
    }
   ],
   "source": [
    "un_llamadas"
   ]
  },
  {
   "cell_type": "code",
   "execution_count": 39,
   "id": "c417f73a",
   "metadata": {},
   "outputs": [
    {
     "data": {
      "text/plain": [
       "dtype('O')"
      ]
     },
     "execution_count": 39,
     "metadata": {},
     "output_type": "execute_result"
    }
   ],
   "source": [
    "un_llamadas.dtypes['CUENTA']"
   ]
  },
  {
   "cell_type": "code",
   "execution_count": 40,
   "id": "85714f3b",
   "metadata": {},
   "outputs": [],
   "source": [
    "data=data.merge(un_llamadas[['COD_NODO','CUENTA','MES','Llamadas_3M']],left_on=['COD_NODO','CUENTA','FECHA'],right_on=['COD_NODO','CUENTA','MES'],how='left')"
   ]
  },
  {
   "cell_type": "code",
   "execution_count": 41,
   "id": "b7837f70",
   "metadata": {},
   "outputs": [
    {
     "data": {
      "text/html": [
       "<div>\n",
       "<style scoped>\n",
       "    .dataframe tbody tr th:only-of-type {\n",
       "        vertical-align: middle;\n",
       "    }\n",
       "\n",
       "    .dataframe tbody tr th {\n",
       "        vertical-align: top;\n",
       "    }\n",
       "\n",
       "    .dataframe thead th {\n",
       "        text-align: right;\n",
       "    }\n",
       "</style>\n",
       "<table border=\"1\" class=\"dataframe\">\n",
       "  <thead>\n",
       "    <tr style=\"text-align: right;\">\n",
       "      <th></th>\n",
       "      <th>CUENTA</th>\n",
       "      <th>COD_SERVICIO</th>\n",
       "      <th>Velocidad</th>\n",
       "      <th>Internet</th>\n",
       "      <th>COD_NODO</th>\n",
       "      <th>ESTRATO</th>\n",
       "      <th>CARTERA</th>\n",
       "      <th>CONGELACION</th>\n",
       "      <th>VIAJES</th>\n",
       "      <th>CAPACIDAD_DE_PAGO</th>\n",
       "      <th>...</th>\n",
       "      <th>AREA</th>\n",
       "      <th>ZONA</th>\n",
       "      <th>CIUDAD</th>\n",
       "      <th>DISTRITO</th>\n",
       "      <th>BAJAS_TOTAL</th>\n",
       "      <th>comp_tarifa</th>\n",
       "      <th>operador_menor_tarifa</th>\n",
       "      <th>ALFA_tarifa</th>\n",
       "      <th>MES</th>\n",
       "      <th>Llamadas_3M</th>\n",
       "    </tr>\n",
       "  </thead>\n",
       "  <tbody>\n",
       "    <tr>\n",
       "      <th>3133899</th>\n",
       "      <td>10000043</td>\n",
       "      <td>SUD</td>\n",
       "      <td>NaN</td>\n",
       "      <td>10</td>\n",
       "      <td>S1C</td>\n",
       "      <td>5</td>\n",
       "      <td>0</td>\n",
       "      <td>0</td>\n",
       "      <td>0</td>\n",
       "      <td>0</td>\n",
       "      <td>...</td>\n",
       "      <td>MEDELLIN</td>\n",
       "      <td>MEDELLIN OCCIDENTAL</td>\n",
       "      <td>MEDELLIN</td>\n",
       "      <td>MEDELLIN CENTRO OCCIDENTE</td>\n",
       "      <td>0</td>\n",
       "      <td>140000.0</td>\n",
       "      <td>AVG_TARIFA_TIGO</td>\n",
       "      <td>1.031262</td>\n",
       "      <td>3.0</td>\n",
       "      <td>0.0</td>\n",
       "    </tr>\n",
       "  </tbody>\n",
       "</table>\n",
       "<p>1 rows × 93 columns</p>\n",
       "</div>"
      ],
      "text/plain": [
       "           CUENTA COD_SERVICIO Velocidad Internet COD_NODO ESTRATO CARTERA  \\\n",
       "3133899  10000043          SUD       NaN       10      S1C       5       0   \n",
       "\n",
       "         CONGELACION  VIAJES  CAPACIDAD_DE_PAGO  ...      AREA  \\\n",
       "3133899            0       0                  0  ...  MEDELLIN   \n",
       "\n",
       "                        ZONA    CIUDAD                   DISTRITO  \\\n",
       "3133899  MEDELLIN OCCIDENTAL  MEDELLIN  MEDELLIN CENTRO OCCIDENTE   \n",
       "\n",
       "         BAJAS_TOTAL  comp_tarifa  operador_menor_tarifa  ALFA_tarifa  MES  \\\n",
       "3133899            0     140000.0        AVG_TARIFA_TIGO     1.031262  3.0   \n",
       "\n",
       "         Llamadas_3M  \n",
       "3133899          0.0  \n",
       "\n",
       "[1 rows x 93 columns]"
      ]
     },
     "execution_count": 41,
     "metadata": {},
     "output_type": "execute_result"
    }
   ],
   "source": [
    "data[data['CUENTA']=='10000043']"
   ]
  },
  {
   "cell_type": "markdown",
   "id": "d97a31aa",
   "metadata": {},
   "source": [
    "#### Llamadas Admins"
   ]
  },
  {
   "cell_type": "code",
   "execution_count": 42,
   "id": "35b8d4b8",
   "metadata": {},
   "outputs": [],
   "source": [
    "pv_cantidad_llamadas=pd.pivot_table(llamadas, columns=['KEY'], values=['ADMINISTRATIVO'],index=['FECHA'], aggfunc=np.sum)\n",
    "pv_cantidad_llamadas.columns= pv_cantidad_llamadas.columns.droplevel()\n",
    "pv_cantidad_llamadas=pv_cantidad_llamadas.fillna(0).reset_index()"
   ]
  },
  {
   "cell_type": "code",
   "execution_count": 43,
   "id": "59c654ce",
   "metadata": {},
   "outputs": [],
   "source": [
    "un_llamadas=pd.melt(pv_cantidad_llamadas, id_vars=['FECHA'], var_name='NODO', value_name='ADMIN')\n",
    "un_llamadas=un_llamadas.sort_values(['NODO','FECHA'])"
   ]
  },
  {
   "cell_type": "code",
   "execution_count": 44,
   "id": "cbab7ee6",
   "metadata": {},
   "outputs": [],
   "source": [
    "un_llamadas['CANT_1'] = un_llamadas.groupby(['NODO'])['ADMIN'].shift(1)\n",
    "un_llamadas['CANT_2'] = un_llamadas.groupby(['NODO'])['ADMIN'].shift(2)"
   ]
  },
  {
   "cell_type": "code",
   "execution_count": 45,
   "id": "d31ceb76",
   "metadata": {},
   "outputs": [],
   "source": [
    "un_llamadas['Llamadas_Admin_3M']=un_llamadas[['ADMIN','CANT_1','CANT_2']].sum(axis=1)\n",
    "un_llamadas[['CUENTA','COD_NODO']] = un_llamadas['NODO'].str.split('--',expand=True)"
   ]
  },
  {
   "cell_type": "code",
   "execution_count": 46,
   "id": "3fae667e",
   "metadata": {},
   "outputs": [],
   "source": [
    "un_llamadas=un_llamadas[un_llamadas['FECHA'].dt.year==2021]\n",
    "un_llamadas['MES']=un_llamadas['FECHA'].dt.month"
   ]
  },
  {
   "cell_type": "code",
   "execution_count": 47,
   "id": "9f28c157",
   "metadata": {},
   "outputs": [],
   "source": [
    "un_llamadas=un_llamadas.groupby(['CUENTA','COD_NODO','MES'])[['Llamadas_Admin_3M']].sum().reset_index()"
   ]
  },
  {
   "cell_type": "code",
   "execution_count": 48,
   "id": "a35587d9",
   "metadata": {},
   "outputs": [],
   "source": [
    "data=data.merge(un_llamadas[['COD_NODO','CUENTA','MES','Llamadas_Admin_3M']],left_on=['COD_NODO','CUENTA','FECHA'],right_on=['COD_NODO','CUENTA','MES'],how='left')"
   ]
  },
  {
   "cell_type": "code",
   "execution_count": 49,
   "id": "6dc3c9ae",
   "metadata": {},
   "outputs": [
    {
     "data": {
      "text/html": [
       "<div>\n",
       "<style scoped>\n",
       "    .dataframe tbody tr th:only-of-type {\n",
       "        vertical-align: middle;\n",
       "    }\n",
       "\n",
       "    .dataframe tbody tr th {\n",
       "        vertical-align: top;\n",
       "    }\n",
       "\n",
       "    .dataframe thead th {\n",
       "        text-align: right;\n",
       "    }\n",
       "</style>\n",
       "<table border=\"1\" class=\"dataframe\">\n",
       "  <thead>\n",
       "    <tr style=\"text-align: right;\">\n",
       "      <th></th>\n",
       "      <th>CUENTA</th>\n",
       "      <th>COD_SERVICIO</th>\n",
       "      <th>Velocidad</th>\n",
       "      <th>Internet</th>\n",
       "      <th>COD_NODO</th>\n",
       "      <th>ESTRATO</th>\n",
       "      <th>CARTERA</th>\n",
       "      <th>CONGELACION</th>\n",
       "      <th>VIAJES</th>\n",
       "      <th>CAPACIDAD_DE_PAGO</th>\n",
       "      <th>...</th>\n",
       "      <th>CIUDAD</th>\n",
       "      <th>DISTRITO</th>\n",
       "      <th>BAJAS_TOTAL</th>\n",
       "      <th>comp_tarifa</th>\n",
       "      <th>operador_menor_tarifa</th>\n",
       "      <th>ALFA_tarifa</th>\n",
       "      <th>MES_x</th>\n",
       "      <th>Llamadas_3M</th>\n",
       "      <th>MES_y</th>\n",
       "      <th>Llamadas_Admin_3M</th>\n",
       "    </tr>\n",
       "  </thead>\n",
       "  <tbody>\n",
       "    <tr>\n",
       "      <th>3133899</th>\n",
       "      <td>10000043</td>\n",
       "      <td>SUD</td>\n",
       "      <td>NaN</td>\n",
       "      <td>10</td>\n",
       "      <td>S1C</td>\n",
       "      <td>5</td>\n",
       "      <td>0</td>\n",
       "      <td>0</td>\n",
       "      <td>0</td>\n",
       "      <td>0</td>\n",
       "      <td>...</td>\n",
       "      <td>MEDELLIN</td>\n",
       "      <td>MEDELLIN CENTRO OCCIDENTE</td>\n",
       "      <td>0</td>\n",
       "      <td>140000.0</td>\n",
       "      <td>AVG_TARIFA_TIGO</td>\n",
       "      <td>1.031262</td>\n",
       "      <td>3.0</td>\n",
       "      <td>0.0</td>\n",
       "      <td>3.0</td>\n",
       "      <td>0.0</td>\n",
       "    </tr>\n",
       "  </tbody>\n",
       "</table>\n",
       "<p>1 rows × 95 columns</p>\n",
       "</div>"
      ],
      "text/plain": [
       "           CUENTA COD_SERVICIO Velocidad Internet COD_NODO ESTRATO CARTERA  \\\n",
       "3133899  10000043          SUD       NaN       10      S1C       5       0   \n",
       "\n",
       "         CONGELACION  VIAJES  CAPACIDAD_DE_PAGO  ...    CIUDAD  \\\n",
       "3133899            0       0                  0  ...  MEDELLIN   \n",
       "\n",
       "                          DISTRITO  BAJAS_TOTAL  comp_tarifa  \\\n",
       "3133899  MEDELLIN CENTRO OCCIDENTE            0     140000.0   \n",
       "\n",
       "         operador_menor_tarifa  ALFA_tarifa  MES_x  Llamadas_3M  MES_y  \\\n",
       "3133899        AVG_TARIFA_TIGO     1.031262    3.0          0.0    3.0   \n",
       "\n",
       "         Llamadas_Admin_3M  \n",
       "3133899                0.0  \n",
       "\n",
       "[1 rows x 95 columns]"
      ]
     },
     "execution_count": 49,
     "metadata": {},
     "output_type": "execute_result"
    }
   ],
   "source": [
    "data[data['CUENTA']=='10000043']"
   ]
  },
  {
   "cell_type": "markdown",
   "id": "fecbb220",
   "metadata": {},
   "source": [
    "## Llamadas Técnicas"
   ]
  },
  {
   "cell_type": "code",
   "execution_count": 50,
   "id": "960446f0",
   "metadata": {},
   "outputs": [],
   "source": [
    "pv_cantidad_llamadas=pd.pivot_table(llamadas, columns=['KEY'], values=['TECNICO'],index=['FECHA'], aggfunc=np.sum)\n",
    "pv_cantidad_llamadas.columns= pv_cantidad_llamadas.columns.droplevel()\n",
    "pv_cantidad_llamadas=pv_cantidad_llamadas.fillna(0).reset_index()\n",
    "un_llamadas=pd.melt(pv_cantidad_llamadas, id_vars=['FECHA'], var_name='NODO', value_name='TEC')\n",
    "un_llamadas=un_llamadas.sort_values(['NODO','FECHA'])\n",
    "un_llamadas['CANT_1'] = un_llamadas.groupby(['NODO'])['TEC'].shift(1)\n",
    "un_llamadas['CANT_2'] = un_llamadas.groupby(['NODO'])['TEC'].shift(2)"
   ]
  },
  {
   "cell_type": "code",
   "execution_count": 51,
   "id": "1a7093ed",
   "metadata": {},
   "outputs": [],
   "source": [
    "un_llamadas['Llamadas_Tecn_3M']=un_llamadas[['TEC','CANT_1','CANT_2']].sum(axis=1)\n",
    "un_llamadas[['CUENTA','COD_NODO']] = un_llamadas['NODO'].str.split('--',expand=True)\n",
    "un_llamadas=un_llamadas[un_llamadas['FECHA'].dt.year==2021]\n",
    "un_llamadas['MES']=un_llamadas['FECHA'].dt.month\n",
    "un_llamadas=un_llamadas.groupby(['CUENTA','COD_NODO','MES'])[['Llamadas_Tecn_3M']].sum().reset_index()\n",
    "data=data.merge(un_llamadas[['COD_NODO','CUENTA','MES','Llamadas_Tecn_3M']],left_on=['COD_NODO','CUENTA','FECHA'],right_on=['COD_NODO','CUENTA','MES'],how='left')"
   ]
  },
  {
   "cell_type": "code",
   "execution_count": 52,
   "id": "b5ae5c57",
   "metadata": {},
   "outputs": [
    {
     "data": {
      "text/html": [
       "<div>\n",
       "<style scoped>\n",
       "    .dataframe tbody tr th:only-of-type {\n",
       "        vertical-align: middle;\n",
       "    }\n",
       "\n",
       "    .dataframe tbody tr th {\n",
       "        vertical-align: top;\n",
       "    }\n",
       "\n",
       "    .dataframe thead th {\n",
       "        text-align: right;\n",
       "    }\n",
       "</style>\n",
       "<table border=\"1\" class=\"dataframe\">\n",
       "  <thead>\n",
       "    <tr style=\"text-align: right;\">\n",
       "      <th></th>\n",
       "      <th>CUENTA</th>\n",
       "      <th>COD_SERVICIO</th>\n",
       "      <th>Velocidad</th>\n",
       "      <th>Internet</th>\n",
       "      <th>COD_NODO</th>\n",
       "      <th>ESTRATO</th>\n",
       "      <th>CARTERA</th>\n",
       "      <th>CONGELACION</th>\n",
       "      <th>VIAJES</th>\n",
       "      <th>CAPACIDAD_DE_PAGO</th>\n",
       "      <th>...</th>\n",
       "      <th>BAJAS_TOTAL</th>\n",
       "      <th>comp_tarifa</th>\n",
       "      <th>operador_menor_tarifa</th>\n",
       "      <th>ALFA_tarifa</th>\n",
       "      <th>MES_x</th>\n",
       "      <th>Llamadas_3M</th>\n",
       "      <th>MES_y</th>\n",
       "      <th>Llamadas_Admin_3M</th>\n",
       "      <th>MES</th>\n",
       "      <th>Llamadas_Tecn_3M</th>\n",
       "    </tr>\n",
       "  </thead>\n",
       "  <tbody>\n",
       "    <tr>\n",
       "      <th>3133899</th>\n",
       "      <td>10000043</td>\n",
       "      <td>SUD</td>\n",
       "      <td>NaN</td>\n",
       "      <td>10</td>\n",
       "      <td>S1C</td>\n",
       "      <td>5</td>\n",
       "      <td>0</td>\n",
       "      <td>0</td>\n",
       "      <td>0</td>\n",
       "      <td>0</td>\n",
       "      <td>...</td>\n",
       "      <td>0</td>\n",
       "      <td>140000.0</td>\n",
       "      <td>AVG_TARIFA_TIGO</td>\n",
       "      <td>1.031262</td>\n",
       "      <td>3.0</td>\n",
       "      <td>0.0</td>\n",
       "      <td>3.0</td>\n",
       "      <td>0.0</td>\n",
       "      <td>3.0</td>\n",
       "      <td>0.0</td>\n",
       "    </tr>\n",
       "  </tbody>\n",
       "</table>\n",
       "<p>1 rows × 97 columns</p>\n",
       "</div>"
      ],
      "text/plain": [
       "           CUENTA COD_SERVICIO Velocidad Internet COD_NODO ESTRATO CARTERA  \\\n",
       "3133899  10000043          SUD       NaN       10      S1C       5       0   \n",
       "\n",
       "         CONGELACION  VIAJES  CAPACIDAD_DE_PAGO  ...  BAJAS_TOTAL  \\\n",
       "3133899            0       0                  0  ...            0   \n",
       "\n",
       "         comp_tarifa  operador_menor_tarifa  ALFA_tarifa  MES_x  Llamadas_3M  \\\n",
       "3133899     140000.0        AVG_TARIFA_TIGO     1.031262    3.0          0.0   \n",
       "\n",
       "         MES_y  Llamadas_Admin_3M  MES  Llamadas_Tecn_3M  \n",
       "3133899    3.0                0.0  3.0               0.0  \n",
       "\n",
       "[1 rows x 97 columns]"
      ]
     },
     "execution_count": 52,
     "metadata": {},
     "output_type": "execute_result"
    }
   ],
   "source": [
    "data[data['CUENTA']=='10000043']"
   ]
  },
  {
   "cell_type": "code",
   "execution_count": 53,
   "id": "ea9fde33",
   "metadata": {},
   "outputs": [
    {
     "data": {
      "text/html": [
       "<div>\n",
       "<style scoped>\n",
       "    .dataframe tbody tr th:only-of-type {\n",
       "        vertical-align: middle;\n",
       "    }\n",
       "\n",
       "    .dataframe tbody tr th {\n",
       "        vertical-align: top;\n",
       "    }\n",
       "\n",
       "    .dataframe thead th {\n",
       "        text-align: right;\n",
       "    }\n",
       "</style>\n",
       "<table border=\"1\" class=\"dataframe\">\n",
       "  <thead>\n",
       "    <tr style=\"text-align: right;\">\n",
       "      <th></th>\n",
       "      <th>Llamadas_3M</th>\n",
       "      <th>Llamadas_Admin_3M</th>\n",
       "      <th>Llamadas_Tecn_3M</th>\n",
       "    </tr>\n",
       "  </thead>\n",
       "  <tbody>\n",
       "    <tr>\n",
       "      <th>count</th>\n",
       "      <td>3.379624e+06</td>\n",
       "      <td>3.379624e+06</td>\n",
       "      <td>3.379624e+06</td>\n",
       "    </tr>\n",
       "    <tr>\n",
       "      <th>mean</th>\n",
       "      <td>2.895890e+00</td>\n",
       "      <td>1.888975e+00</td>\n",
       "      <td>9.412056e-01</td>\n",
       "    </tr>\n",
       "    <tr>\n",
       "      <th>std</th>\n",
       "      <td>3.931192e+00</td>\n",
       "      <td>2.801573e+00</td>\n",
       "      <td>1.894154e+00</td>\n",
       "    </tr>\n",
       "    <tr>\n",
       "      <th>min</th>\n",
       "      <td>0.000000e+00</td>\n",
       "      <td>0.000000e+00</td>\n",
       "      <td>0.000000e+00</td>\n",
       "    </tr>\n",
       "    <tr>\n",
       "      <th>25%</th>\n",
       "      <td>0.000000e+00</td>\n",
       "      <td>0.000000e+00</td>\n",
       "      <td>0.000000e+00</td>\n",
       "    </tr>\n",
       "    <tr>\n",
       "      <th>50%</th>\n",
       "      <td>2.000000e+00</td>\n",
       "      <td>1.000000e+00</td>\n",
       "      <td>0.000000e+00</td>\n",
       "    </tr>\n",
       "    <tr>\n",
       "      <th>75%</th>\n",
       "      <td>4.000000e+00</td>\n",
       "      <td>3.000000e+00</td>\n",
       "      <td>1.000000e+00</td>\n",
       "    </tr>\n",
       "    <tr>\n",
       "      <th>max</th>\n",
       "      <td>3.730000e+02</td>\n",
       "      <td>2.500000e+02</td>\n",
       "      <td>2.380000e+02</td>\n",
       "    </tr>\n",
       "  </tbody>\n",
       "</table>\n",
       "</div>"
      ],
      "text/plain": [
       "        Llamadas_3M  Llamadas_Admin_3M  Llamadas_Tecn_3M\n",
       "count  3.379624e+06       3.379624e+06      3.379624e+06\n",
       "mean   2.895890e+00       1.888975e+00      9.412056e-01\n",
       "std    3.931192e+00       2.801573e+00      1.894154e+00\n",
       "min    0.000000e+00       0.000000e+00      0.000000e+00\n",
       "25%    0.000000e+00       0.000000e+00      0.000000e+00\n",
       "50%    2.000000e+00       1.000000e+00      0.000000e+00\n",
       "75%    4.000000e+00       3.000000e+00      1.000000e+00\n",
       "max    3.730000e+02       2.500000e+02      2.380000e+02"
      ]
     },
     "execution_count": 53,
     "metadata": {},
     "output_type": "execute_result"
    }
   ],
   "source": [
    "data[['Llamadas_3M','Llamadas_Admin_3M','Llamadas_Tecn_3M']].describe()"
   ]
  },
  {
   "cell_type": "code",
   "execution_count": 54,
   "id": "1dad5cdb",
   "metadata": {},
   "outputs": [],
   "source": [
    "data.drop(columns=['MES_x','MES_y','MES'],inplace=True)"
   ]
  },
  {
   "cell_type": "code",
   "execution_count": 55,
   "id": "26b19050",
   "metadata": {},
   "outputs": [],
   "source": [
    "###  VAlidar  ALFA y BETA (tarifa) por NODO"
   ]
  },
  {
   "cell_type": "code",
   "execution_count": 56,
   "id": "4222418f",
   "metadata": {},
   "outputs": [
    {
     "data": {
      "text/plain": [
       "123"
      ]
     },
     "execution_count": 56,
     "metadata": {},
     "output_type": "execute_result"
    }
   ],
   "source": [
    "import gc\n",
    "del un_llamadas\n",
    "del pv_cantidad_llamadas\n",
    "gc.collect()"
   ]
  },
  {
   "cell_type": "markdown",
   "id": "c492cf8f",
   "metadata": {},
   "source": [
    "### Calidad"
   ]
  },
  {
   "cell_type": "code",
   "execution_count": 57,
   "id": "108a9828",
   "metadata": {
    "scrolled": true
   },
   "outputs": [],
   "source": [
    "#data_cal=pd.read_csv('user_rssi_device.csv',sep=';', header = 0)\n",
    "#data_cal"
   ]
  },
  {
   "cell_type": "code",
   "execution_count": 58,
   "id": "57b7cf87",
   "metadata": {},
   "outputs": [],
   "source": [
    "#data_cal['MES']=(data_cal['fecha']%100)"
   ]
  },
  {
   "cell_type": "code",
   "execution_count": 59,
   "id": "c1198f18",
   "metadata": {},
   "outputs": [],
   "source": [
    "#data.dtypes['FECHA']"
   ]
  },
  {
   "cell_type": "code",
   "execution_count": 60,
   "id": "cda31ef1",
   "metadata": {},
   "outputs": [],
   "source": [
    "#data_cal['MES']=data_cal['MES'].astype('Int64')"
   ]
  },
  {
   "cell_type": "code",
   "execution_count": 61,
   "id": "07820b2c",
   "metadata": {},
   "outputs": [],
   "source": [
    "#data_cal['cuenta']=data_cal['cuenta'].astype('Int64')\n",
    "#data_cal['cuenta']=data_cal['cuenta'].astype(str)"
   ]
  },
  {
   "cell_type": "code",
   "execution_count": 62,
   "id": "9181aa73",
   "metadata": {},
   "outputs": [],
   "source": [
    "#data_cal=data_cal.groupby(['cuenta','MES'])['val_cantidad_muestras','val_muestras_ok'].sum().reset_index()"
   ]
  },
  {
   "cell_type": "code",
   "execution_count": 63,
   "id": "246b1c97",
   "metadata": {},
   "outputs": [],
   "source": [
    "#data_cal"
   ]
  },
  {
   "cell_type": "code",
   "execution_count": 64,
   "id": "d9920d43",
   "metadata": {},
   "outputs": [],
   "source": [
    "#data=data.merge(data_cal,left_on=['CUENTA','FECHA'],right_on=['cuenta','MES'],how='left')"
   ]
  },
  {
   "cell_type": "code",
   "execution_count": 65,
   "id": "4cdf386c",
   "metadata": {},
   "outputs": [],
   "source": [
    "#data['ind_calidad']=data['val_muestras_ok']/data['val_cantidad_muestras']"
   ]
  },
  {
   "cell_type": "markdown",
   "id": "2174cba8",
   "metadata": {},
   "source": [
    "### Dataset Completo"
   ]
  },
  {
   "cell_type": "code",
   "execution_count": 66,
   "id": "d6a3f872",
   "metadata": {},
   "outputs": [
    {
     "data": {
      "text/plain": [
       "Index(['CUENTA', 'COD_SERVICIO', 'Velocidad', 'Internet', 'COD_NODO',\n",
       "       'ESTRATO', 'CARTERA', 'CONGELACION', 'VIAJES', 'CAPACIDAD_DE_PAGO',\n",
       "       'CAUSAS_EXTERNAS', 'COMPETENCIA', 'MAL_SERVICIO', 'NO_UTILIZAR',\n",
       "       'NO_GUSTO', 'SIN_MOTIVO', 'SIN_CONTACTO', 'TRASLADOS', 'OTROS',\n",
       "       'CD_BLANCOS_CAMBIOS_OTROS', 'CAMBIO_DE_SERVICIO', 'CAMBIO_TARIFA',\n",
       "       'EMPAQUETAMIENTO', 'CESION_DE_CONTRATO', 'UNIFICACION_EMPAQUETAMIENTO',\n",
       "       'CD_BLANCOS_CAMBIOS_SERVICIO', 'FECHA', 'CHURN_TEMPRANO',\n",
       "       'INVOLUNTARIO', 'VOLUNTARIO', 'TIPO_RAZON', 'CANTIDAD_LLAMADAS',\n",
       "       'CANTIDAD_ADMIN', 'CANTIDAD_TECNICO', 'CAMPANA_HBO', 'CAMPANA_FOX',\n",
       "       'CAMPANA_ADULTO', 'CAMPANA_EQUIPOS_ADIC', 'CAMPANA_ULTRAWIFI',\n",
       "       'CAMPANA_VOZ', 'CAMPANA_RETENCION', 'CAMPANA_AFECTACION_SRV',\n",
       "       'PART_CANT_CALL', 'CANT_USER', 'PROM_VEL', 'VEL_ME_8', 'VEL_10_25',\n",
       "       'VEL_30', 'VEL_40_50', 'VEL_MA_60', 'CONVERGENTE', 'PROM_VEL_HOGAR',\n",
       "       'MEDIANA_VEL', 'PROM_RENTA', 'PRECIO_MEGA_CLARO_1', 'CANTIDAD_churn',\n",
       "       'ANTIGUEDAD_MESES_PROM', 'ANTIGUEDAD_MESES_MED', 'AVG_TARIFA_TIGO',\n",
       "       'AVG_TIGO_MEGAS', 'PRECIO_MEGA_TIGO_1', 'AVG_TARIFA_ETB',\n",
       "       'AVG_ETB_MEGAS', 'PRECIO_MEGA_ETB_1', 'AVG_TARIFA_MOVISTAR',\n",
       "       'AVG_MOVISTAR_MEGAS', 'AVG_MOV_MEGAS', 'OPERADOR_TIGO_OOKLA',\n",
       "       'OPERADOR_ETB_OOKLA', 'OPERADOR_MOVISTAR_OOKLA', 'SUMA_OPERADORES',\n",
       "       'RANK1_VEL_DWLD', 'OP_CLARO', 'CANTIDAD', 'PENETRACION', 'OCUPACION_DW',\n",
       "       'OCUPACION_UP', 'ALFA', 'BETA', 'MEGA', 'NIVEL_ALARMA_MALO',\n",
       "       'NIVEL_ALARMA_BUENO', 'DIVISION', 'AREA', 'ZONA', 'CIUDAD', 'DISTRITO',\n",
       "       'BAJAS_TOTAL', 'comp_tarifa', 'operador_menor_tarifa', 'ALFA_tarifa',\n",
       "       'Llamadas_3M', 'Llamadas_Admin_3M', 'Llamadas_Tecn_3M'],\n",
       "      dtype='object')"
      ]
     },
     "execution_count": 66,
     "metadata": {},
     "output_type": "execute_result"
    }
   ],
   "source": [
    "data.columns"
   ]
  },
  {
   "cell_type": "code",
   "execution_count": 67,
   "id": "9870f7fd",
   "metadata": {},
   "outputs": [],
   "source": [
    "sel_variables_descrip=['CUENTA','FECHA','COD_NODO','INVOLUNTARIO', 'VOLUNTARIO','DIVISION', 'AREA', 'ZONA', 'CIUDAD', 'DISTRITO','CHURN_TEMPRANO']\n",
    "sel_variables_razones=['CONGELACION','VIAJES','CAPACIDAD_DE_PAGO','CAUSAS_EXTERNAS','COMPETENCIA','MAL_SERVICIO','NO_UTILIZAR',\n",
    "                    'NO_GUSTO','SIN_MOTIVO','SIN_CONTACTO','TRASLADOS','OTROS','CAMBIO_DE_SERVICIO','CAMBIO_TARIFA','EMPAQUETAMIENTO',\n",
    "                    'CESION_DE_CONTRATO','UNIFICACION_EMPAQUETAMIENTO','BAJAS_TOTAL']\n",
    "sel_variables_causas2=['ALFA_tarifa','ALFA', 'BETA', 'MEGA','Llamadas_3M', 'Llamadas_Admin_3M', 'Llamadas_Tecn_3M','PROM_VEL_HOGAR']"
   ]
  },
  {
   "cell_type": "code",
   "execution_count": 68,
   "id": "cf71871a",
   "metadata": {
    "scrolled": true
   },
   "outputs": [],
   "source": [
    "data.to_csv('dataSetCompleto_actual.csv',index=False)"
   ]
  },
  {
   "cell_type": "code",
   "execution_count": 69,
   "id": "dd33f97a",
   "metadata": {},
   "outputs": [],
   "source": [
    "#data[sel_variables_descrip+sel_variables_razones+sel_variables_causas2].to_csv('dataSet_variables.csv')"
   ]
  },
  {
   "cell_type": "markdown",
   "id": "f1b45bec",
   "metadata": {},
   "source": [
    "## Procesar Nodos"
   ]
  },
  {
   "cell_type": "code",
   "execution_count": 70,
   "id": "6ff34d4a",
   "metadata": {},
   "outputs": [
    {
     "data": {
      "text/plain": [
       "-1    3234383\n",
       " 0     514009\n",
       "Name: VOLUNTARIO, dtype: int64"
      ]
     },
     "execution_count": 70,
     "metadata": {},
     "output_type": "execute_result"
    }
   ],
   "source": [
    "data['VOLUNTARIO'].value_counts()"
   ]
  },
  {
   "cell_type": "code",
   "execution_count": 71,
   "id": "85766932",
   "metadata": {},
   "outputs": [],
   "source": [
    "sel_variables_descrip=['CUENTA','FECHA','COD_NODO','INVOLUNTARIO', 'VOLUNTARIO','DIVISION', 'AREA', 'ZONA', 'CIUDAD', 'DISTRITO','CHURN_TEMPRANO']\n",
    "sel_variables_razones=['CONGELACION','VIAJES','CAPACIDAD_DE_PAGO','CAUSAS_EXTERNAS','COMPETENCIA','MAL_SERVICIO','NO_UTILIZAR',\n",
    "                    'NO_GUSTO','SIN_MOTIVO','SIN_CONTACTO','TRASLADOS','OTROS','CAMBIO_DE_SERVICIO','CAMBIO_TARIFA','EMPAQUETAMIENTO',\n",
    "                    'CESION_DE_CONTRATO','UNIFICACION_EMPAQUETAMIENTO','BAJAS_TOTAL']\n",
    "sel_variables_causas2=['ALFA_tarifa','ALFA', 'BETA', 'MEGA','Llamadas_Admin_3M', 'Llamadas_Tecn_3M']"
   ]
  },
  {
   "cell_type": "code",
   "execution_count": 72,
   "id": "5c8bf325",
   "metadata": {},
   "outputs": [],
   "source": [
    "data=data[data['VOLUNTARIO']==-1]"
   ]
  },
  {
   "cell_type": "code",
   "execution_count": 73,
   "id": "01650c69",
   "metadata": {},
   "outputs": [],
   "source": [
    "for col in sel_variables_razones :\n",
    "    data[col]=data[col]*-1"
   ]
  },
  {
   "cell_type": "code",
   "execution_count": 74,
   "id": "d5a327e8",
   "metadata": {},
   "outputs": [],
   "source": [
    "data=data[(data['BAJAS_TOTAL']>=1)&(data['BAJAS_TOTAL']<=2)]"
   ]
  },
  {
   "cell_type": "code",
   "execution_count": 75,
   "id": "49bb8bb6",
   "metadata": {},
   "outputs": [],
   "source": [
    "data=data[(data['FECHA']>=1)&(data['FECHA']<=10)]"
   ]
  },
  {
   "cell_type": "code",
   "execution_count": 76,
   "id": "95dff5d6",
   "metadata": {},
   "outputs": [],
   "source": [
    "nodos_tab=data.groupby(['FECHA','COD_NODO'])[['CANT_USER']].min().reset_index()"
   ]
  },
  {
   "cell_type": "code",
   "execution_count": 77,
   "id": "b15d443d",
   "metadata": {},
   "outputs": [],
   "source": [
    "nodos_tab_bajas=data.groupby(['FECHA','COD_NODO'])[sel_variables_razones].sum().reset_index()"
   ]
  },
  {
   "cell_type": "code",
   "execution_count": 78,
   "id": "f190a1c2",
   "metadata": {},
   "outputs": [],
   "source": [
    "data_comp=data[['COD_NODO','FECHA']+sel_variables_causas2].groupby(['COD_NODO','FECHA']).mean()\n",
    "data_comp.reset_index(inplace=True)\n",
    "data_comp.sort_values(['COD_NODO','FECHA'],inplace=True)"
   ]
  },
  {
   "cell_type": "code",
   "execution_count": 79,
   "id": "0386d7d7",
   "metadata": {},
   "outputs": [
    {
     "data": {
      "text/html": [
       "<div>\n",
       "<style scoped>\n",
       "    .dataframe tbody tr th:only-of-type {\n",
       "        vertical-align: middle;\n",
       "    }\n",
       "\n",
       "    .dataframe tbody tr th {\n",
       "        vertical-align: top;\n",
       "    }\n",
       "\n",
       "    .dataframe thead th {\n",
       "        text-align: right;\n",
       "    }\n",
       "</style>\n",
       "<table border=\"1\" class=\"dataframe\">\n",
       "  <thead>\n",
       "    <tr style=\"text-align: right;\">\n",
       "      <th></th>\n",
       "      <th>FECHA</th>\n",
       "      <th>COD_NODO</th>\n",
       "      <th>CANT_USER</th>\n",
       "      <th>CONGELACION</th>\n",
       "      <th>VIAJES</th>\n",
       "      <th>CAPACIDAD_DE_PAGO</th>\n",
       "      <th>CAUSAS_EXTERNAS</th>\n",
       "      <th>COMPETENCIA</th>\n",
       "      <th>MAL_SERVICIO</th>\n",
       "      <th>NO_UTILIZAR</th>\n",
       "      <th>...</th>\n",
       "      <th>EMPAQUETAMIENTO</th>\n",
       "      <th>CESION_DE_CONTRATO</th>\n",
       "      <th>UNIFICACION_EMPAQUETAMIENTO</th>\n",
       "      <th>BAJAS_TOTAL</th>\n",
       "      <th>ALFA_tarifa</th>\n",
       "      <th>ALFA</th>\n",
       "      <th>BETA</th>\n",
       "      <th>MEGA</th>\n",
       "      <th>Llamadas_Admin_3M</th>\n",
       "      <th>Llamadas_Tecn_3M</th>\n",
       "    </tr>\n",
       "  </thead>\n",
       "  <tbody>\n",
       "    <tr>\n",
       "      <th>0</th>\n",
       "      <td>1</td>\n",
       "      <td>01S</td>\n",
       "      <td>159.0</td>\n",
       "      <td>0</td>\n",
       "      <td>0</td>\n",
       "      <td>0</td>\n",
       "      <td>0</td>\n",
       "      <td>0</td>\n",
       "      <td>1</td>\n",
       "      <td>0</td>\n",
       "      <td>...</td>\n",
       "      <td>0</td>\n",
       "      <td>0</td>\n",
       "      <td>0</td>\n",
       "      <td>1</td>\n",
       "      <td>NaN</td>\n",
       "      <td>0.420691</td>\n",
       "      <td>0.824528</td>\n",
       "      <td>0.510220</td>\n",
       "      <td>3.000</td>\n",
       "      <td>0.000000</td>\n",
       "    </tr>\n",
       "    <tr>\n",
       "      <th>1</th>\n",
       "      <td>1</td>\n",
       "      <td>02S</td>\n",
       "      <td>135.0</td>\n",
       "      <td>2</td>\n",
       "      <td>0</td>\n",
       "      <td>0</td>\n",
       "      <td>0</td>\n",
       "      <td>0</td>\n",
       "      <td>0</td>\n",
       "      <td>0</td>\n",
       "      <td>...</td>\n",
       "      <td>0</td>\n",
       "      <td>0</td>\n",
       "      <td>0</td>\n",
       "      <td>4</td>\n",
       "      <td>1.274914</td>\n",
       "      <td>0.757639</td>\n",
       "      <td>0.938875</td>\n",
       "      <td>0.806965</td>\n",
       "      <td>3.250</td>\n",
       "      <td>0.750000</td>\n",
       "    </tr>\n",
       "    <tr>\n",
       "      <th>2</th>\n",
       "      <td>1</td>\n",
       "      <td>03J</td>\n",
       "      <td>32.0</td>\n",
       "      <td>0</td>\n",
       "      <td>0</td>\n",
       "      <td>0</td>\n",
       "      <td>0</td>\n",
       "      <td>0</td>\n",
       "      <td>1</td>\n",
       "      <td>1</td>\n",
       "      <td>...</td>\n",
       "      <td>0</td>\n",
       "      <td>0</td>\n",
       "      <td>0</td>\n",
       "      <td>2</td>\n",
       "      <td>NaN</td>\n",
       "      <td>NaN</td>\n",
       "      <td>1.483871</td>\n",
       "      <td>NaN</td>\n",
       "      <td>6.000</td>\n",
       "      <td>0.500000</td>\n",
       "    </tr>\n",
       "    <tr>\n",
       "      <th>3</th>\n",
       "      <td>1</td>\n",
       "      <td>05J</td>\n",
       "      <td>63.0</td>\n",
       "      <td>0</td>\n",
       "      <td>0</td>\n",
       "      <td>1</td>\n",
       "      <td>0</td>\n",
       "      <td>0</td>\n",
       "      <td>0</td>\n",
       "      <td>0</td>\n",
       "      <td>...</td>\n",
       "      <td>0</td>\n",
       "      <td>0</td>\n",
       "      <td>0</td>\n",
       "      <td>3</td>\n",
       "      <td>NaN</td>\n",
       "      <td>NaN</td>\n",
       "      <td>NaN</td>\n",
       "      <td>3.477203</td>\n",
       "      <td>8.000</td>\n",
       "      <td>0.666667</td>\n",
       "    </tr>\n",
       "    <tr>\n",
       "      <th>4</th>\n",
       "      <td>1</td>\n",
       "      <td>0A6</td>\n",
       "      <td>96.0</td>\n",
       "      <td>1</td>\n",
       "      <td>0</td>\n",
       "      <td>0</td>\n",
       "      <td>0</td>\n",
       "      <td>0</td>\n",
       "      <td>0</td>\n",
       "      <td>0</td>\n",
       "      <td>...</td>\n",
       "      <td>0</td>\n",
       "      <td>0</td>\n",
       "      <td>0</td>\n",
       "      <td>2</td>\n",
       "      <td>NaN</td>\n",
       "      <td>0.063186</td>\n",
       "      <td>0.213823</td>\n",
       "      <td>0.295505</td>\n",
       "      <td>9.000</td>\n",
       "      <td>0.000000</td>\n",
       "    </tr>\n",
       "    <tr>\n",
       "      <th>...</th>\n",
       "      <td>...</td>\n",
       "      <td>...</td>\n",
       "      <td>...</td>\n",
       "      <td>...</td>\n",
       "      <td>...</td>\n",
       "      <td>...</td>\n",
       "      <td>...</td>\n",
       "      <td>...</td>\n",
       "      <td>...</td>\n",
       "      <td>...</td>\n",
       "      <td>...</td>\n",
       "      <td>...</td>\n",
       "      <td>...</td>\n",
       "      <td>...</td>\n",
       "      <td>...</td>\n",
       "      <td>...</td>\n",
       "      <td>...</td>\n",
       "      <td>...</td>\n",
       "      <td>...</td>\n",
       "      <td>...</td>\n",
       "      <td>...</td>\n",
       "    </tr>\n",
       "    <tr>\n",
       "      <th>106336</th>\n",
       "      <td>10</td>\n",
       "      <td>ZVG</td>\n",
       "      <td>299.0</td>\n",
       "      <td>1</td>\n",
       "      <td>0</td>\n",
       "      <td>0</td>\n",
       "      <td>0</td>\n",
       "      <td>0</td>\n",
       "      <td>0</td>\n",
       "      <td>0</td>\n",
       "      <td>...</td>\n",
       "      <td>0</td>\n",
       "      <td>0</td>\n",
       "      <td>0</td>\n",
       "      <td>2</td>\n",
       "      <td>1.041562</td>\n",
       "      <td>NaN</td>\n",
       "      <td>NaN</td>\n",
       "      <td>0.553299</td>\n",
       "      <td>3.000</td>\n",
       "      <td>0.500000</td>\n",
       "    </tr>\n",
       "    <tr>\n",
       "      <th>106337</th>\n",
       "      <td>10</td>\n",
       "      <td>ZVS</td>\n",
       "      <td>487.0</td>\n",
       "      <td>0</td>\n",
       "      <td>0</td>\n",
       "      <td>0</td>\n",
       "      <td>0</td>\n",
       "      <td>0</td>\n",
       "      <td>0</td>\n",
       "      <td>2</td>\n",
       "      <td>...</td>\n",
       "      <td>0</td>\n",
       "      <td>0</td>\n",
       "      <td>0</td>\n",
       "      <td>8</td>\n",
       "      <td>0.952015</td>\n",
       "      <td>6.214923</td>\n",
       "      <td>4.209790</td>\n",
       "      <td>1.476302</td>\n",
       "      <td>1.625</td>\n",
       "      <td>0.750000</td>\n",
       "    </tr>\n",
       "    <tr>\n",
       "      <th>106338</th>\n",
       "      <td>10</td>\n",
       "      <td>ZVT</td>\n",
       "      <td>141.0</td>\n",
       "      <td>1</td>\n",
       "      <td>0</td>\n",
       "      <td>0</td>\n",
       "      <td>0</td>\n",
       "      <td>0</td>\n",
       "      <td>0</td>\n",
       "      <td>0</td>\n",
       "      <td>...</td>\n",
       "      <td>0</td>\n",
       "      <td>0</td>\n",
       "      <td>0</td>\n",
       "      <td>2</td>\n",
       "      <td>0.542212</td>\n",
       "      <td>2.595187</td>\n",
       "      <td>1.575916</td>\n",
       "      <td>1.646780</td>\n",
       "      <td>2.000</td>\n",
       "      <td>0.000000</td>\n",
       "    </tr>\n",
       "    <tr>\n",
       "      <th>106339</th>\n",
       "      <td>10</td>\n",
       "      <td>ZVZ</td>\n",
       "      <td>445.0</td>\n",
       "      <td>0</td>\n",
       "      <td>0</td>\n",
       "      <td>0</td>\n",
       "      <td>0</td>\n",
       "      <td>0</td>\n",
       "      <td>0</td>\n",
       "      <td>1</td>\n",
       "      <td>...</td>\n",
       "      <td>0</td>\n",
       "      <td>0</td>\n",
       "      <td>0</td>\n",
       "      <td>5</td>\n",
       "      <td>NaN</td>\n",
       "      <td>0.583469</td>\n",
       "      <td>1.106707</td>\n",
       "      <td>0.527211</td>\n",
       "      <td>4.500</td>\n",
       "      <td>0.500000</td>\n",
       "    </tr>\n",
       "    <tr>\n",
       "      <th>106340</th>\n",
       "      <td>10</td>\n",
       "      <td>ago-01</td>\n",
       "      <td>NaN</td>\n",
       "      <td>1</td>\n",
       "      <td>2</td>\n",
       "      <td>1</td>\n",
       "      <td>0</td>\n",
       "      <td>1</td>\n",
       "      <td>0</td>\n",
       "      <td>0</td>\n",
       "      <td>...</td>\n",
       "      <td>0</td>\n",
       "      <td>0</td>\n",
       "      <td>0</td>\n",
       "      <td>6</td>\n",
       "      <td>NaN</td>\n",
       "      <td>NaN</td>\n",
       "      <td>NaN</td>\n",
       "      <td>NaN</td>\n",
       "      <td>NaN</td>\n",
       "      <td>NaN</td>\n",
       "    </tr>\n",
       "  </tbody>\n",
       "</table>\n",
       "<p>106341 rows × 27 columns</p>\n",
       "</div>"
      ],
      "text/plain": [
       "        FECHA COD_NODO  CANT_USER  CONGELACION  VIAJES  CAPACIDAD_DE_PAGO  \\\n",
       "0           1      01S      159.0            0       0                  0   \n",
       "1           1      02S      135.0            2       0                  0   \n",
       "2           1      03J       32.0            0       0                  0   \n",
       "3           1      05J       63.0            0       0                  1   \n",
       "4           1      0A6       96.0            1       0                  0   \n",
       "...       ...      ...        ...          ...     ...                ...   \n",
       "106336     10      ZVG      299.0            1       0                  0   \n",
       "106337     10      ZVS      487.0            0       0                  0   \n",
       "106338     10      ZVT      141.0            1       0                  0   \n",
       "106339     10      ZVZ      445.0            0       0                  0   \n",
       "106340     10   ago-01        NaN            1       2                  1   \n",
       "\n",
       "        CAUSAS_EXTERNAS  COMPETENCIA  MAL_SERVICIO  NO_UTILIZAR  ...  \\\n",
       "0                     0            0             1            0  ...   \n",
       "1                     0            0             0            0  ...   \n",
       "2                     0            0             1            1  ...   \n",
       "3                     0            0             0            0  ...   \n",
       "4                     0            0             0            0  ...   \n",
       "...                 ...          ...           ...          ...  ...   \n",
       "106336                0            0             0            0  ...   \n",
       "106337                0            0             0            2  ...   \n",
       "106338                0            0             0            0  ...   \n",
       "106339                0            0             0            1  ...   \n",
       "106340                0            1             0            0  ...   \n",
       "\n",
       "        EMPAQUETAMIENTO  CESION_DE_CONTRATO  UNIFICACION_EMPAQUETAMIENTO  \\\n",
       "0                     0                   0                            0   \n",
       "1                     0                   0                            0   \n",
       "2                     0                   0                            0   \n",
       "3                     0                   0                            0   \n",
       "4                     0                   0                            0   \n",
       "...                 ...                 ...                          ...   \n",
       "106336                0                   0                            0   \n",
       "106337                0                   0                            0   \n",
       "106338                0                   0                            0   \n",
       "106339                0                   0                            0   \n",
       "106340                0                   0                            0   \n",
       "\n",
       "        BAJAS_TOTAL  ALFA_tarifa      ALFA      BETA      MEGA  \\\n",
       "0                 1          NaN  0.420691  0.824528  0.510220   \n",
       "1                 4     1.274914  0.757639  0.938875  0.806965   \n",
       "2                 2          NaN       NaN  1.483871       NaN   \n",
       "3                 3          NaN       NaN       NaN  3.477203   \n",
       "4                 2          NaN  0.063186  0.213823  0.295505   \n",
       "...             ...          ...       ...       ...       ...   \n",
       "106336            2     1.041562       NaN       NaN  0.553299   \n",
       "106337            8     0.952015  6.214923  4.209790  1.476302   \n",
       "106338            2     0.542212  2.595187  1.575916  1.646780   \n",
       "106339            5          NaN  0.583469  1.106707  0.527211   \n",
       "106340            6          NaN       NaN       NaN       NaN   \n",
       "\n",
       "        Llamadas_Admin_3M  Llamadas_Tecn_3M  \n",
       "0                   3.000          0.000000  \n",
       "1                   3.250          0.750000  \n",
       "2                   6.000          0.500000  \n",
       "3                   8.000          0.666667  \n",
       "4                   9.000          0.000000  \n",
       "...                   ...               ...  \n",
       "106336              3.000          0.500000  \n",
       "106337              1.625          0.750000  \n",
       "106338              2.000          0.000000  \n",
       "106339              4.500          0.500000  \n",
       "106340                NaN               NaN  \n",
       "\n",
       "[106341 rows x 27 columns]"
      ]
     },
     "execution_count": 79,
     "metadata": {},
     "output_type": "execute_result"
    }
   ],
   "source": [
    "Nodos_Final=nodos_tab.merge(nodos_tab_bajas, left_on=['COD_NODO','FECHA'], right_on=['COD_NODO','FECHA'])\n",
    "Nodos_Final=Nodos_Final.merge(data_comp, left_on=['COD_NODO','FECHA'], right_on=['COD_NODO','FECHA'])\n",
    "Nodos_Final"
   ]
  },
  {
   "cell_type": "code",
   "execution_count": 80,
   "id": "b97e1a5b",
   "metadata": {},
   "outputs": [],
   "source": [
    "Nodos_Final['Llamadas_Admin_3M']=Nodos_Final['Llamadas_Admin_3M']/Nodos_Final['CANT_USER']\n",
    "Nodos_Final['Llamadas_Tecn_3M']=Nodos_Final['Llamadas_Tecn_3M']/Nodos_Final['CANT_USER']"
   ]
  },
  {
   "cell_type": "code",
   "execution_count": 81,
   "id": "e5959dee",
   "metadata": {},
   "outputs": [],
   "source": [
    "Nodos_Final['ind_churn']=np.where(Nodos_Final['CANT_USER']>0,Nodos_Final['BAJAS_TOTAL']/Nodos_Final['CANT_USER'],np.nan)"
   ]
  },
  {
   "cell_type": "markdown",
   "id": "57ad74fa",
   "metadata": {},
   "source": [
    "## Seleccion de Nodos"
   ]
  },
  {
   "cell_type": "code",
   "execution_count": 82,
   "id": "26b215d9",
   "metadata": {},
   "outputs": [
    {
     "name": "stdout",
     "output_type": "stream",
     "text": [
      "Nodos:  14065  Registros (nodosxmes):  106341\n"
     ]
    }
   ],
   "source": [
    "print('Nodos: ',Nodos_Final['COD_NODO'].nunique(), ' Registros (nodosxmes): ', len(Nodos_Final))"
   ]
  },
  {
   "cell_type": "code",
   "execution_count": 83,
   "id": "b9cec781",
   "metadata": {},
   "outputs": [],
   "source": [
    "Nodos_Final_fil=Nodos_Final[Nodos_Final['CANT_USER']>30]"
   ]
  },
  {
   "cell_type": "code",
   "execution_count": 84,
   "id": "cce98741",
   "metadata": {},
   "outputs": [
    {
     "name": "stdout",
     "output_type": "stream",
     "text": [
      "Nodos:  12624  Registros (nodosxmes):  103026\n"
     ]
    }
   ],
   "source": [
    "print('Nodos: ',Nodos_Final_fil['COD_NODO'].nunique(), ' Registros (nodosxmes): ', len(Nodos_Final_fil))"
   ]
  },
  {
   "cell_type": "code",
   "execution_count": 85,
   "id": "c192a327",
   "metadata": {},
   "outputs": [],
   "source": [
    "Nodos_Final_fil=Nodos_Final_fil.merge(Nodos_Final_fil['COD_NODO'].value_counts().to_frame(), left_on='COD_NODO', right_index=True, how='left')"
   ]
  },
  {
   "cell_type": "code",
   "execution_count": 86,
   "id": "b13c29a2",
   "metadata": {},
   "outputs": [],
   "source": [
    "Nodos_Final_fil=Nodos_Final_fil[Nodos_Final_fil['COD_NODO_y']==10]"
   ]
  },
  {
   "cell_type": "code",
   "execution_count": 87,
   "id": "fcae00fb",
   "metadata": {},
   "outputs": [],
   "source": [
    "Nodos_Final_fil.rename(columns={'COD_NODO_x':'COD_NODO','COD_NODO_y':'nMeses'},inplace=True)"
   ]
  },
  {
   "cell_type": "code",
   "execution_count": 88,
   "id": "0bab15d3",
   "metadata": {},
   "outputs": [
    {
     "name": "stdout",
     "output_type": "stream",
     "text": [
      "Nodos:  5481  Registros (nodosxmes):  54810\n"
     ]
    }
   ],
   "source": [
    "print('Nodos: ',Nodos_Final_fil['COD_NODO'].nunique(), ' Registros (nodosxmes): ', len(Nodos_Final_fil))"
   ]
  },
  {
   "cell_type": "code",
   "execution_count": 89,
   "id": "f9e12958",
   "metadata": {},
   "outputs": [],
   "source": [
    "data_comp=Nodos_Final_fil[['COD_NODO','FECHA']+sel_variables_causas2].groupby(['COD_NODO','FECHA']).mean()\n",
    "data_comp.reset_index(inplace=True)\n",
    "data_comp.sort_values(['COD_NODO','FECHA'],inplace=True)\n",
    "data_comp_pt=pd.pivot_table(data_comp,index='FECHA',columns='COD_NODO')"
   ]
  },
  {
   "cell_type": "code",
   "execution_count": 90,
   "id": "797d3e37",
   "metadata": {},
   "outputs": [
    {
     "name": "stdout",
     "output_type": "stream",
     "text": [
      "ALFA_tarifa\n",
      "ALFA\n",
      "BETA\n",
      "MEGA\n",
      "Llamadas_Admin_3M\n",
      "Llamadas_Tecn_3M\n"
     ]
    }
   ],
   "source": [
    "list_eliminar=[]\n",
    "i=0\n",
    "for col in sel_variables_causas2:\n",
    "    print(col)\n",
    "    df_aux=data_comp_pt[col].isnull().sum().to_frame()\n",
    "    df_aux=df_aux[df_aux[0]>2]\n",
    "    if i==0:\n",
    "        list_eliminar=list(df_aux.index)\n",
    "    else :\n",
    "        list_eliminar=list_eliminar+list(df_aux.index)\n",
    "    i=i+1\n",
    "list_eliminar = list(set(list_eliminar))"
   ]
  },
  {
   "cell_type": "code",
   "execution_count": 91,
   "id": "743b51f7",
   "metadata": {},
   "outputs": [
    {
     "data": {
      "text/plain": [
       "846"
      ]
     },
     "execution_count": 91,
     "metadata": {},
     "output_type": "execute_result"
    }
   ],
   "source": [
    "len(list_eliminar)"
   ]
  },
  {
   "cell_type": "code",
   "execution_count": 92,
   "id": "0a39778c",
   "metadata": {},
   "outputs": [],
   "source": [
    "data_comp_pt=data_comp_pt.interpolate()\n",
    "data_comp_pt.reset_index(inplace=True)\n",
    "data_comp_un=data_comp_pt.melt(id_vars=['FECHA'], var_name=['varible','COD_NODO'],value_name='valor')\n",
    "data_comp=pd.pivot_table(data_comp_un,index=['COD_NODO','FECHA'],columns='varible')\n",
    "data_comp.columns = data_comp.columns.droplevel()\n",
    "data_comp.reset_index(inplace=True)"
   ]
  },
  {
   "cell_type": "code",
   "execution_count": 93,
   "id": "916799d6",
   "metadata": {},
   "outputs": [],
   "source": [
    "Nodos_Final_fil=Nodos_Final_fil.drop(columns=sel_variables_causas2).merge(data_comp,left_on=['COD_NODO','FECHA'],right_on=['COD_NODO','FECHA'])"
   ]
  },
  {
   "cell_type": "code",
   "execution_count": 94,
   "id": "5d3b59c7",
   "metadata": {},
   "outputs": [],
   "source": [
    "### Eliminar Nodos con mayor imputaciones\n",
    "Nodos_Final_fil=Nodos_Final_fil[~Nodos_Final_fil['COD_NODO'].isin(list_eliminar)]"
   ]
  },
  {
   "cell_type": "code",
   "execution_count": 95,
   "id": "c3b3c005",
   "metadata": {},
   "outputs": [
    {
     "name": "stdout",
     "output_type": "stream",
     "text": [
      "Nodos:  4635  Registros (nodosxmes):  46349\n"
     ]
    }
   ],
   "source": [
    "print('Nodos: ',Nodos_Final_fil['COD_NODO'].nunique(), ' Registros (nodosxmes): ', len(Nodos_Final_fil))"
   ]
  },
  {
   "cell_type": "code",
   "execution_count": 96,
   "id": "53ce45ba",
   "metadata": {},
   "outputs": [],
   "source": [
    "Nodos_Final_fil=Nodos_Final_fil.merge(maestro_data, left_on=['COD_NODO'], right_on=['COD_NODO'], how='left')"
   ]
  },
  {
   "cell_type": "code",
   "execution_count": 97,
   "id": "270880d2",
   "metadata": {},
   "outputs": [
    {
     "name": "stdout",
     "output_type": "stream",
     "text": [
      "Nodos:  4635  Registros (nodosxmes):  46349\n"
     ]
    }
   ],
   "source": [
    "print('Nodos: ',Nodos_Final_fil['COD_NODO'].nunique(), ' Registros (nodosxmes): ', len(Nodos_Final_fil))"
   ]
  },
  {
   "cell_type": "code",
   "execution_count": 98,
   "id": "876e5dba",
   "metadata": {},
   "outputs": [],
   "source": [
    "Nodos_Final_fil.to_csv('NODOS_FILTRADOS_base1.csv',sep=';',index=False)"
   ]
  },
  {
   "cell_type": "markdown",
   "id": "a3708307",
   "metadata": {},
   "source": [
    "###  Descripción del dataset generado"
   ]
  },
  {
   "cell_type": "code",
   "execution_count": 99,
   "id": "b9be0417",
   "metadata": {},
   "outputs": [
    {
     "data": {
      "text/plain": [
       "Index(['FECHA', 'COD_NODO', 'CANT_USER', 'CONGELACION', 'VIAJES',\n",
       "       'CAPACIDAD_DE_PAGO', 'CAUSAS_EXTERNAS', 'COMPETENCIA', 'MAL_SERVICIO',\n",
       "       'NO_UTILIZAR', 'NO_GUSTO', 'SIN_MOTIVO', 'SIN_CONTACTO', 'TRASLADOS',\n",
       "       'OTROS', 'CAMBIO_DE_SERVICIO', 'CAMBIO_TARIFA', 'EMPAQUETAMIENTO',\n",
       "       'CESION_DE_CONTRATO', 'UNIFICACION_EMPAQUETAMIENTO', 'BAJAS_TOTAL',\n",
       "       'ind_churn', 'nMeses', 'ALFA', 'ALFA_tarifa', 'BETA',\n",
       "       'Llamadas_Admin_3M', 'Llamadas_Tecn_3M', 'MEGA', 'DIVISION', 'AREA',\n",
       "       'ZONA', 'CIUDAD', 'DISTRITO'],\n",
       "      dtype='object')"
      ]
     },
     "execution_count": 99,
     "metadata": {},
     "output_type": "execute_result"
    }
   ],
   "source": [
    "Nodos_Final_fil.columns"
   ]
  },
  {
   "cell_type": "code",
   "execution_count": null,
   "id": "a8c4916d",
   "metadata": {},
   "outputs": [],
   "source": []
  }
 ],
 "metadata": {
  "kernelspec": {
   "display_name": "Python 3",
   "language": "python",
   "name": "python3"
  },
  "language_info": {
   "codemirror_mode": {
    "name": "ipython",
    "version": 3
   },
   "file_extension": ".py",
   "mimetype": "text/x-python",
   "name": "python",
   "nbconvert_exporter": "python",
   "pygments_lexer": "ipython3",
   "version": "3.9.0"
  }
 },
 "nbformat": 4,
 "nbformat_minor": 5
}
