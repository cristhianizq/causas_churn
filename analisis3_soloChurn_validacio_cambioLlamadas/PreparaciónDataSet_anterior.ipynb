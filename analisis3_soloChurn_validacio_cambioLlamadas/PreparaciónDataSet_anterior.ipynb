{
 "cells": [
  {
   "cell_type": "markdown",
   "id": "f5bac2c7",
   "metadata": {},
   "source": [
    "#  Descripción del análisis de causas"
   ]
  },
  {
   "cell_type": "code",
   "execution_count": 86,
   "id": "3fc6bc8c",
   "metadata": {},
   "outputs": [],
   "source": [
    "import pandas as pd\n",
    "import numpy as np\n",
    "import seaborn as sns\n",
    "from sklearn import preprocessing\n",
    "import matplotlib.pyplot as plt"
   ]
  },
  {
   "cell_type": "code",
   "execution_count": 87,
   "id": "17261315",
   "metadata": {},
   "outputs": [
    {
     "data": {
      "text/html": [
       "<style>.container { width:100% !important; }</style>"
      ],
      "text/plain": [
       "<IPython.core.display.HTML object>"
      ]
     },
     "metadata": {},
     "output_type": "display_data"
    }
   ],
   "source": [
    "from IPython.core.display import display, HTML\n",
    "display(HTML(\"<style>.container { width:100% !important; }</style>\"))"
   ]
  },
  {
   "cell_type": "code",
   "execution_count": 88,
   "id": "51df4839",
   "metadata": {},
   "outputs": [],
   "source": [
    "pd.get_option(\"display.max_columns\")\n",
    "pd.set_option(\"display.max_columns\", None)\n",
    "#pd.set_option(\"display.max_columns\", 20)"
   ]
  },
  {
   "cell_type": "code",
   "execution_count": 89,
   "id": "d5cca9d3",
   "metadata": {},
   "outputs": [
    {
     "name": "stderr",
     "output_type": "stream",
     "text": [
      "C:\\ProgramData\\Anaconda3\\envs\\ds_sqdm_claro\\lib\\site-packages\\IPython\\core\\interactiveshell.py:3169: DtypeWarning: Columns (0,4,5,6,7,8,9,10,11,12,13,14,15,16,17) have mixed types.Specify dtype option on import or set low_memory=False.\n",
      "  has_raised = await self.run_ast_nodes(code_ast.body, cell_name,\n"
     ]
    }
   ],
   "source": [
    "data= pd.read_csv('../Datos_2740776.csv',sep=';', header = 0)"
   ]
  },
  {
   "cell_type": "code",
   "execution_count": 90,
   "id": "d64afdc4",
   "metadata": {},
   "outputs": [
    {
     "data": {
      "text/plain": [
       "Index(['CUENTA', 'COD_SERVICIO', 'Tipo_Servicio', 'COD_NODO', 'ESTRATO',\n",
       "       'CARTERA', 'CONGELACION', 'VIAJES', 'CAPACIDAD_DE_PAGO',\n",
       "       'CAUSAS_EXTERNAS', 'COMPETENCIA', 'MAL_SERVICIO', 'NO_UTILIZAR',\n",
       "       'NO_GUSTO', 'SIN_MOTIVO', 'SIN_CONTACTO', 'OTROS', 'Total_Bajas', 'MES',\n",
       "       'fecha', 'CHURN_TEMPRANO', 'INVOLUNTARIO', 'VOLUNTARIO', 'TIPO_RAZON',\n",
       "       'MESES_ACTIVO', 'CANTIDAD_LLAMADAS', 'CANTIDAD_ADMIN',\n",
       "       'CANTIDAD_TECNICO', 'CAMPANA_HBO', 'CAMPANA_FOX', 'CAMPANA_ADULTO',\n",
       "       'CAMPANA_EQUIPOS_ADIC', 'CAMPANA_ULTRAWIFI', 'CAMPANA_VOZ',\n",
       "       'CAMPANA_RETENCION', 'CAMPANA_AFECTACION_SRV'],\n",
       "      dtype='object')"
      ]
     },
     "execution_count": 90,
     "metadata": {},
     "output_type": "execute_result"
    }
   ],
   "source": [
    "data.columns"
   ]
  },
  {
   "cell_type": "code",
   "execution_count": 91,
   "id": "57bbda10",
   "metadata": {},
   "outputs": [],
   "source": [
    "#data"
   ]
  },
  {
   "cell_type": "code",
   "execution_count": 92,
   "id": "8f266313",
   "metadata": {},
   "outputs": [],
   "source": [
    "data=data[data['fecha'].notnull()]"
   ]
  },
  {
   "cell_type": "code",
   "execution_count": 93,
   "id": "d6a4da8d",
   "metadata": {},
   "outputs": [
    {
     "data": {
      "text/plain": [
       "-1    1489258\n",
       "0     1235134\n",
       "-1       9040\n",
       "0        7343\n",
       "Name: CARTERA, dtype: int64"
      ]
     },
     "execution_count": 93,
     "metadata": {},
     "output_type": "execute_result"
    }
   ],
   "source": [
    "data['CARTERA'].value_counts()"
   ]
  },
  {
   "cell_type": "code",
   "execution_count": 94,
   "id": "ea8175a7",
   "metadata": {},
   "outputs": [],
   "source": [
    "data['CARTERA']=np.where(data['CARTERA']=='0',0,data['CARTERA'])\n",
    "data['CARTERA']=np.where(data['CARTERA']=='-1',-1,data['CARTERA'])"
   ]
  },
  {
   "cell_type": "code",
   "execution_count": 95,
   "id": "2a8847f8",
   "metadata": {},
   "outputs": [
    {
     "data": {
      "text/plain": [
       "-1    1498298\n",
       " 0    1242477\n",
       "Name: CARTERA, dtype: int64"
      ]
     },
     "execution_count": 95,
     "metadata": {},
     "output_type": "execute_result"
    }
   ],
   "source": [
    "data['CARTERA'].value_counts()"
   ]
  },
  {
   "cell_type": "code",
   "execution_count": 96,
   "id": "54d35310",
   "metadata": {},
   "outputs": [],
   "source": [
    "data['INVOLUNTARIO']=np.where(data['CARTERA']==0,0,-1)\n",
    "data['VOLUNTARIO']=np.where(data['CARTERA']==0,-1,0)"
   ]
  },
  {
   "cell_type": "code",
   "execution_count": 97,
   "id": "18eb543a",
   "metadata": {},
   "outputs": [],
   "source": [
    "#seleccionVariables=['CONGELACION','VIAJES','CAPACIDAD_DE_PAGO','CAUSAS_EXTERNAS','COMPETENCIA','MAL_SERVICIO','NO_UTILIZAR',\n",
    "#                    'NO_GUSTO','SIN_MOTIVO','SIN_CONTACTO','TRASLADOS','OTROS','CAMBIO_DE_SERVICIO','CAMBIO_TARIFA','EMPAQUETAMIENTO',\n",
    "#                    'CESION_DE_CONTRATO','UNIFICACION_EMPAQUETAMIENTO','Total_Bajas']\n",
    "seleccionVariables=['CONGELACION','VIAJES','CAPACIDAD_DE_PAGO','CAUSAS_EXTERNAS','COMPETENCIA','MAL_SERVICIO','NO_UTILIZAR',\n",
    "                    'NO_GUSTO','SIN_MOTIVO','SIN_CONTACTO','OTROS','Total_Bajas']"
   ]
  },
  {
   "cell_type": "code",
   "execution_count": 98,
   "id": "920c65a7",
   "metadata": {},
   "outputs": [
    {
     "data": {
      "text/plain": [
       "0     2673140\n",
       "-1      51252\n",
       "0       16105\n",
       "-1        278\n",
       "Name: VIAJES, dtype: int64"
      ]
     },
     "execution_count": 98,
     "metadata": {},
     "output_type": "execute_result"
    }
   ],
   "source": [
    "data['VIAJES'].value_counts()"
   ]
  },
  {
   "cell_type": "code",
   "execution_count": 99,
   "id": "f1cf0149",
   "metadata": {},
   "outputs": [
    {
     "data": {
      "text/plain": [
       "-1    2724392\n",
       "-1      16383\n",
       "Name: Total_Bajas, dtype: int64"
      ]
     },
     "execution_count": 99,
     "metadata": {},
     "output_type": "execute_result"
    }
   ],
   "source": [
    "#data['BAJAS_TOTAL']=data[seleccionVariables].sum(axis=1)\n",
    "#data['Total_Bajas']=data[seleccionVariables].sum(axis=1)\n",
    "data['Total_Bajas'].value_counts()"
   ]
  },
  {
   "cell_type": "code",
   "execution_count": 100,
   "id": "25ce68d4",
   "metadata": {},
   "outputs": [],
   "source": [
    "data['FECHA']=data['fecha'].astype(int)"
   ]
  },
  {
   "cell_type": "code",
   "execution_count": 101,
   "id": "ee7ae1c6",
   "metadata": {},
   "outputs": [],
   "source": [
    "data['servicio']=data['Tipo_Servicio'].str[0]"
   ]
  },
  {
   "cell_type": "code",
   "execution_count": 102,
   "id": "7e73a3b7",
   "metadata": {},
   "outputs": [],
   "source": [
    "###  ajustar signo variables"
   ]
  },
  {
   "cell_type": "code",
   "execution_count": 103,
   "id": "a78133c4",
   "metadata": {
    "scrolled": true
   },
   "outputs": [
    {
     "name": "stdout",
     "output_type": "stream",
     "text": [
      "CONGELACION\n",
      "VIAJES\n",
      "CAPACIDAD_DE_PAGO\n",
      "CAUSAS_EXTERNAS\n",
      "COMPETENCIA\n",
      "MAL_SERVICIO\n",
      "NO_UTILIZAR\n",
      "NO_GUSTO\n",
      "SIN_MOTIVO\n",
      "SIN_CONTACTO\n",
      "OTROS\n",
      "Total_Bajas\n"
     ]
    }
   ],
   "source": [
    "for col in seleccionVariables :\n",
    "    print(col)\n",
    "    data[col]=data[col].fillna(0)\n",
    "    data[col]=np.where(data[col]=='0',0,np.where(data[col]=='-1',-1,data[col]))\n",
    "    data[col]=data[col]*-1\n",
    "    data[col]=data[col].astype(int)"
   ]
  },
  {
   "cell_type": "code",
   "execution_count": 104,
   "id": "806bb0b5",
   "metadata": {},
   "outputs": [
    {
     "data": {
      "text/plain": [
       "1    2740775\n",
       "Name: Total_Bajas, dtype: int64"
      ]
     },
     "execution_count": 104,
     "metadata": {},
     "output_type": "execute_result"
    }
   ],
   "source": [
    "data['Total_Bajas'].value_counts()"
   ]
  },
  {
   "cell_type": "code",
   "execution_count": 105,
   "id": "f4181637",
   "metadata": {
    "scrolled": true
   },
   "outputs": [
    {
     "data": {
      "text/plain": [
       "CUENTA                     object\n",
       "COD_SERVICIO               object\n",
       "Tipo_Servicio              object\n",
       "COD_NODO                   object\n",
       "ESTRATO                    object\n",
       "CARTERA                    object\n",
       "CONGELACION                 int32\n",
       "VIAJES                      int32\n",
       "CAPACIDAD_DE_PAGO           int32\n",
       "CAUSAS_EXTERNAS             int32\n",
       "COMPETENCIA                 int32\n",
       "MAL_SERVICIO                int32\n",
       "NO_UTILIZAR                 int32\n",
       "NO_GUSTO                    int32\n",
       "SIN_MOTIVO                  int32\n",
       "SIN_CONTACTO                int32\n",
       "OTROS                       int32\n",
       "Total_Bajas                 int32\n",
       "MES                        object\n",
       "fecha                     float64\n",
       "CHURN_TEMPRANO              int64\n",
       "INVOLUNTARIO                int32\n",
       "VOLUNTARIO                  int32\n",
       "TIPO_RAZON                 object\n",
       "MESES_ACTIVO              float64\n",
       "CANTIDAD_LLAMADAS         float64\n",
       "CANTIDAD_ADMIN            float64\n",
       "CANTIDAD_TECNICO          float64\n",
       "CAMPANA_HBO               float64\n",
       "CAMPANA_FOX               float64\n",
       "CAMPANA_ADULTO            float64\n",
       "CAMPANA_EQUIPOS_ADIC      float64\n",
       "CAMPANA_ULTRAWIFI         float64\n",
       "CAMPANA_VOZ               float64\n",
       "CAMPANA_RETENCION         float64\n",
       "CAMPANA_AFECTACION_SRV    float64\n",
       "FECHA                       int32\n",
       "servicio                   object\n",
       "dtype: object"
      ]
     },
     "execution_count": 105,
     "metadata": {},
     "output_type": "execute_result"
    }
   ],
   "source": [
    "data.dtypes"
   ]
  },
  {
   "cell_type": "code",
   "execution_count": 106,
   "id": "ba10be64",
   "metadata": {},
   "outputs": [],
   "source": [
    "data['CUENTA']=data['CUENTA'].astype(str)"
   ]
  },
  {
   "cell_type": "markdown",
   "id": "7f6bc0b5",
   "metadata": {},
   "source": [
    "###  Left Join con Nodos"
   ]
  },
  {
   "cell_type": "code",
   "execution_count": 107,
   "id": "aa6422bd",
   "metadata": {},
   "outputs": [],
   "source": [
    "data_nodo= pd.read_csv('../DAta_final_Nodo.csv',sep=';', header = 0)"
   ]
  },
  {
   "cell_type": "code",
   "execution_count": 217,
   "id": "ff1cf040",
   "metadata": {},
   "outputs": [
    {
     "data": {
      "text/plain": [
       "Index(['NODO', 'MES', 'PART_CANT_CALL', 'CANT_USER', 'PROM_VEL', 'VEL_ME_8',\n",
       "       'VEL_10_25', 'VEL_30', 'VEL_40_50', 'VEL_MA_60', 'CONVERGENTE',\n",
       "       'PROM_VEL_HOGAR', 'MEDIANA_VEL', 'PROM_RENTA', 'PRECIO_MEGA_CLARO_1',\n",
       "       'CANTIDAD_churn', 'ANTIGUEDAD_MESES_PROM', 'ANTIGUEDAD_MESES_MED',\n",
       "       'AVG_TARIFA_TIGO', 'AVG_TIGO_MEGAS', 'PRECIO_MEGA_TIGO_1',\n",
       "       'AVG_TARIFA_ETB', 'AVG_ETB_MEGAS', 'PRECIO_MEGA_ETB_1',\n",
       "       'AVG_TARIFA_MOVISTAR', 'AVG_MOVISTAR_MEGAS', 'AVG_MOV_MEGAS',\n",
       "       'OPERADOR_TIGO_OOKLA', 'OPERADOR_ETB_OOKLA', 'OPERADOR_MOVISTAR_OOKLA',\n",
       "       'SUMA_OPERADORES', 'RANK1_VEL_DWLD', 'OP_CLARO', 'CANTIDAD',\n",
       "       'PENETRACION', 'OCUPACION_DW', 'OCUPACION_UP', 'ALFA', 'BETA', 'MEGA',\n",
       "       'NIVEL_ALARMA_MALO', 'NIVEL_ALARMA_BUENO', 'DIVISION', 'AREA', 'ZONA',\n",
       "       'CIUDAD', 'DISTRITO'],\n",
       "      dtype='object')"
      ]
     },
     "execution_count": 217,
     "metadata": {},
     "output_type": "execute_result"
    }
   ],
   "source": [
    "data_nodo.columns"
   ]
  },
  {
   "cell_type": "code",
   "execution_count": 108,
   "id": "0517f5ac",
   "metadata": {},
   "outputs": [],
   "source": [
    "#data_nodo"
   ]
  },
  {
   "cell_type": "code",
   "execution_count": 109,
   "id": "e61ee824",
   "metadata": {},
   "outputs": [],
   "source": [
    "data=data.merge(data_nodo, left_on=['COD_NODO','FECHA'], right_on=['NODO','MES'], how='left')"
   ]
  },
  {
   "cell_type": "code",
   "execution_count": 110,
   "id": "5167f930",
   "metadata": {
    "scrolled": true
   },
   "outputs": [
    {
     "data": {
      "text/html": [
       "<div>\n",
       "<style scoped>\n",
       "    .dataframe tbody tr th:only-of-type {\n",
       "        vertical-align: middle;\n",
       "    }\n",
       "\n",
       "    .dataframe tbody tr th {\n",
       "        vertical-align: top;\n",
       "    }\n",
       "\n",
       "    .dataframe thead th {\n",
       "        text-align: right;\n",
       "    }\n",
       "</style>\n",
       "<table border=\"1\" class=\"dataframe\">\n",
       "  <thead>\n",
       "    <tr style=\"text-align: right;\">\n",
       "      <th></th>\n",
       "      <th>0</th>\n",
       "    </tr>\n",
       "  </thead>\n",
       "  <tbody>\n",
       "    <tr>\n",
       "      <th>CAMPANA_AFECTACION_SRV</th>\n",
       "      <td>2739362</td>\n",
       "    </tr>\n",
       "    <tr>\n",
       "      <th>CAMPANA_ULTRAWIFI</th>\n",
       "      <td>2739362</td>\n",
       "    </tr>\n",
       "    <tr>\n",
       "      <th>CAMPANA_HBO</th>\n",
       "      <td>2739362</td>\n",
       "    </tr>\n",
       "    <tr>\n",
       "      <th>CAMPANA_FOX</th>\n",
       "      <td>2739362</td>\n",
       "    </tr>\n",
       "    <tr>\n",
       "      <th>CAMPANA_EQUIPOS_ADIC</th>\n",
       "      <td>2739362</td>\n",
       "    </tr>\n",
       "    <tr>\n",
       "      <th>CAMPANA_ADULTO</th>\n",
       "      <td>2739362</td>\n",
       "    </tr>\n",
       "    <tr>\n",
       "      <th>CAMPANA_VOZ</th>\n",
       "      <td>2739362</td>\n",
       "    </tr>\n",
       "    <tr>\n",
       "      <th>CAMPANA_RETENCION</th>\n",
       "      <td>2739362</td>\n",
       "    </tr>\n",
       "    <tr>\n",
       "      <th>AVG_TARIFA_ETB</th>\n",
       "      <td>2204693</td>\n",
       "    </tr>\n",
       "    <tr>\n",
       "      <th>AVG_ETB_MEGAS</th>\n",
       "      <td>2204693</td>\n",
       "    </tr>\n",
       "    <tr>\n",
       "      <th>AVG_MOVISTAR_MEGAS</th>\n",
       "      <td>1251853</td>\n",
       "    </tr>\n",
       "    <tr>\n",
       "      <th>AVG_TARIFA_MOVISTAR</th>\n",
       "      <td>1251853</td>\n",
       "    </tr>\n",
       "    <tr>\n",
       "      <th>AVG_TIGO_MEGAS</th>\n",
       "      <td>1113164</td>\n",
       "    </tr>\n",
       "    <tr>\n",
       "      <th>AVG_TARIFA_TIGO</th>\n",
       "      <td>1113164</td>\n",
       "    </tr>\n",
       "    <tr>\n",
       "      <th>MESES_ACTIVO</th>\n",
       "      <td>597971</td>\n",
       "    </tr>\n",
       "    <tr>\n",
       "      <th>ALFA</th>\n",
       "      <td>548886</td>\n",
       "    </tr>\n",
       "    <tr>\n",
       "      <th>VEL_ME_8</th>\n",
       "      <td>511526</td>\n",
       "    </tr>\n",
       "    <tr>\n",
       "      <th>MEGA</th>\n",
       "      <td>509491</td>\n",
       "    </tr>\n",
       "    <tr>\n",
       "      <th>BETA</th>\n",
       "      <td>319718</td>\n",
       "    </tr>\n",
       "    <tr>\n",
       "      <th>ANTIGUEDAD_MESES_PROM</th>\n",
       "      <td>311880</td>\n",
       "    </tr>\n",
       "    <tr>\n",
       "      <th>ANTIGUEDAD_MESES_MED</th>\n",
       "      <td>311880</td>\n",
       "    </tr>\n",
       "    <tr>\n",
       "      <th>CANTIDAD_churn</th>\n",
       "      <td>311880</td>\n",
       "    </tr>\n",
       "    <tr>\n",
       "      <th>CANTIDAD_TECNICO</th>\n",
       "      <td>308386</td>\n",
       "    </tr>\n",
       "    <tr>\n",
       "      <th>CANTIDAD_ADMIN</th>\n",
       "      <td>308386</td>\n",
       "    </tr>\n",
       "    <tr>\n",
       "      <th>CANTIDAD_LLAMADAS</th>\n",
       "      <td>308386</td>\n",
       "    </tr>\n",
       "    <tr>\n",
       "      <th>RANK1_VEL_DWLD</th>\n",
       "      <td>280278</td>\n",
       "    </tr>\n",
       "    <tr>\n",
       "      <th>OPERADOR_TIGO_OOKLA</th>\n",
       "      <td>279847</td>\n",
       "    </tr>\n",
       "    <tr>\n",
       "      <th>OPERADOR_ETB_OOKLA</th>\n",
       "      <td>279847</td>\n",
       "    </tr>\n",
       "    <tr>\n",
       "      <th>SUMA_OPERADORES</th>\n",
       "      <td>279847</td>\n",
       "    </tr>\n",
       "    <tr>\n",
       "      <th>OPERADOR_MOVISTAR_OOKLA</th>\n",
       "      <td>279847</td>\n",
       "    </tr>\n",
       "    <tr>\n",
       "      <th>OCUPACION_DW</th>\n",
       "      <td>260538</td>\n",
       "    </tr>\n",
       "    <tr>\n",
       "      <th>VEL_10_25</th>\n",
       "      <td>252949</td>\n",
       "    </tr>\n",
       "    <tr>\n",
       "      <th>OCUPACION_UP</th>\n",
       "      <td>223665</td>\n",
       "    </tr>\n",
       "    <tr>\n",
       "      <th>VEL_30</th>\n",
       "      <td>208843</td>\n",
       "    </tr>\n",
       "    <tr>\n",
       "      <th>PENETRACION</th>\n",
       "      <td>204328</td>\n",
       "    </tr>\n",
       "    <tr>\n",
       "      <th>VEL_40_50</th>\n",
       "      <td>204118</td>\n",
       "    </tr>\n",
       "    <tr>\n",
       "      <th>DISTRITO</th>\n",
       "      <td>202557</td>\n",
       "    </tr>\n",
       "    <tr>\n",
       "      <th>DIVISION</th>\n",
       "      <td>202557</td>\n",
       "    </tr>\n",
       "    <tr>\n",
       "      <th>AREA</th>\n",
       "      <td>202557</td>\n",
       "    </tr>\n",
       "    <tr>\n",
       "      <th>ZONA</th>\n",
       "      <td>202557</td>\n",
       "    </tr>\n",
       "    <tr>\n",
       "      <th>CIUDAD</th>\n",
       "      <td>202557</td>\n",
       "    </tr>\n",
       "    <tr>\n",
       "      <th>VEL_MA_60</th>\n",
       "      <td>202505</td>\n",
       "    </tr>\n",
       "    <tr>\n",
       "      <th>PRECIO_MEGA_ETB_1</th>\n",
       "      <td>201635</td>\n",
       "    </tr>\n",
       "    <tr>\n",
       "      <th>PROM_RENTA</th>\n",
       "      <td>201635</td>\n",
       "    </tr>\n",
       "    <tr>\n",
       "      <th>PRECIO_MEGA_TIGO_1</th>\n",
       "      <td>201635</td>\n",
       "    </tr>\n",
       "    <tr>\n",
       "      <th>AVG_MOV_MEGAS</th>\n",
       "      <td>201635</td>\n",
       "    </tr>\n",
       "    <tr>\n",
       "      <th>OP_CLARO</th>\n",
       "      <td>201635</td>\n",
       "    </tr>\n",
       "    <tr>\n",
       "      <th>CANTIDAD</th>\n",
       "      <td>201635</td>\n",
       "    </tr>\n",
       "    <tr>\n",
       "      <th>NIVEL_ALARMA_MALO</th>\n",
       "      <td>201635</td>\n",
       "    </tr>\n",
       "    <tr>\n",
       "      <th>NIVEL_ALARMA_BUENO</th>\n",
       "      <td>201635</td>\n",
       "    </tr>\n",
       "  </tbody>\n",
       "</table>\n",
       "</div>"
      ],
      "text/plain": [
       "                               0\n",
       "CAMPANA_AFECTACION_SRV   2739362\n",
       "CAMPANA_ULTRAWIFI        2739362\n",
       "CAMPANA_HBO              2739362\n",
       "CAMPANA_FOX              2739362\n",
       "CAMPANA_EQUIPOS_ADIC     2739362\n",
       "CAMPANA_ADULTO           2739362\n",
       "CAMPANA_VOZ              2739362\n",
       "CAMPANA_RETENCION        2739362\n",
       "AVG_TARIFA_ETB           2204693\n",
       "AVG_ETB_MEGAS            2204693\n",
       "AVG_MOVISTAR_MEGAS       1251853\n",
       "AVG_TARIFA_MOVISTAR      1251853\n",
       "AVG_TIGO_MEGAS           1113164\n",
       "AVG_TARIFA_TIGO          1113164\n",
       "MESES_ACTIVO              597971\n",
       "ALFA                      548886\n",
       "VEL_ME_8                  511526\n",
       "MEGA                      509491\n",
       "BETA                      319718\n",
       "ANTIGUEDAD_MESES_PROM     311880\n",
       "ANTIGUEDAD_MESES_MED      311880\n",
       "CANTIDAD_churn            311880\n",
       "CANTIDAD_TECNICO          308386\n",
       "CANTIDAD_ADMIN            308386\n",
       "CANTIDAD_LLAMADAS         308386\n",
       "RANK1_VEL_DWLD            280278\n",
       "OPERADOR_TIGO_OOKLA       279847\n",
       "OPERADOR_ETB_OOKLA        279847\n",
       "SUMA_OPERADORES           279847\n",
       "OPERADOR_MOVISTAR_OOKLA   279847\n",
       "OCUPACION_DW              260538\n",
       "VEL_10_25                 252949\n",
       "OCUPACION_UP              223665\n",
       "VEL_30                    208843\n",
       "PENETRACION               204328\n",
       "VEL_40_50                 204118\n",
       "DISTRITO                  202557\n",
       "DIVISION                  202557\n",
       "AREA                      202557\n",
       "ZONA                      202557\n",
       "CIUDAD                    202557\n",
       "VEL_MA_60                 202505\n",
       "PRECIO_MEGA_ETB_1         201635\n",
       "PROM_RENTA                201635\n",
       "PRECIO_MEGA_TIGO_1        201635\n",
       "AVG_MOV_MEGAS             201635\n",
       "OP_CLARO                  201635\n",
       "CANTIDAD                  201635\n",
       "NIVEL_ALARMA_MALO         201635\n",
       "NIVEL_ALARMA_BUENO        201635"
      ]
     },
     "execution_count": 110,
     "metadata": {},
     "output_type": "execute_result"
    }
   ],
   "source": [
    "data.isnull().sum().to_frame().sort_values(0,ascending=False).head(50)"
   ]
  },
  {
   "cell_type": "code",
   "execution_count": 111,
   "id": "84e84978",
   "metadata": {},
   "outputs": [],
   "source": [
    "maestro_data=data[['COD_NODO','DIVISION', 'AREA', 'ZONA', 'CIUDAD', 'DISTRITO']].drop_duplicates()"
   ]
  },
  {
   "cell_type": "markdown",
   "id": "8edf6267",
   "metadata": {},
   "source": [
    "### Validar Solo Nodos Internet  (al final)"
   ]
  },
  {
   "cell_type": "code",
   "execution_count": 112,
   "id": "5d45f037",
   "metadata": {},
   "outputs": [
    {
     "data": {
      "text/plain": [
       "@    992998\n",
       "T    947518\n",
       "V    800259\n",
       "Name: servicio, dtype: int64"
      ]
     },
     "execution_count": 112,
     "metadata": {},
     "output_type": "execute_result"
    }
   ],
   "source": [
    "data['servicio'].value_counts()"
   ]
  },
  {
   "cell_type": "code",
   "execution_count": null,
   "id": "9542cbbc",
   "metadata": {},
   "outputs": [],
   "source": []
  },
  {
   "cell_type": "markdown",
   "id": "42375706",
   "metadata": {},
   "source": [
    "# SELECCION DE VARIABLES\n",
    "* Alfa Tarifas\n",
    "* Velocidad Beta\n",
    "* Velocidad Factor Alfa\n",
    "* Llamadas Admin\n",
    "* Llamadas Tec\n",
    "* Calidad muestras ok\n",
    "* Razones\n",
    "\n",
    "###  Descriptivo\n",
    "* lugar Regional\n",
    "* Churn Temprano\n",
    "* Voluntario e involuntario"
   ]
  },
  {
   "cell_type": "code",
   "execution_count": 113,
   "id": "2209217f",
   "metadata": {},
   "outputs": [
    {
     "data": {
      "text/plain": [
       "0          11\n",
       "1           8\n",
       "2           5\n",
       "3           2\n",
       "4           6\n",
       "           ..\n",
       "2740770     9\n",
       "2740771     9\n",
       "2740772     7\n",
       "2740773     2\n",
       "2740774     2\n",
       "Name: FECHA, Length: 2740775, dtype: int32"
      ]
     },
     "execution_count": 113,
     "metadata": {},
     "output_type": "execute_result"
    }
   ],
   "source": [
    "data['FECHA']"
   ]
  },
  {
   "cell_type": "markdown",
   "id": "8e69478d",
   "metadata": {},
   "source": [
    "### Calculo variables"
   ]
  },
  {
   "cell_type": "code",
   "execution_count": 114,
   "id": "418ba7a0",
   "metadata": {},
   "outputs": [],
   "source": [
    "### Alfa Beta"
   ]
  },
  {
   "cell_type": "code",
   "execution_count": 115,
   "id": "1a646aef",
   "metadata": {},
   "outputs": [
    {
     "data": {
      "text/html": [
       "<div>\n",
       "<style scoped>\n",
       "    .dataframe tbody tr th:only-of-type {\n",
       "        vertical-align: middle;\n",
       "    }\n",
       "\n",
       "    .dataframe tbody tr th {\n",
       "        vertical-align: top;\n",
       "    }\n",
       "\n",
       "    .dataframe thead th {\n",
       "        text-align: right;\n",
       "    }\n",
       "</style>\n",
       "<table border=\"1\" class=\"dataframe\">\n",
       "  <thead>\n",
       "    <tr style=\"text-align: right;\">\n",
       "      <th></th>\n",
       "      <th>ALFA</th>\n",
       "      <th>BETA</th>\n",
       "    </tr>\n",
       "  </thead>\n",
       "  <tbody>\n",
       "    <tr>\n",
       "      <th>count</th>\n",
       "      <td>2.191889e+06</td>\n",
       "      <td>2.421057e+06</td>\n",
       "    </tr>\n",
       "    <tr>\n",
       "      <th>mean</th>\n",
       "      <td>1.243008e+00</td>\n",
       "      <td>1.337877e+00</td>\n",
       "    </tr>\n",
       "    <tr>\n",
       "      <th>std</th>\n",
       "      <td>2.087959e+00</td>\n",
       "      <td>1.731921e+00</td>\n",
       "    </tr>\n",
       "    <tr>\n",
       "      <th>min</th>\n",
       "      <td>0.000000e+00</td>\n",
       "      <td>4.376013e-02</td>\n",
       "    </tr>\n",
       "    <tr>\n",
       "      <th>25%</th>\n",
       "      <td>4.483004e-01</td>\n",
       "      <td>8.394191e-01</td>\n",
       "    </tr>\n",
       "    <tr>\n",
       "      <th>50%</th>\n",
       "      <td>8.888663e-01</td>\n",
       "      <td>1.108597e+00</td>\n",
       "    </tr>\n",
       "    <tr>\n",
       "      <th>75%</th>\n",
       "      <td>1.596395e+00</td>\n",
       "      <td>1.482759e+00</td>\n",
       "    </tr>\n",
       "    <tr>\n",
       "      <th>max</th>\n",
       "      <td>3.215254e+02</td>\n",
       "      <td>1.330000e+02</td>\n",
       "    </tr>\n",
       "  </tbody>\n",
       "</table>\n",
       "</div>"
      ],
      "text/plain": [
       "               ALFA          BETA\n",
       "count  2.191889e+06  2.421057e+06\n",
       "mean   1.243008e+00  1.337877e+00\n",
       "std    2.087959e+00  1.731921e+00\n",
       "min    0.000000e+00  4.376013e-02\n",
       "25%    4.483004e-01  8.394191e-01\n",
       "50%    8.888663e-01  1.108597e+00\n",
       "75%    1.596395e+00  1.482759e+00\n",
       "max    3.215254e+02  1.330000e+02"
      ]
     },
     "execution_count": 115,
     "metadata": {},
     "output_type": "execute_result"
    }
   ],
   "source": [
    "data[['ALFA','BETA']].describe()"
   ]
  },
  {
   "cell_type": "code",
   "execution_count": 116,
   "id": "2dc7f9c8",
   "metadata": {},
   "outputs": [],
   "source": [
    "#seleccion_variables=['COD_NODO','FECHA','INVOLUNTARIO','CD_BLANCOS_CAMBIOS_SERVICIO','AVG_TARIFA_TIGO','AVG_TARIFA_ETB','AVG_TARIFA_MOVISTAR','PROM_RENTA']\n",
    "variables_tarifa=['AVG_TARIFA_TIGO','AVG_TARIFA_ETB','AVG_TARIFA_MOVISTAR']"
   ]
  },
  {
   "cell_type": "code",
   "execution_count": 117,
   "id": "8d184833",
   "metadata": {},
   "outputs": [],
   "source": [
    "data['comp_tarifa']=data[variables_tarifa].min(axis=1)"
   ]
  },
  {
   "cell_type": "code",
   "execution_count": 118,
   "id": "9bf6cfbb",
   "metadata": {},
   "outputs": [],
   "source": [
    "data['operador_menor_tarifa']=np.where(data['comp_tarifa']==data['AVG_TARIFA_TIGO'],'AVG_TARIFA_TIGO',\n",
    "                                              np.where(data['comp_tarifa']==data['AVG_TARIFA_ETB'],'AVG_TARIFA_ETB',\n",
    "                                                      np.where(data['comp_tarifa']==data['AVG_TARIFA_MOVISTAR'],'AVG_TARIFA_MOVISTAR','NINGUNO'\n",
    "                                             )))"
   ]
  },
  {
   "cell_type": "code",
   "execution_count": 119,
   "id": "3f4f0c0f",
   "metadata": {},
   "outputs": [],
   "source": [
    "data['ALFA_tarifa']=np.where(data['operador_menor_tarifa']=='NINGUNO',np.nan,data['comp_tarifa']/data['PROM_RENTA'])"
   ]
  },
  {
   "cell_type": "code",
   "execution_count": 120,
   "id": "67b6d1ad",
   "metadata": {},
   "outputs": [
    {
     "data": {
      "text/html": [
       "<div>\n",
       "<style scoped>\n",
       "    .dataframe tbody tr th:only-of-type {\n",
       "        vertical-align: middle;\n",
       "    }\n",
       "\n",
       "    .dataframe tbody tr th {\n",
       "        vertical-align: top;\n",
       "    }\n",
       "\n",
       "    .dataframe thead th {\n",
       "        text-align: right;\n",
       "    }\n",
       "</style>\n",
       "<table border=\"1\" class=\"dataframe\">\n",
       "  <thead>\n",
       "    <tr style=\"text-align: right;\">\n",
       "      <th></th>\n",
       "      <th>CUENTA</th>\n",
       "      <th>FECHA</th>\n",
       "      <th>AVG_TARIFA_TIGO</th>\n",
       "      <th>AVG_TARIFA_ETB</th>\n",
       "      <th>AVG_TARIFA_MOVISTAR</th>\n",
       "      <th>PROM_RENTA</th>\n",
       "      <th>comp_tarifa</th>\n",
       "      <th>ALFA_tarifa</th>\n",
       "    </tr>\n",
       "  </thead>\n",
       "  <tbody>\n",
       "  </tbody>\n",
       "</table>\n",
       "</div>"
      ],
      "text/plain": [
       "Empty DataFrame\n",
       "Columns: [CUENTA, FECHA, AVG_TARIFA_TIGO, AVG_TARIFA_ETB, AVG_TARIFA_MOVISTAR, PROM_RENTA, comp_tarifa, ALFA_tarifa]\n",
       "Index: []"
      ]
     },
     "execution_count": 120,
     "metadata": {},
     "output_type": "execute_result"
    }
   ],
   "source": [
    "data[data['CUENTA']==2139171][['CUENTA','FECHA']+variables_tarifa+['PROM_RENTA','comp_tarifa','ALFA_tarifa']]"
   ]
  },
  {
   "cell_type": "code",
   "execution_count": 121,
   "id": "81bd7554",
   "metadata": {},
   "outputs": [
    {
     "data": {
      "text/html": [
       "<div>\n",
       "<style scoped>\n",
       "    .dataframe tbody tr th:only-of-type {\n",
       "        vertical-align: middle;\n",
       "    }\n",
       "\n",
       "    .dataframe tbody tr th {\n",
       "        vertical-align: top;\n",
       "    }\n",
       "\n",
       "    .dataframe thead th {\n",
       "        text-align: right;\n",
       "    }\n",
       "</style>\n",
       "<table border=\"1\" class=\"dataframe\">\n",
       "  <thead>\n",
       "    <tr style=\"text-align: right;\">\n",
       "      <th></th>\n",
       "      <th>PRECIO_MEGA_CLARO_1</th>\n",
       "      <th>PRECIO_MEGA_TIGO_1</th>\n",
       "      <th>PRECIO_MEGA_ETB_1</th>\n",
       "    </tr>\n",
       "  </thead>\n",
       "  <tbody>\n",
       "    <tr>\n",
       "      <th>0</th>\n",
       "      <td>1284.398058</td>\n",
       "      <td>1314.280000</td>\n",
       "      <td>0.000000</td>\n",
       "    </tr>\n",
       "    <tr>\n",
       "      <th>1</th>\n",
       "      <td>NaN</td>\n",
       "      <td>NaN</td>\n",
       "      <td>NaN</td>\n",
       "    </tr>\n",
       "    <tr>\n",
       "      <th>2</th>\n",
       "      <td>2207.408163</td>\n",
       "      <td>4333.333333</td>\n",
       "      <td>0.000000</td>\n",
       "    </tr>\n",
       "    <tr>\n",
       "      <th>3</th>\n",
       "      <td>2457.648649</td>\n",
       "      <td>1333.333333</td>\n",
       "      <td>2663.333333</td>\n",
       "    </tr>\n",
       "    <tr>\n",
       "      <th>4</th>\n",
       "      <td>NaN</td>\n",
       "      <td>NaN</td>\n",
       "      <td>NaN</td>\n",
       "    </tr>\n",
       "    <tr>\n",
       "      <th>...</th>\n",
       "      <td>...</td>\n",
       "      <td>...</td>\n",
       "      <td>...</td>\n",
       "    </tr>\n",
       "    <tr>\n",
       "      <th>2740770</th>\n",
       "      <td>1148.521127</td>\n",
       "      <td>1050.000000</td>\n",
       "      <td>0.000000</td>\n",
       "    </tr>\n",
       "    <tr>\n",
       "      <th>2740771</th>\n",
       "      <td>1148.521127</td>\n",
       "      <td>1050.000000</td>\n",
       "      <td>0.000000</td>\n",
       "    </tr>\n",
       "    <tr>\n",
       "      <th>2740772</th>\n",
       "      <td>1188.058824</td>\n",
       "      <td>0.000000</td>\n",
       "      <td>0.000000</td>\n",
       "    </tr>\n",
       "    <tr>\n",
       "      <th>2740773</th>\n",
       "      <td>1784.277778</td>\n",
       "      <td>3166.666667</td>\n",
       "      <td>0.000000</td>\n",
       "    </tr>\n",
       "    <tr>\n",
       "      <th>2740774</th>\n",
       "      <td>1784.277778</td>\n",
       "      <td>3166.666667</td>\n",
       "      <td>0.000000</td>\n",
       "    </tr>\n",
       "  </tbody>\n",
       "</table>\n",
       "<p>2740775 rows × 3 columns</p>\n",
       "</div>"
      ],
      "text/plain": [
       "         PRECIO_MEGA_CLARO_1  PRECIO_MEGA_TIGO_1  PRECIO_MEGA_ETB_1\n",
       "0                1284.398058         1314.280000           0.000000\n",
       "1                        NaN                 NaN                NaN\n",
       "2                2207.408163         4333.333333           0.000000\n",
       "3                2457.648649         1333.333333        2663.333333\n",
       "4                        NaN                 NaN                NaN\n",
       "...                      ...                 ...                ...\n",
       "2740770          1148.521127         1050.000000           0.000000\n",
       "2740771          1148.521127         1050.000000           0.000000\n",
       "2740772          1188.058824            0.000000           0.000000\n",
       "2740773          1784.277778         3166.666667           0.000000\n",
       "2740774          1784.277778         3166.666667           0.000000\n",
       "\n",
       "[2740775 rows x 3 columns]"
      ]
     },
     "execution_count": 121,
     "metadata": {},
     "output_type": "execute_result"
    }
   ],
   "source": [
    "data[['PRECIO_MEGA_CLARO_1','PRECIO_MEGA_TIGO_1','PRECIO_MEGA_ETB_1']]"
   ]
  },
  {
   "cell_type": "code",
   "execution_count": 122,
   "id": "e1bfd23c",
   "metadata": {},
   "outputs": [
    {
     "data": {
      "text/plain": [
       "Index(['CUENTA', 'COD_SERVICIO', 'Tipo_Servicio', 'COD_NODO', 'ESTRATO',\n",
       "       'CARTERA', 'CONGELACION', 'VIAJES', 'CAPACIDAD_DE_PAGO',\n",
       "       'CAUSAS_EXTERNAS', 'COMPETENCIA', 'MAL_SERVICIO', 'NO_UTILIZAR',\n",
       "       'NO_GUSTO', 'SIN_MOTIVO', 'SIN_CONTACTO', 'OTROS', 'Total_Bajas',\n",
       "       'MES_x', 'fecha', 'CHURN_TEMPRANO', 'INVOLUNTARIO', 'VOLUNTARIO',\n",
       "       'TIPO_RAZON', 'MESES_ACTIVO', 'CANTIDAD_LLAMADAS', 'CANTIDAD_ADMIN',\n",
       "       'CANTIDAD_TECNICO', 'CAMPANA_HBO', 'CAMPANA_FOX', 'CAMPANA_ADULTO',\n",
       "       'CAMPANA_EQUIPOS_ADIC', 'CAMPANA_ULTRAWIFI', 'CAMPANA_VOZ',\n",
       "       'CAMPANA_RETENCION', 'CAMPANA_AFECTACION_SRV', 'FECHA', 'servicio',\n",
       "       'NODO', 'MES_y', 'PART_CANT_CALL', 'CANT_USER', 'PROM_VEL', 'VEL_ME_8',\n",
       "       'VEL_10_25', 'VEL_30', 'VEL_40_50', 'VEL_MA_60', 'CONVERGENTE',\n",
       "       'PROM_VEL_HOGAR', 'MEDIANA_VEL', 'PROM_RENTA', 'PRECIO_MEGA_CLARO_1',\n",
       "       'CANTIDAD_churn', 'ANTIGUEDAD_MESES_PROM', 'ANTIGUEDAD_MESES_MED',\n",
       "       'AVG_TARIFA_TIGO', 'AVG_TIGO_MEGAS', 'PRECIO_MEGA_TIGO_1',\n",
       "       'AVG_TARIFA_ETB', 'AVG_ETB_MEGAS', 'PRECIO_MEGA_ETB_1',\n",
       "       'AVG_TARIFA_MOVISTAR', 'AVG_MOVISTAR_MEGAS', 'AVG_MOV_MEGAS',\n",
       "       'OPERADOR_TIGO_OOKLA', 'OPERADOR_ETB_OOKLA', 'OPERADOR_MOVISTAR_OOKLA',\n",
       "       'SUMA_OPERADORES', 'RANK1_VEL_DWLD', 'OP_CLARO', 'CANTIDAD',\n",
       "       'PENETRACION', 'OCUPACION_DW', 'OCUPACION_UP', 'ALFA', 'BETA', 'MEGA',\n",
       "       'NIVEL_ALARMA_MALO', 'NIVEL_ALARMA_BUENO', 'DIVISION', 'AREA', 'ZONA',\n",
       "       'CIUDAD', 'DISTRITO', 'comp_tarifa', 'operador_menor_tarifa',\n",
       "       'ALFA_tarifa'],\n",
       "      dtype='object')"
      ]
     },
     "execution_count": 122,
     "metadata": {},
     "output_type": "execute_result"
    }
   ],
   "source": [
    "data.columns"
   ]
  },
  {
   "cell_type": "code",
   "execution_count": 123,
   "id": "fc90877e",
   "metadata": {},
   "outputs": [
    {
     "data": {
      "text/plain": [
       "count    1.686762e+06\n",
       "mean     1.010478e+00\n",
       "std      2.085272e-01\n",
       "min      3.469364e-01\n",
       "25%      8.650402e-01\n",
       "50%      9.893241e-01\n",
       "75%      1.140080e+00\n",
       "max      2.918921e+00\n",
       "Name: ALFA_tarifa, dtype: float64"
      ]
     },
     "execution_count": 123,
     "metadata": {},
     "output_type": "execute_result"
    }
   ],
   "source": [
    "data['ALFA_tarifa'].describe()"
   ]
  },
  {
   "cell_type": "markdown",
   "id": "08427a50",
   "metadata": {},
   "source": [
    "### Llamadas"
   ]
  },
  {
   "cell_type": "code",
   "execution_count": 124,
   "id": "99088c3f",
   "metadata": {},
   "outputs": [],
   "source": [
    "llamadas= pd.read_csv('../Data_final_llamadas.csv',sep=';', header = 0)\n",
    "#llamadas2= pd.read_csv('Cantidad_llamadas_v2.csv',sep=';', header = 0)"
   ]
  },
  {
   "cell_type": "code",
   "execution_count": 125,
   "id": "a6bcf4cd",
   "metadata": {},
   "outputs": [
    {
     "data": {
      "text/html": [
       "<div>\n",
       "<style scoped>\n",
       "    .dataframe tbody tr th:only-of-type {\n",
       "        vertical-align: middle;\n",
       "    }\n",
       "\n",
       "    .dataframe tbody tr th {\n",
       "        vertical-align: top;\n",
       "    }\n",
       "\n",
       "    .dataframe thead th {\n",
       "        text-align: right;\n",
       "    }\n",
       "</style>\n",
       "<table border=\"1\" class=\"dataframe\">\n",
       "  <thead>\n",
       "    <tr style=\"text-align: right;\">\n",
       "      <th></th>\n",
       "      <th>CUENTA</th>\n",
       "      <th>NODO</th>\n",
       "      <th>MES</th>\n",
       "      <th>ANIO</th>\n",
       "      <th>CANTIDAD</th>\n",
       "      <th>CANTIDAD_TECNICO</th>\n",
       "      <th>CANTIDAD_ADMIN</th>\n",
       "    </tr>\n",
       "  </thead>\n",
       "  <tbody>\n",
       "    <tr>\n",
       "      <th>0</th>\n",
       "      <td>91181076</td>\n",
       "      <td>HVILVX</td>\n",
       "      <td>1</td>\n",
       "      <td>2021</td>\n",
       "      <td>3</td>\n",
       "      <td>0</td>\n",
       "      <td>3</td>\n",
       "    </tr>\n",
       "    <tr>\n",
       "      <th>1</th>\n",
       "      <td>88445689</td>\n",
       "      <td>OD4</td>\n",
       "      <td>1</td>\n",
       "      <td>2021</td>\n",
       "      <td>2</td>\n",
       "      <td>0</td>\n",
       "      <td>2</td>\n",
       "    </tr>\n",
       "    <tr>\n",
       "      <th>2</th>\n",
       "      <td>40132405</td>\n",
       "      <td>GM1</td>\n",
       "      <td>1</td>\n",
       "      <td>2021</td>\n",
       "      <td>8</td>\n",
       "      <td>2</td>\n",
       "      <td>6</td>\n",
       "    </tr>\n",
       "    <tr>\n",
       "      <th>3</th>\n",
       "      <td>55056827</td>\n",
       "      <td>RIV</td>\n",
       "      <td>1</td>\n",
       "      <td>2021</td>\n",
       "      <td>6</td>\n",
       "      <td>0</td>\n",
       "      <td>6</td>\n",
       "    </tr>\n",
       "    <tr>\n",
       "      <th>4</th>\n",
       "      <td>74445399</td>\n",
       "      <td>2DL</td>\n",
       "      <td>1</td>\n",
       "      <td>2021</td>\n",
       "      <td>1</td>\n",
       "      <td>0</td>\n",
       "      <td>1</td>\n",
       "    </tr>\n",
       "    <tr>\n",
       "      <th>...</th>\n",
       "      <td>...</td>\n",
       "      <td>...</td>\n",
       "      <td>...</td>\n",
       "      <td>...</td>\n",
       "      <td>...</td>\n",
       "      <td>...</td>\n",
       "      <td>...</td>\n",
       "    </tr>\n",
       "    <tr>\n",
       "      <th>2987474</th>\n",
       "      <td>15560535</td>\n",
       "      <td>1GV</td>\n",
       "      <td>12</td>\n",
       "      <td>2020</td>\n",
       "      <td>1</td>\n",
       "      <td>1</td>\n",
       "      <td>0</td>\n",
       "    </tr>\n",
       "    <tr>\n",
       "      <th>2987475</th>\n",
       "      <td>18792784</td>\n",
       "      <td>UD5</td>\n",
       "      <td>12</td>\n",
       "      <td>2020</td>\n",
       "      <td>1</td>\n",
       "      <td>1</td>\n",
       "      <td>0</td>\n",
       "    </tr>\n",
       "    <tr>\n",
       "      <th>2987476</th>\n",
       "      <td>31958172</td>\n",
       "      <td>C0823D</td>\n",
       "      <td>12</td>\n",
       "      <td>2020</td>\n",
       "      <td>1</td>\n",
       "      <td>0</td>\n",
       "      <td>1</td>\n",
       "    </tr>\n",
       "    <tr>\n",
       "      <th>2987477</th>\n",
       "      <td>81235262</td>\n",
       "      <td>ART</td>\n",
       "      <td>12</td>\n",
       "      <td>2020</td>\n",
       "      <td>1</td>\n",
       "      <td>0</td>\n",
       "      <td>1</td>\n",
       "    </tr>\n",
       "    <tr>\n",
       "      <th>2987478</th>\n",
       "      <td>85633348</td>\n",
       "      <td>B1N</td>\n",
       "      <td>12</td>\n",
       "      <td>2020</td>\n",
       "      <td>1</td>\n",
       "      <td>1</td>\n",
       "      <td>0</td>\n",
       "    </tr>\n",
       "  </tbody>\n",
       "</table>\n",
       "<p>2987479 rows × 7 columns</p>\n",
       "</div>"
      ],
      "text/plain": [
       "           CUENTA    NODO  MES  ANIO  CANTIDAD  CANTIDAD_TECNICO  \\\n",
       "0        91181076  HVILVX    1  2021         3                 0   \n",
       "1        88445689     OD4    1  2021         2                 0   \n",
       "2        40132405     GM1    1  2021         8                 2   \n",
       "3        55056827     RIV    1  2021         6                 0   \n",
       "4        74445399     2DL    1  2021         1                 0   \n",
       "...           ...     ...  ...   ...       ...               ...   \n",
       "2987474  15560535     1GV   12  2020         1                 1   \n",
       "2987475  18792784     UD5   12  2020         1                 1   \n",
       "2987476  31958172  C0823D   12  2020         1                 0   \n",
       "2987477  81235262     ART   12  2020         1                 0   \n",
       "2987478  85633348     B1N   12  2020         1                 1   \n",
       "\n",
       "         CANTIDAD_ADMIN  \n",
       "0                     3  \n",
       "1                     2  \n",
       "2                     6  \n",
       "3                     6  \n",
       "4                     1  \n",
       "...                 ...  \n",
       "2987474               0  \n",
       "2987475               0  \n",
       "2987476               1  \n",
       "2987477               1  \n",
       "2987478               0  \n",
       "\n",
       "[2987479 rows x 7 columns]"
      ]
     },
     "execution_count": 125,
     "metadata": {},
     "output_type": "execute_result"
    }
   ],
   "source": [
    "llamadas"
   ]
  },
  {
   "cell_type": "code",
   "execution_count": 126,
   "id": "b726e783",
   "metadata": {},
   "outputs": [],
   "source": [
    "#llamadas=llamadas.sort_values(['CUENTA','NODO','ANIO','MES'])"
   ]
  },
  {
   "cell_type": "code",
   "execution_count": 127,
   "id": "13983682",
   "metadata": {},
   "outputs": [
    {
     "data": {
      "text/html": [
       "<div>\n",
       "<style scoped>\n",
       "    .dataframe tbody tr th:only-of-type {\n",
       "        vertical-align: middle;\n",
       "    }\n",
       "\n",
       "    .dataframe tbody tr th {\n",
       "        vertical-align: top;\n",
       "    }\n",
       "\n",
       "    .dataframe thead th {\n",
       "        text-align: right;\n",
       "    }\n",
       "</style>\n",
       "<table border=\"1\" class=\"dataframe\">\n",
       "  <thead>\n",
       "    <tr style=\"text-align: right;\">\n",
       "      <th></th>\n",
       "      <th></th>\n",
       "      <th></th>\n",
       "      <th>NODO</th>\n",
       "    </tr>\n",
       "    <tr>\n",
       "      <th>CUENTA</th>\n",
       "      <th>MES</th>\n",
       "      <th>ANIO</th>\n",
       "      <th></th>\n",
       "    </tr>\n",
       "  </thead>\n",
       "  <tbody>\n",
       "    <tr>\n",
       "      <th>1817058</th>\n",
       "      <th>9</th>\n",
       "      <th>2020</th>\n",
       "      <td>4</td>\n",
       "    </tr>\n",
       "    <tr>\n",
       "      <th>22823443</th>\n",
       "      <th>3</th>\n",
       "      <th>2021</th>\n",
       "      <td>3</td>\n",
       "    </tr>\n",
       "    <tr>\n",
       "      <th>17865737</th>\n",
       "      <th>8</th>\n",
       "      <th>2021</th>\n",
       "      <td>3</td>\n",
       "    </tr>\n",
       "    <tr>\n",
       "      <th>27863147</th>\n",
       "      <th>10</th>\n",
       "      <th>2020</th>\n",
       "      <td>3</td>\n",
       "    </tr>\n",
       "    <tr>\n",
       "      <th>69106915</th>\n",
       "      <th>9</th>\n",
       "      <th>2020</th>\n",
       "      <td>3</td>\n",
       "    </tr>\n",
       "    <tr>\n",
       "      <th>...</th>\n",
       "      <th>...</th>\n",
       "      <th>...</th>\n",
       "      <td>...</td>\n",
       "    </tr>\n",
       "    <tr>\n",
       "      <th rowspan=\"4\" valign=\"top\">31163278</th>\n",
       "      <th>1</th>\n",
       "      <th>2021</th>\n",
       "      <td>1</td>\n",
       "    </tr>\n",
       "    <tr>\n",
       "      <th>8</th>\n",
       "      <th>2021</th>\n",
       "      <td>1</td>\n",
       "    </tr>\n",
       "    <tr>\n",
       "      <th>10</th>\n",
       "      <th>2021</th>\n",
       "      <td>1</td>\n",
       "    </tr>\n",
       "    <tr>\n",
       "      <th>11</th>\n",
       "      <th>2021</th>\n",
       "      <td>1</td>\n",
       "    </tr>\n",
       "    <tr>\n",
       "      <th>99699723</th>\n",
       "      <th>10</th>\n",
       "      <th>2020</th>\n",
       "      <td>1</td>\n",
       "    </tr>\n",
       "  </tbody>\n",
       "</table>\n",
       "<p>2957534 rows × 1 columns</p>\n",
       "</div>"
      ],
      "text/plain": [
       "                   NODO\n",
       "CUENTA   MES ANIO      \n",
       "1817058  9   2020     4\n",
       "22823443 3   2021     3\n",
       "17865737 8   2021     3\n",
       "27863147 10  2020     3\n",
       "69106915 9   2020     3\n",
       "...                 ...\n",
       "31163278 1   2021     1\n",
       "         8   2021     1\n",
       "         10  2021     1\n",
       "         11  2021     1\n",
       "99699723 10  2020     1\n",
       "\n",
       "[2957534 rows x 1 columns]"
      ]
     },
     "execution_count": 127,
     "metadata": {},
     "output_type": "execute_result"
    }
   ],
   "source": [
    "llamadas[['CUENTA','NODO','ANIO','MES']].groupby(['CUENTA','MES','ANIO']).count().sort_values('NODO', ascending=False)"
   ]
  },
  {
   "cell_type": "code",
   "execution_count": 128,
   "id": "286ec88c",
   "metadata": {},
   "outputs": [
    {
     "data": {
      "text/html": [
       "<div>\n",
       "<style scoped>\n",
       "    .dataframe tbody tr th:only-of-type {\n",
       "        vertical-align: middle;\n",
       "    }\n",
       "\n",
       "    .dataframe tbody tr th {\n",
       "        vertical-align: top;\n",
       "    }\n",
       "\n",
       "    .dataframe thead th {\n",
       "        text-align: right;\n",
       "    }\n",
       "</style>\n",
       "<table border=\"1\" class=\"dataframe\">\n",
       "  <thead>\n",
       "    <tr style=\"text-align: right;\">\n",
       "      <th></th>\n",
       "      <th>CUENTA</th>\n",
       "      <th>NODO</th>\n",
       "      <th>MES</th>\n",
       "      <th>ANIO</th>\n",
       "      <th>CANTIDAD</th>\n",
       "      <th>CANTIDAD_TECNICO</th>\n",
       "      <th>CANTIDAD_ADMIN</th>\n",
       "    </tr>\n",
       "  </thead>\n",
       "  <tbody>\n",
       "  </tbody>\n",
       "</table>\n",
       "</div>"
      ],
      "text/plain": [
       "Empty DataFrame\n",
       "Columns: [CUENTA, NODO, MES, ANIO, CANTIDAD, CANTIDAD_TECNICO, CANTIDAD_ADMIN]\n",
       "Index: []"
      ]
     },
     "execution_count": 128,
     "metadata": {},
     "output_type": "execute_result"
    }
   ],
   "source": [
    "llamadas[llamadas['CUENTA']==61672518].sort_values('MES')"
   ]
  },
  {
   "cell_type": "code",
   "execution_count": 129,
   "id": "83123e7b",
   "metadata": {},
   "outputs": [],
   "source": [
    "llamadas['DIA']=1\n",
    "llamadas['FECHA']=pd.to_datetime(llamadas['ANIO']*10000+llamadas['MES']*100+llamadas['DIA'], format='%Y%m%d')\n",
    "llamadas['KEY']=llamadas['CUENTA'].astype(str)+'--'+llamadas['NODO'].astype(str)"
   ]
  },
  {
   "cell_type": "code",
   "execution_count": 130,
   "id": "e6c85f42",
   "metadata": {},
   "outputs": [],
   "source": [
    "pv_cantidad_llamadas=pd.pivot_table(llamadas, columns=['KEY'], values=['CANTIDAD'],index=['FECHA'], aggfunc=np.sum)\n",
    "pv_cantidad_llamadas.columns= pv_cantidad_llamadas.columns.droplevel()\n",
    "pv_cantidad_llamadas=pv_cantidad_llamadas.fillna(0).reset_index()\n",
    "#pv_cantidad_llamadas"
   ]
  },
  {
   "cell_type": "code",
   "execution_count": 131,
   "id": "d5c9ee98",
   "metadata": {
    "scrolled": true
   },
   "outputs": [],
   "source": [
    "un_llamadas=pd.melt(pv_cantidad_llamadas, id_vars=['FECHA'], var_name='NODO', value_name='CANTIDAD_LLAMADAS')\n",
    "un_llamadas=un_llamadas.sort_values(['NODO','FECHA'])\n",
    "#un_llamadas"
   ]
  },
  {
   "cell_type": "code",
   "execution_count": 132,
   "id": "864eb3eb",
   "metadata": {},
   "outputs": [],
   "source": [
    "un_llamadas['CANT_1'] = un_llamadas.groupby(['NODO'])['CANTIDAD_LLAMADAS'].shift(1)\n",
    "un_llamadas['CANT_2'] = un_llamadas.groupby(['NODO'])['CANTIDAD_LLAMADAS'].shift(2)\n",
    "#un_llamadas"
   ]
  },
  {
   "cell_type": "code",
   "execution_count": 133,
   "id": "81fb19fd",
   "metadata": {},
   "outputs": [],
   "source": [
    "un_llamadas['Llamadas_3M']=un_llamadas[['CANTIDAD_LLAMADAS','CANT_1','CANT_2']].sum(axis=1)\n",
    "un_llamadas[['CUENTA','COD_NODO']] = un_llamadas['NODO'].str.split('--',expand=True)"
   ]
  },
  {
   "cell_type": "code",
   "execution_count": 134,
   "id": "6dedfa6b",
   "metadata": {},
   "outputs": [],
   "source": [
    "#un_llamadas=un_llamadas.rename(columns={'COD_NODO':'CUENTA','CUENTA':'COD_NODO'})\n",
    "#un_llamadas['CUENTA']=un_llamadas['CUENTA'].astype('Int64')"
   ]
  },
  {
   "cell_type": "code",
   "execution_count": 135,
   "id": "4063df66",
   "metadata": {},
   "outputs": [
    {
     "data": {
      "text/plain": [
       "14123744"
      ]
     },
     "execution_count": 135,
     "metadata": {},
     "output_type": "execute_result"
    }
   ],
   "source": [
    "len(un_llamadas)"
   ]
  },
  {
   "cell_type": "code",
   "execution_count": 136,
   "id": "3498be37",
   "metadata": {},
   "outputs": [],
   "source": [
    "un_llamadas=un_llamadas[un_llamadas['FECHA'].dt.year==2021]"
   ]
  },
  {
   "cell_type": "code",
   "execution_count": 137,
   "id": "b5f0e7b1",
   "metadata": {},
   "outputs": [],
   "source": [
    "un_llamadas['MES']=un_llamadas['FECHA'].dt.month"
   ]
  },
  {
   "cell_type": "code",
   "execution_count": 138,
   "id": "add60912",
   "metadata": {},
   "outputs": [],
   "source": [
    "un_llamadas=un_llamadas.groupby(['CUENTA','COD_NODO','MES'])[['Llamadas_3M']].sum().reset_index()"
   ]
  },
  {
   "cell_type": "code",
   "execution_count": 139,
   "id": "a0e11efd",
   "metadata": {},
   "outputs": [
    {
     "data": {
      "text/html": [
       "<div>\n",
       "<style scoped>\n",
       "    .dataframe tbody tr th:only-of-type {\n",
       "        vertical-align: middle;\n",
       "    }\n",
       "\n",
       "    .dataframe tbody tr th {\n",
       "        vertical-align: top;\n",
       "    }\n",
       "\n",
       "    .dataframe thead th {\n",
       "        text-align: right;\n",
       "    }\n",
       "</style>\n",
       "<table border=\"1\" class=\"dataframe\">\n",
       "  <thead>\n",
       "    <tr style=\"text-align: right;\">\n",
       "      <th></th>\n",
       "      <th>CUENTA</th>\n",
       "      <th>COD_NODO</th>\n",
       "      <th>MES</th>\n",
       "      <th>Llamadas_3M</th>\n",
       "    </tr>\n",
       "  </thead>\n",
       "  <tbody>\n",
       "    <tr>\n",
       "      <th>0</th>\n",
       "      <td>10000099</td>\n",
       "      <td>ENC1</td>\n",
       "      <td>1</td>\n",
       "      <td>15.0</td>\n",
       "    </tr>\n",
       "    <tr>\n",
       "      <th>1</th>\n",
       "      <td>10000099</td>\n",
       "      <td>ENC1</td>\n",
       "      <td>2</td>\n",
       "      <td>16.0</td>\n",
       "    </tr>\n",
       "    <tr>\n",
       "      <th>2</th>\n",
       "      <td>10000099</td>\n",
       "      <td>ENC1</td>\n",
       "      <td>3</td>\n",
       "      <td>13.0</td>\n",
       "    </tr>\n",
       "    <tr>\n",
       "      <th>3</th>\n",
       "      <td>10000099</td>\n",
       "      <td>ENC1</td>\n",
       "      <td>4</td>\n",
       "      <td>1.0</td>\n",
       "    </tr>\n",
       "    <tr>\n",
       "      <th>4</th>\n",
       "      <td>10000099</td>\n",
       "      <td>ENC1</td>\n",
       "      <td>5</td>\n",
       "      <td>0.0</td>\n",
       "    </tr>\n",
       "    <tr>\n",
       "      <th>...</th>\n",
       "      <td>...</td>\n",
       "      <td>...</td>\n",
       "      <td>...</td>\n",
       "      <td>...</td>\n",
       "    </tr>\n",
       "    <tr>\n",
       "      <th>10592803</th>\n",
       "      <td>9999882</td>\n",
       "      <td>ONE</td>\n",
       "      <td>8</td>\n",
       "      <td>10.0</td>\n",
       "    </tr>\n",
       "    <tr>\n",
       "      <th>10592804</th>\n",
       "      <td>9999882</td>\n",
       "      <td>ONE</td>\n",
       "      <td>9</td>\n",
       "      <td>10.0</td>\n",
       "    </tr>\n",
       "    <tr>\n",
       "      <th>10592805</th>\n",
       "      <td>9999882</td>\n",
       "      <td>ONE</td>\n",
       "      <td>10</td>\n",
       "      <td>6.0</td>\n",
       "    </tr>\n",
       "    <tr>\n",
       "      <th>10592806</th>\n",
       "      <td>9999882</td>\n",
       "      <td>ONE</td>\n",
       "      <td>11</td>\n",
       "      <td>0.0</td>\n",
       "    </tr>\n",
       "    <tr>\n",
       "      <th>10592807</th>\n",
       "      <td>9999882</td>\n",
       "      <td>ONE</td>\n",
       "      <td>12</td>\n",
       "      <td>0.0</td>\n",
       "    </tr>\n",
       "  </tbody>\n",
       "</table>\n",
       "<p>10592808 rows × 4 columns</p>\n",
       "</div>"
      ],
      "text/plain": [
       "            CUENTA COD_NODO  MES  Llamadas_3M\n",
       "0         10000099     ENC1    1         15.0\n",
       "1         10000099     ENC1    2         16.0\n",
       "2         10000099     ENC1    3         13.0\n",
       "3         10000099     ENC1    4          1.0\n",
       "4         10000099     ENC1    5          0.0\n",
       "...            ...      ...  ...          ...\n",
       "10592803   9999882      ONE    8         10.0\n",
       "10592804   9999882      ONE    9         10.0\n",
       "10592805   9999882      ONE   10          6.0\n",
       "10592806   9999882      ONE   11          0.0\n",
       "10592807   9999882      ONE   12          0.0\n",
       "\n",
       "[10592808 rows x 4 columns]"
      ]
     },
     "execution_count": 139,
     "metadata": {},
     "output_type": "execute_result"
    }
   ],
   "source": [
    "un_llamadas"
   ]
  },
  {
   "cell_type": "code",
   "execution_count": 140,
   "id": "c417f73a",
   "metadata": {},
   "outputs": [
    {
     "data": {
      "text/plain": [
       "dtype('O')"
      ]
     },
     "execution_count": 140,
     "metadata": {},
     "output_type": "execute_result"
    }
   ],
   "source": [
    "un_llamadas.dtypes['CUENTA']"
   ]
  },
  {
   "cell_type": "code",
   "execution_count": 141,
   "id": "85714f3b",
   "metadata": {},
   "outputs": [],
   "source": [
    "data=data.merge(un_llamadas[['COD_NODO','CUENTA','MES','Llamadas_3M']],left_on=['COD_NODO','CUENTA','FECHA'],right_on=['COD_NODO','CUENTA','MES'],how='left')"
   ]
  },
  {
   "cell_type": "code",
   "execution_count": 142,
   "id": "b7837f70",
   "metadata": {},
   "outputs": [
    {
     "data": {
      "text/html": [
       "<div>\n",
       "<style scoped>\n",
       "    .dataframe tbody tr th:only-of-type {\n",
       "        vertical-align: middle;\n",
       "    }\n",
       "\n",
       "    .dataframe tbody tr th {\n",
       "        vertical-align: top;\n",
       "    }\n",
       "\n",
       "    .dataframe thead th {\n",
       "        text-align: right;\n",
       "    }\n",
       "</style>\n",
       "<table border=\"1\" class=\"dataframe\">\n",
       "  <thead>\n",
       "    <tr style=\"text-align: right;\">\n",
       "      <th></th>\n",
       "      <th>CUENTA</th>\n",
       "      <th>COD_SERVICIO</th>\n",
       "      <th>Tipo_Servicio</th>\n",
       "      <th>COD_NODO</th>\n",
       "      <th>ESTRATO</th>\n",
       "      <th>CARTERA</th>\n",
       "      <th>CONGELACION</th>\n",
       "      <th>VIAJES</th>\n",
       "      <th>CAPACIDAD_DE_PAGO</th>\n",
       "      <th>CAUSAS_EXTERNAS</th>\n",
       "      <th>COMPETENCIA</th>\n",
       "      <th>MAL_SERVICIO</th>\n",
       "      <th>NO_UTILIZAR</th>\n",
       "      <th>NO_GUSTO</th>\n",
       "      <th>SIN_MOTIVO</th>\n",
       "      <th>SIN_CONTACTO</th>\n",
       "      <th>OTROS</th>\n",
       "      <th>Total_Bajas</th>\n",
       "      <th>MES_x</th>\n",
       "      <th>fecha</th>\n",
       "      <th>CHURN_TEMPRANO</th>\n",
       "      <th>INVOLUNTARIO</th>\n",
       "      <th>VOLUNTARIO</th>\n",
       "      <th>TIPO_RAZON</th>\n",
       "      <th>MESES_ACTIVO</th>\n",
       "      <th>CANTIDAD_LLAMADAS</th>\n",
       "      <th>CANTIDAD_ADMIN</th>\n",
       "      <th>CANTIDAD_TECNICO</th>\n",
       "      <th>CAMPANA_HBO</th>\n",
       "      <th>CAMPANA_FOX</th>\n",
       "      <th>CAMPANA_ADULTO</th>\n",
       "      <th>CAMPANA_EQUIPOS_ADIC</th>\n",
       "      <th>CAMPANA_ULTRAWIFI</th>\n",
       "      <th>CAMPANA_VOZ</th>\n",
       "      <th>CAMPANA_RETENCION</th>\n",
       "      <th>CAMPANA_AFECTACION_SRV</th>\n",
       "      <th>FECHA</th>\n",
       "      <th>servicio</th>\n",
       "      <th>NODO</th>\n",
       "      <th>MES_y</th>\n",
       "      <th>PART_CANT_CALL</th>\n",
       "      <th>CANT_USER</th>\n",
       "      <th>PROM_VEL</th>\n",
       "      <th>VEL_ME_8</th>\n",
       "      <th>VEL_10_25</th>\n",
       "      <th>VEL_30</th>\n",
       "      <th>VEL_40_50</th>\n",
       "      <th>VEL_MA_60</th>\n",
       "      <th>CONVERGENTE</th>\n",
       "      <th>PROM_VEL_HOGAR</th>\n",
       "      <th>MEDIANA_VEL</th>\n",
       "      <th>PROM_RENTA</th>\n",
       "      <th>PRECIO_MEGA_CLARO_1</th>\n",
       "      <th>CANTIDAD_churn</th>\n",
       "      <th>ANTIGUEDAD_MESES_PROM</th>\n",
       "      <th>ANTIGUEDAD_MESES_MED</th>\n",
       "      <th>AVG_TARIFA_TIGO</th>\n",
       "      <th>AVG_TIGO_MEGAS</th>\n",
       "      <th>PRECIO_MEGA_TIGO_1</th>\n",
       "      <th>AVG_TARIFA_ETB</th>\n",
       "      <th>AVG_ETB_MEGAS</th>\n",
       "      <th>PRECIO_MEGA_ETB_1</th>\n",
       "      <th>AVG_TARIFA_MOVISTAR</th>\n",
       "      <th>AVG_MOVISTAR_MEGAS</th>\n",
       "      <th>AVG_MOV_MEGAS</th>\n",
       "      <th>OPERADOR_TIGO_OOKLA</th>\n",
       "      <th>OPERADOR_ETB_OOKLA</th>\n",
       "      <th>OPERADOR_MOVISTAR_OOKLA</th>\n",
       "      <th>SUMA_OPERADORES</th>\n",
       "      <th>RANK1_VEL_DWLD</th>\n",
       "      <th>OP_CLARO</th>\n",
       "      <th>CANTIDAD</th>\n",
       "      <th>PENETRACION</th>\n",
       "      <th>OCUPACION_DW</th>\n",
       "      <th>OCUPACION_UP</th>\n",
       "      <th>ALFA</th>\n",
       "      <th>BETA</th>\n",
       "      <th>MEGA</th>\n",
       "      <th>NIVEL_ALARMA_MALO</th>\n",
       "      <th>NIVEL_ALARMA_BUENO</th>\n",
       "      <th>DIVISION</th>\n",
       "      <th>AREA</th>\n",
       "      <th>ZONA</th>\n",
       "      <th>CIUDAD</th>\n",
       "      <th>DISTRITO</th>\n",
       "      <th>comp_tarifa</th>\n",
       "      <th>operador_menor_tarifa</th>\n",
       "      <th>ALFA_tarifa</th>\n",
       "      <th>MES</th>\n",
       "      <th>Llamadas_3M</th>\n",
       "    </tr>\n",
       "  </thead>\n",
       "  <tbody>\n",
       "  </tbody>\n",
       "</table>\n",
       "</div>"
      ],
      "text/plain": [
       "Empty DataFrame\n",
       "Columns: [CUENTA, COD_SERVICIO, Tipo_Servicio, COD_NODO, ESTRATO, CARTERA, CONGELACION, VIAJES, CAPACIDAD_DE_PAGO, CAUSAS_EXTERNAS, COMPETENCIA, MAL_SERVICIO, NO_UTILIZAR, NO_GUSTO, SIN_MOTIVO, SIN_CONTACTO, OTROS, Total_Bajas, MES_x, fecha, CHURN_TEMPRANO, INVOLUNTARIO, VOLUNTARIO, TIPO_RAZON, MESES_ACTIVO, CANTIDAD_LLAMADAS, CANTIDAD_ADMIN, CANTIDAD_TECNICO, CAMPANA_HBO, CAMPANA_FOX, CAMPANA_ADULTO, CAMPANA_EQUIPOS_ADIC, CAMPANA_ULTRAWIFI, CAMPANA_VOZ, CAMPANA_RETENCION, CAMPANA_AFECTACION_SRV, FECHA, servicio, NODO, MES_y, PART_CANT_CALL, CANT_USER, PROM_VEL, VEL_ME_8, VEL_10_25, VEL_30, VEL_40_50, VEL_MA_60, CONVERGENTE, PROM_VEL_HOGAR, MEDIANA_VEL, PROM_RENTA, PRECIO_MEGA_CLARO_1, CANTIDAD_churn, ANTIGUEDAD_MESES_PROM, ANTIGUEDAD_MESES_MED, AVG_TARIFA_TIGO, AVG_TIGO_MEGAS, PRECIO_MEGA_TIGO_1, AVG_TARIFA_ETB, AVG_ETB_MEGAS, PRECIO_MEGA_ETB_1, AVG_TARIFA_MOVISTAR, AVG_MOVISTAR_MEGAS, AVG_MOV_MEGAS, OPERADOR_TIGO_OOKLA, OPERADOR_ETB_OOKLA, OPERADOR_MOVISTAR_OOKLA, SUMA_OPERADORES, RANK1_VEL_DWLD, OP_CLARO, CANTIDAD, PENETRACION, OCUPACION_DW, OCUPACION_UP, ALFA, BETA, MEGA, NIVEL_ALARMA_MALO, NIVEL_ALARMA_BUENO, DIVISION, AREA, ZONA, CIUDAD, DISTRITO, comp_tarifa, operador_menor_tarifa, ALFA_tarifa, MES, Llamadas_3M]\n",
       "Index: []"
      ]
     },
     "execution_count": 142,
     "metadata": {},
     "output_type": "execute_result"
    }
   ],
   "source": [
    "data[data['CUENTA']=='10000043']"
   ]
  },
  {
   "cell_type": "markdown",
   "id": "d97a31aa",
   "metadata": {},
   "source": [
    "#### Llamadas Admins"
   ]
  },
  {
   "cell_type": "code",
   "execution_count": 143,
   "id": "35b8d4b8",
   "metadata": {},
   "outputs": [],
   "source": [
    "pv_cantidad_llamadas=pd.pivot_table(llamadas, columns=['KEY'], values=['CANTIDAD_ADMIN'],index=['FECHA'], aggfunc=np.sum)\n",
    "pv_cantidad_llamadas.columns= pv_cantidad_llamadas.columns.droplevel()\n",
    "pv_cantidad_llamadas=pv_cantidad_llamadas.fillna(0).reset_index()"
   ]
  },
  {
   "cell_type": "code",
   "execution_count": 144,
   "id": "59c654ce",
   "metadata": {},
   "outputs": [],
   "source": [
    "un_llamadas=pd.melt(pv_cantidad_llamadas, id_vars=['FECHA'], var_name='NODO', value_name='ADMIN')\n",
    "un_llamadas=un_llamadas.sort_values(['NODO','FECHA'])"
   ]
  },
  {
   "cell_type": "code",
   "execution_count": 145,
   "id": "cbab7ee6",
   "metadata": {},
   "outputs": [],
   "source": [
    "un_llamadas['CANT_1'] = un_llamadas.groupby(['NODO'])['ADMIN'].shift(1)\n",
    "un_llamadas['CANT_2'] = un_llamadas.groupby(['NODO'])['ADMIN'].shift(2)"
   ]
  },
  {
   "cell_type": "code",
   "execution_count": 146,
   "id": "d31ceb76",
   "metadata": {},
   "outputs": [],
   "source": [
    "un_llamadas['Llamadas_Admin_3M']=un_llamadas[['ADMIN','CANT_1','CANT_2']].sum(axis=1)\n",
    "un_llamadas[['CUENTA','COD_NODO']] = un_llamadas['NODO'].str.split('--',expand=True)"
   ]
  },
  {
   "cell_type": "code",
   "execution_count": 147,
   "id": "3fae667e",
   "metadata": {},
   "outputs": [],
   "source": [
    "un_llamadas=un_llamadas[un_llamadas['FECHA'].dt.year==2021]\n",
    "un_llamadas['MES']=un_llamadas['FECHA'].dt.month"
   ]
  },
  {
   "cell_type": "code",
   "execution_count": 148,
   "id": "9f28c157",
   "metadata": {},
   "outputs": [],
   "source": [
    "un_llamadas=un_llamadas.groupby(['CUENTA','COD_NODO','MES'])[['Llamadas_Admin_3M']].sum().reset_index()"
   ]
  },
  {
   "cell_type": "code",
   "execution_count": 149,
   "id": "a35587d9",
   "metadata": {},
   "outputs": [],
   "source": [
    "data=data.merge(un_llamadas[['COD_NODO','CUENTA','MES','Llamadas_Admin_3M']],left_on=['COD_NODO','CUENTA','FECHA'],right_on=['COD_NODO','CUENTA','MES'],how='left')"
   ]
  },
  {
   "cell_type": "code",
   "execution_count": 150,
   "id": "6dc3c9ae",
   "metadata": {},
   "outputs": [
    {
     "data": {
      "text/html": [
       "<div>\n",
       "<style scoped>\n",
       "    .dataframe tbody tr th:only-of-type {\n",
       "        vertical-align: middle;\n",
       "    }\n",
       "\n",
       "    .dataframe tbody tr th {\n",
       "        vertical-align: top;\n",
       "    }\n",
       "\n",
       "    .dataframe thead th {\n",
       "        text-align: right;\n",
       "    }\n",
       "</style>\n",
       "<table border=\"1\" class=\"dataframe\">\n",
       "  <thead>\n",
       "    <tr style=\"text-align: right;\">\n",
       "      <th></th>\n",
       "      <th>CUENTA</th>\n",
       "      <th>COD_SERVICIO</th>\n",
       "      <th>Tipo_Servicio</th>\n",
       "      <th>COD_NODO</th>\n",
       "      <th>ESTRATO</th>\n",
       "      <th>CARTERA</th>\n",
       "      <th>CONGELACION</th>\n",
       "      <th>VIAJES</th>\n",
       "      <th>CAPACIDAD_DE_PAGO</th>\n",
       "      <th>CAUSAS_EXTERNAS</th>\n",
       "      <th>COMPETENCIA</th>\n",
       "      <th>MAL_SERVICIO</th>\n",
       "      <th>NO_UTILIZAR</th>\n",
       "      <th>NO_GUSTO</th>\n",
       "      <th>SIN_MOTIVO</th>\n",
       "      <th>SIN_CONTACTO</th>\n",
       "      <th>OTROS</th>\n",
       "      <th>Total_Bajas</th>\n",
       "      <th>MES_x</th>\n",
       "      <th>fecha</th>\n",
       "      <th>CHURN_TEMPRANO</th>\n",
       "      <th>INVOLUNTARIO</th>\n",
       "      <th>VOLUNTARIO</th>\n",
       "      <th>TIPO_RAZON</th>\n",
       "      <th>MESES_ACTIVO</th>\n",
       "      <th>CANTIDAD_LLAMADAS</th>\n",
       "      <th>CANTIDAD_ADMIN</th>\n",
       "      <th>CANTIDAD_TECNICO</th>\n",
       "      <th>CAMPANA_HBO</th>\n",
       "      <th>CAMPANA_FOX</th>\n",
       "      <th>CAMPANA_ADULTO</th>\n",
       "      <th>CAMPANA_EQUIPOS_ADIC</th>\n",
       "      <th>CAMPANA_ULTRAWIFI</th>\n",
       "      <th>CAMPANA_VOZ</th>\n",
       "      <th>CAMPANA_RETENCION</th>\n",
       "      <th>CAMPANA_AFECTACION_SRV</th>\n",
       "      <th>FECHA</th>\n",
       "      <th>servicio</th>\n",
       "      <th>NODO</th>\n",
       "      <th>MES_y</th>\n",
       "      <th>PART_CANT_CALL</th>\n",
       "      <th>CANT_USER</th>\n",
       "      <th>PROM_VEL</th>\n",
       "      <th>VEL_ME_8</th>\n",
       "      <th>VEL_10_25</th>\n",
       "      <th>VEL_30</th>\n",
       "      <th>VEL_40_50</th>\n",
       "      <th>VEL_MA_60</th>\n",
       "      <th>CONVERGENTE</th>\n",
       "      <th>PROM_VEL_HOGAR</th>\n",
       "      <th>MEDIANA_VEL</th>\n",
       "      <th>PROM_RENTA</th>\n",
       "      <th>PRECIO_MEGA_CLARO_1</th>\n",
       "      <th>CANTIDAD_churn</th>\n",
       "      <th>ANTIGUEDAD_MESES_PROM</th>\n",
       "      <th>ANTIGUEDAD_MESES_MED</th>\n",
       "      <th>AVG_TARIFA_TIGO</th>\n",
       "      <th>AVG_TIGO_MEGAS</th>\n",
       "      <th>PRECIO_MEGA_TIGO_1</th>\n",
       "      <th>AVG_TARIFA_ETB</th>\n",
       "      <th>AVG_ETB_MEGAS</th>\n",
       "      <th>PRECIO_MEGA_ETB_1</th>\n",
       "      <th>AVG_TARIFA_MOVISTAR</th>\n",
       "      <th>AVG_MOVISTAR_MEGAS</th>\n",
       "      <th>AVG_MOV_MEGAS</th>\n",
       "      <th>OPERADOR_TIGO_OOKLA</th>\n",
       "      <th>OPERADOR_ETB_OOKLA</th>\n",
       "      <th>OPERADOR_MOVISTAR_OOKLA</th>\n",
       "      <th>SUMA_OPERADORES</th>\n",
       "      <th>RANK1_VEL_DWLD</th>\n",
       "      <th>OP_CLARO</th>\n",
       "      <th>CANTIDAD</th>\n",
       "      <th>PENETRACION</th>\n",
       "      <th>OCUPACION_DW</th>\n",
       "      <th>OCUPACION_UP</th>\n",
       "      <th>ALFA</th>\n",
       "      <th>BETA</th>\n",
       "      <th>MEGA</th>\n",
       "      <th>NIVEL_ALARMA_MALO</th>\n",
       "      <th>NIVEL_ALARMA_BUENO</th>\n",
       "      <th>DIVISION</th>\n",
       "      <th>AREA</th>\n",
       "      <th>ZONA</th>\n",
       "      <th>CIUDAD</th>\n",
       "      <th>DISTRITO</th>\n",
       "      <th>comp_tarifa</th>\n",
       "      <th>operador_menor_tarifa</th>\n",
       "      <th>ALFA_tarifa</th>\n",
       "      <th>MES_x</th>\n",
       "      <th>Llamadas_3M</th>\n",
       "      <th>MES_y</th>\n",
       "      <th>Llamadas_Admin_3M</th>\n",
       "    </tr>\n",
       "  </thead>\n",
       "  <tbody>\n",
       "  </tbody>\n",
       "</table>\n",
       "</div>"
      ],
      "text/plain": [
       "Empty DataFrame\n",
       "Columns: [CUENTA, COD_SERVICIO, Tipo_Servicio, COD_NODO, ESTRATO, CARTERA, CONGELACION, VIAJES, CAPACIDAD_DE_PAGO, CAUSAS_EXTERNAS, COMPETENCIA, MAL_SERVICIO, NO_UTILIZAR, NO_GUSTO, SIN_MOTIVO, SIN_CONTACTO, OTROS, Total_Bajas, MES_x, fecha, CHURN_TEMPRANO, INVOLUNTARIO, VOLUNTARIO, TIPO_RAZON, MESES_ACTIVO, CANTIDAD_LLAMADAS, CANTIDAD_ADMIN, CANTIDAD_TECNICO, CAMPANA_HBO, CAMPANA_FOX, CAMPANA_ADULTO, CAMPANA_EQUIPOS_ADIC, CAMPANA_ULTRAWIFI, CAMPANA_VOZ, CAMPANA_RETENCION, CAMPANA_AFECTACION_SRV, FECHA, servicio, NODO, MES_y, PART_CANT_CALL, CANT_USER, PROM_VEL, VEL_ME_8, VEL_10_25, VEL_30, VEL_40_50, VEL_MA_60, CONVERGENTE, PROM_VEL_HOGAR, MEDIANA_VEL, PROM_RENTA, PRECIO_MEGA_CLARO_1, CANTIDAD_churn, ANTIGUEDAD_MESES_PROM, ANTIGUEDAD_MESES_MED, AVG_TARIFA_TIGO, AVG_TIGO_MEGAS, PRECIO_MEGA_TIGO_1, AVG_TARIFA_ETB, AVG_ETB_MEGAS, PRECIO_MEGA_ETB_1, AVG_TARIFA_MOVISTAR, AVG_MOVISTAR_MEGAS, AVG_MOV_MEGAS, OPERADOR_TIGO_OOKLA, OPERADOR_ETB_OOKLA, OPERADOR_MOVISTAR_OOKLA, SUMA_OPERADORES, RANK1_VEL_DWLD, OP_CLARO, CANTIDAD, PENETRACION, OCUPACION_DW, OCUPACION_UP, ALFA, BETA, MEGA, NIVEL_ALARMA_MALO, NIVEL_ALARMA_BUENO, DIVISION, AREA, ZONA, CIUDAD, DISTRITO, comp_tarifa, operador_menor_tarifa, ALFA_tarifa, MES_x, Llamadas_3M, MES_y, Llamadas_Admin_3M]\n",
       "Index: []"
      ]
     },
     "execution_count": 150,
     "metadata": {},
     "output_type": "execute_result"
    }
   ],
   "source": [
    "data[data['CUENTA']=='10000043']"
   ]
  },
  {
   "cell_type": "markdown",
   "id": "fecbb220",
   "metadata": {},
   "source": [
    "## Llamadas Técnicas"
   ]
  },
  {
   "cell_type": "code",
   "execution_count": 151,
   "id": "960446f0",
   "metadata": {},
   "outputs": [],
   "source": [
    "pv_cantidad_llamadas=pd.pivot_table(llamadas, columns=['KEY'], values=['CANTIDAD_TECNICO'],index=['FECHA'], aggfunc=np.sum)\n",
    "pv_cantidad_llamadas.columns= pv_cantidad_llamadas.columns.droplevel()\n",
    "pv_cantidad_llamadas=pv_cantidad_llamadas.fillna(0).reset_index()\n",
    "un_llamadas=pd.melt(pv_cantidad_llamadas, id_vars=['FECHA'], var_name='NODO', value_name='TEC')\n",
    "un_llamadas=un_llamadas.sort_values(['NODO','FECHA'])\n",
    "un_llamadas['CANT_1'] = un_llamadas.groupby(['NODO'])['TEC'].shift(1)\n",
    "un_llamadas['CANT_2'] = un_llamadas.groupby(['NODO'])['TEC'].shift(2)"
   ]
  },
  {
   "cell_type": "code",
   "execution_count": 152,
   "id": "1a7093ed",
   "metadata": {},
   "outputs": [],
   "source": [
    "un_llamadas['Llamadas_Tecn_3M']=un_llamadas[['TEC','CANT_1','CANT_2']].sum(axis=1)\n",
    "un_llamadas[['CUENTA','COD_NODO']] = un_llamadas['NODO'].str.split('--',expand=True)\n",
    "un_llamadas=un_llamadas[un_llamadas['FECHA'].dt.year==2021]\n",
    "un_llamadas['MES']=un_llamadas['FECHA'].dt.month\n",
    "un_llamadas=un_llamadas.groupby(['CUENTA','COD_NODO','MES'])[['Llamadas_Tecn_3M']].sum().reset_index()\n",
    "data=data.merge(un_llamadas[['COD_NODO','CUENTA','MES','Llamadas_Tecn_3M']],left_on=['COD_NODO','CUENTA','FECHA'],right_on=['COD_NODO','CUENTA','MES'],how='left')"
   ]
  },
  {
   "cell_type": "code",
   "execution_count": 153,
   "id": "b5ae5c57",
   "metadata": {},
   "outputs": [
    {
     "data": {
      "text/html": [
       "<div>\n",
       "<style scoped>\n",
       "    .dataframe tbody tr th:only-of-type {\n",
       "        vertical-align: middle;\n",
       "    }\n",
       "\n",
       "    .dataframe tbody tr th {\n",
       "        vertical-align: top;\n",
       "    }\n",
       "\n",
       "    .dataframe thead th {\n",
       "        text-align: right;\n",
       "    }\n",
       "</style>\n",
       "<table border=\"1\" class=\"dataframe\">\n",
       "  <thead>\n",
       "    <tr style=\"text-align: right;\">\n",
       "      <th></th>\n",
       "      <th>CUENTA</th>\n",
       "      <th>COD_SERVICIO</th>\n",
       "      <th>Tipo_Servicio</th>\n",
       "      <th>COD_NODO</th>\n",
       "      <th>ESTRATO</th>\n",
       "      <th>CARTERA</th>\n",
       "      <th>CONGELACION</th>\n",
       "      <th>VIAJES</th>\n",
       "      <th>CAPACIDAD_DE_PAGO</th>\n",
       "      <th>CAUSAS_EXTERNAS</th>\n",
       "      <th>COMPETENCIA</th>\n",
       "      <th>MAL_SERVICIO</th>\n",
       "      <th>NO_UTILIZAR</th>\n",
       "      <th>NO_GUSTO</th>\n",
       "      <th>SIN_MOTIVO</th>\n",
       "      <th>SIN_CONTACTO</th>\n",
       "      <th>OTROS</th>\n",
       "      <th>Total_Bajas</th>\n",
       "      <th>MES_x</th>\n",
       "      <th>fecha</th>\n",
       "      <th>CHURN_TEMPRANO</th>\n",
       "      <th>INVOLUNTARIO</th>\n",
       "      <th>VOLUNTARIO</th>\n",
       "      <th>TIPO_RAZON</th>\n",
       "      <th>MESES_ACTIVO</th>\n",
       "      <th>CANTIDAD_LLAMADAS</th>\n",
       "      <th>CANTIDAD_ADMIN</th>\n",
       "      <th>CANTIDAD_TECNICO</th>\n",
       "      <th>CAMPANA_HBO</th>\n",
       "      <th>CAMPANA_FOX</th>\n",
       "      <th>CAMPANA_ADULTO</th>\n",
       "      <th>CAMPANA_EQUIPOS_ADIC</th>\n",
       "      <th>CAMPANA_ULTRAWIFI</th>\n",
       "      <th>CAMPANA_VOZ</th>\n",
       "      <th>CAMPANA_RETENCION</th>\n",
       "      <th>CAMPANA_AFECTACION_SRV</th>\n",
       "      <th>FECHA</th>\n",
       "      <th>servicio</th>\n",
       "      <th>NODO</th>\n",
       "      <th>MES_y</th>\n",
       "      <th>PART_CANT_CALL</th>\n",
       "      <th>CANT_USER</th>\n",
       "      <th>PROM_VEL</th>\n",
       "      <th>VEL_ME_8</th>\n",
       "      <th>VEL_10_25</th>\n",
       "      <th>VEL_30</th>\n",
       "      <th>VEL_40_50</th>\n",
       "      <th>VEL_MA_60</th>\n",
       "      <th>CONVERGENTE</th>\n",
       "      <th>PROM_VEL_HOGAR</th>\n",
       "      <th>MEDIANA_VEL</th>\n",
       "      <th>PROM_RENTA</th>\n",
       "      <th>PRECIO_MEGA_CLARO_1</th>\n",
       "      <th>CANTIDAD_churn</th>\n",
       "      <th>ANTIGUEDAD_MESES_PROM</th>\n",
       "      <th>ANTIGUEDAD_MESES_MED</th>\n",
       "      <th>AVG_TARIFA_TIGO</th>\n",
       "      <th>AVG_TIGO_MEGAS</th>\n",
       "      <th>PRECIO_MEGA_TIGO_1</th>\n",
       "      <th>AVG_TARIFA_ETB</th>\n",
       "      <th>AVG_ETB_MEGAS</th>\n",
       "      <th>PRECIO_MEGA_ETB_1</th>\n",
       "      <th>AVG_TARIFA_MOVISTAR</th>\n",
       "      <th>AVG_MOVISTAR_MEGAS</th>\n",
       "      <th>AVG_MOV_MEGAS</th>\n",
       "      <th>OPERADOR_TIGO_OOKLA</th>\n",
       "      <th>OPERADOR_ETB_OOKLA</th>\n",
       "      <th>OPERADOR_MOVISTAR_OOKLA</th>\n",
       "      <th>SUMA_OPERADORES</th>\n",
       "      <th>RANK1_VEL_DWLD</th>\n",
       "      <th>OP_CLARO</th>\n",
       "      <th>CANTIDAD</th>\n",
       "      <th>PENETRACION</th>\n",
       "      <th>OCUPACION_DW</th>\n",
       "      <th>OCUPACION_UP</th>\n",
       "      <th>ALFA</th>\n",
       "      <th>BETA</th>\n",
       "      <th>MEGA</th>\n",
       "      <th>NIVEL_ALARMA_MALO</th>\n",
       "      <th>NIVEL_ALARMA_BUENO</th>\n",
       "      <th>DIVISION</th>\n",
       "      <th>AREA</th>\n",
       "      <th>ZONA</th>\n",
       "      <th>CIUDAD</th>\n",
       "      <th>DISTRITO</th>\n",
       "      <th>comp_tarifa</th>\n",
       "      <th>operador_menor_tarifa</th>\n",
       "      <th>ALFA_tarifa</th>\n",
       "      <th>MES_x</th>\n",
       "      <th>Llamadas_3M</th>\n",
       "      <th>MES_y</th>\n",
       "      <th>Llamadas_Admin_3M</th>\n",
       "      <th>MES</th>\n",
       "      <th>Llamadas_Tecn_3M</th>\n",
       "    </tr>\n",
       "  </thead>\n",
       "  <tbody>\n",
       "  </tbody>\n",
       "</table>\n",
       "</div>"
      ],
      "text/plain": [
       "Empty DataFrame\n",
       "Columns: [CUENTA, COD_SERVICIO, Tipo_Servicio, COD_NODO, ESTRATO, CARTERA, CONGELACION, VIAJES, CAPACIDAD_DE_PAGO, CAUSAS_EXTERNAS, COMPETENCIA, MAL_SERVICIO, NO_UTILIZAR, NO_GUSTO, SIN_MOTIVO, SIN_CONTACTO, OTROS, Total_Bajas, MES_x, fecha, CHURN_TEMPRANO, INVOLUNTARIO, VOLUNTARIO, TIPO_RAZON, MESES_ACTIVO, CANTIDAD_LLAMADAS, CANTIDAD_ADMIN, CANTIDAD_TECNICO, CAMPANA_HBO, CAMPANA_FOX, CAMPANA_ADULTO, CAMPANA_EQUIPOS_ADIC, CAMPANA_ULTRAWIFI, CAMPANA_VOZ, CAMPANA_RETENCION, CAMPANA_AFECTACION_SRV, FECHA, servicio, NODO, MES_y, PART_CANT_CALL, CANT_USER, PROM_VEL, VEL_ME_8, VEL_10_25, VEL_30, VEL_40_50, VEL_MA_60, CONVERGENTE, PROM_VEL_HOGAR, MEDIANA_VEL, PROM_RENTA, PRECIO_MEGA_CLARO_1, CANTIDAD_churn, ANTIGUEDAD_MESES_PROM, ANTIGUEDAD_MESES_MED, AVG_TARIFA_TIGO, AVG_TIGO_MEGAS, PRECIO_MEGA_TIGO_1, AVG_TARIFA_ETB, AVG_ETB_MEGAS, PRECIO_MEGA_ETB_1, AVG_TARIFA_MOVISTAR, AVG_MOVISTAR_MEGAS, AVG_MOV_MEGAS, OPERADOR_TIGO_OOKLA, OPERADOR_ETB_OOKLA, OPERADOR_MOVISTAR_OOKLA, SUMA_OPERADORES, RANK1_VEL_DWLD, OP_CLARO, CANTIDAD, PENETRACION, OCUPACION_DW, OCUPACION_UP, ALFA, BETA, MEGA, NIVEL_ALARMA_MALO, NIVEL_ALARMA_BUENO, DIVISION, AREA, ZONA, CIUDAD, DISTRITO, comp_tarifa, operador_menor_tarifa, ALFA_tarifa, MES_x, Llamadas_3M, MES_y, Llamadas_Admin_3M, MES, Llamadas_Tecn_3M]\n",
       "Index: []"
      ]
     },
     "execution_count": 153,
     "metadata": {},
     "output_type": "execute_result"
    }
   ],
   "source": [
    "data[data['CUENTA']=='10000043']"
   ]
  },
  {
   "cell_type": "code",
   "execution_count": 154,
   "id": "ea9fde33",
   "metadata": {},
   "outputs": [
    {
     "data": {
      "text/html": [
       "<div>\n",
       "<style scoped>\n",
       "    .dataframe tbody tr th:only-of-type {\n",
       "        vertical-align: middle;\n",
       "    }\n",
       "\n",
       "    .dataframe tbody tr th {\n",
       "        vertical-align: top;\n",
       "    }\n",
       "\n",
       "    .dataframe thead th {\n",
       "        text-align: right;\n",
       "    }\n",
       "</style>\n",
       "<table border=\"1\" class=\"dataframe\">\n",
       "  <thead>\n",
       "    <tr style=\"text-align: right;\">\n",
       "      <th></th>\n",
       "      <th>Llamadas_3M</th>\n",
       "      <th>Llamadas_Admin_3M</th>\n",
       "      <th>Llamadas_Tecn_3M</th>\n",
       "    </tr>\n",
       "  </thead>\n",
       "  <tbody>\n",
       "    <tr>\n",
       "      <th>count</th>\n",
       "      <td>2.365972e+06</td>\n",
       "      <td>2.365972e+06</td>\n",
       "      <td>2.365972e+06</td>\n",
       "    </tr>\n",
       "    <tr>\n",
       "      <th>mean</th>\n",
       "      <td>3.488347e+00</td>\n",
       "      <td>3.020516e+00</td>\n",
       "      <td>4.045069e-01</td>\n",
       "    </tr>\n",
       "    <tr>\n",
       "      <th>std</th>\n",
       "      <td>4.206366e+00</td>\n",
       "      <td>3.577072e+00</td>\n",
       "      <td>1.181223e+00</td>\n",
       "    </tr>\n",
       "    <tr>\n",
       "      <th>min</th>\n",
       "      <td>0.000000e+00</td>\n",
       "      <td>0.000000e+00</td>\n",
       "      <td>0.000000e+00</td>\n",
       "    </tr>\n",
       "    <tr>\n",
       "      <th>25%</th>\n",
       "      <td>1.000000e+00</td>\n",
       "      <td>1.000000e+00</td>\n",
       "      <td>0.000000e+00</td>\n",
       "    </tr>\n",
       "    <tr>\n",
       "      <th>50%</th>\n",
       "      <td>2.000000e+00</td>\n",
       "      <td>2.000000e+00</td>\n",
       "      <td>0.000000e+00</td>\n",
       "    </tr>\n",
       "    <tr>\n",
       "      <th>75%</th>\n",
       "      <td>5.000000e+00</td>\n",
       "      <td>4.000000e+00</td>\n",
       "      <td>0.000000e+00</td>\n",
       "    </tr>\n",
       "    <tr>\n",
       "      <th>max</th>\n",
       "      <td>3.730000e+02</td>\n",
       "      <td>2.500000e+02</td>\n",
       "      <td>1.210000e+02</td>\n",
       "    </tr>\n",
       "  </tbody>\n",
       "</table>\n",
       "</div>"
      ],
      "text/plain": [
       "        Llamadas_3M  Llamadas_Admin_3M  Llamadas_Tecn_3M\n",
       "count  2.365972e+06       2.365972e+06      2.365972e+06\n",
       "mean   3.488347e+00       3.020516e+00      4.045069e-01\n",
       "std    4.206366e+00       3.577072e+00      1.181223e+00\n",
       "min    0.000000e+00       0.000000e+00      0.000000e+00\n",
       "25%    1.000000e+00       1.000000e+00      0.000000e+00\n",
       "50%    2.000000e+00       2.000000e+00      0.000000e+00\n",
       "75%    5.000000e+00       4.000000e+00      0.000000e+00\n",
       "max    3.730000e+02       2.500000e+02      1.210000e+02"
      ]
     },
     "execution_count": 154,
     "metadata": {},
     "output_type": "execute_result"
    }
   ],
   "source": [
    "data[['Llamadas_3M','Llamadas_Admin_3M','Llamadas_Tecn_3M']].describe()"
   ]
  },
  {
   "cell_type": "code",
   "execution_count": 155,
   "id": "1dad5cdb",
   "metadata": {},
   "outputs": [],
   "source": [
    "data.drop(columns=['MES_x','MES_y','MES'],inplace=True)"
   ]
  },
  {
   "cell_type": "code",
   "execution_count": 156,
   "id": "26b19050",
   "metadata": {},
   "outputs": [],
   "source": [
    "###  VAlidar  ALFA y BETA (tarifa) por NODO"
   ]
  },
  {
   "cell_type": "code",
   "execution_count": 157,
   "id": "4222418f",
   "metadata": {},
   "outputs": [
    {
     "data": {
      "text/plain": [
       "123"
      ]
     },
     "execution_count": 157,
     "metadata": {},
     "output_type": "execute_result"
    }
   ],
   "source": [
    "import gc\n",
    "del un_llamadas\n",
    "del pv_cantidad_llamadas\n",
    "gc.collect()"
   ]
  },
  {
   "cell_type": "markdown",
   "id": "c492cf8f",
   "metadata": {},
   "source": [
    "### Calidad"
   ]
  },
  {
   "cell_type": "code",
   "execution_count": 158,
   "id": "108a9828",
   "metadata": {
    "scrolled": true
   },
   "outputs": [],
   "source": [
    "#data_cal=pd.read_csv('user_rssi_device.csv',sep=';', header = 0)\n",
    "#data_cal"
   ]
  },
  {
   "cell_type": "code",
   "execution_count": 159,
   "id": "57b7cf87",
   "metadata": {},
   "outputs": [],
   "source": [
    "#data_cal['MES']=(data_cal['fecha']%100)"
   ]
  },
  {
   "cell_type": "code",
   "execution_count": 160,
   "id": "c1198f18",
   "metadata": {},
   "outputs": [],
   "source": [
    "#data.dtypes['FECHA']"
   ]
  },
  {
   "cell_type": "code",
   "execution_count": 161,
   "id": "cda31ef1",
   "metadata": {},
   "outputs": [],
   "source": [
    "#data_cal['MES']=data_cal['MES'].astype('Int64')"
   ]
  },
  {
   "cell_type": "code",
   "execution_count": 162,
   "id": "07820b2c",
   "metadata": {},
   "outputs": [],
   "source": [
    "#data_cal['cuenta']=data_cal['cuenta'].astype('Int64')\n",
    "#data_cal['cuenta']=data_cal['cuenta'].astype(str)"
   ]
  },
  {
   "cell_type": "code",
   "execution_count": 163,
   "id": "9181aa73",
   "metadata": {},
   "outputs": [],
   "source": [
    "#data_cal=data_cal.groupby(['cuenta','MES'])['val_cantidad_muestras','val_muestras_ok'].sum().reset_index()"
   ]
  },
  {
   "cell_type": "code",
   "execution_count": 164,
   "id": "246b1c97",
   "metadata": {},
   "outputs": [],
   "source": [
    "#data_cal"
   ]
  },
  {
   "cell_type": "code",
   "execution_count": 165,
   "id": "d9920d43",
   "metadata": {},
   "outputs": [],
   "source": [
    "#data=data.merge(data_cal,left_on=['CUENTA','FECHA'],right_on=['cuenta','MES'],how='left')"
   ]
  },
  {
   "cell_type": "code",
   "execution_count": 166,
   "id": "4cdf386c",
   "metadata": {},
   "outputs": [],
   "source": [
    "#data['ind_calidad']=data['val_muestras_ok']/data['val_cantidad_muestras']"
   ]
  },
  {
   "cell_type": "markdown",
   "id": "2174cba8",
   "metadata": {},
   "source": [
    "### Dataset Completo"
   ]
  },
  {
   "cell_type": "code",
   "execution_count": 167,
   "id": "d6a3f872",
   "metadata": {},
   "outputs": [
    {
     "data": {
      "text/plain": [
       "Index(['CUENTA', 'COD_SERVICIO', 'Tipo_Servicio', 'COD_NODO', 'ESTRATO',\n",
       "       'CARTERA', 'CONGELACION', 'VIAJES', 'CAPACIDAD_DE_PAGO',\n",
       "       'CAUSAS_EXTERNAS', 'COMPETENCIA', 'MAL_SERVICIO', 'NO_UTILIZAR',\n",
       "       'NO_GUSTO', 'SIN_MOTIVO', 'SIN_CONTACTO', 'OTROS', 'Total_Bajas',\n",
       "       'fecha', 'CHURN_TEMPRANO', 'INVOLUNTARIO', 'VOLUNTARIO', 'TIPO_RAZON',\n",
       "       'MESES_ACTIVO', 'CANTIDAD_LLAMADAS', 'CANTIDAD_ADMIN',\n",
       "       'CANTIDAD_TECNICO', 'CAMPANA_HBO', 'CAMPANA_FOX', 'CAMPANA_ADULTO',\n",
       "       'CAMPANA_EQUIPOS_ADIC', 'CAMPANA_ULTRAWIFI', 'CAMPANA_VOZ',\n",
       "       'CAMPANA_RETENCION', 'CAMPANA_AFECTACION_SRV', 'FECHA', 'servicio',\n",
       "       'NODO', 'PART_CANT_CALL', 'CANT_USER', 'PROM_VEL', 'VEL_ME_8',\n",
       "       'VEL_10_25', 'VEL_30', 'VEL_40_50', 'VEL_MA_60', 'CONVERGENTE',\n",
       "       'PROM_VEL_HOGAR', 'MEDIANA_VEL', 'PROM_RENTA', 'PRECIO_MEGA_CLARO_1',\n",
       "       'CANTIDAD_churn', 'ANTIGUEDAD_MESES_PROM', 'ANTIGUEDAD_MESES_MED',\n",
       "       'AVG_TARIFA_TIGO', 'AVG_TIGO_MEGAS', 'PRECIO_MEGA_TIGO_1',\n",
       "       'AVG_TARIFA_ETB', 'AVG_ETB_MEGAS', 'PRECIO_MEGA_ETB_1',\n",
       "       'AVG_TARIFA_MOVISTAR', 'AVG_MOVISTAR_MEGAS', 'AVG_MOV_MEGAS',\n",
       "       'OPERADOR_TIGO_OOKLA', 'OPERADOR_ETB_OOKLA', 'OPERADOR_MOVISTAR_OOKLA',\n",
       "       'SUMA_OPERADORES', 'RANK1_VEL_DWLD', 'OP_CLARO', 'CANTIDAD',\n",
       "       'PENETRACION', 'OCUPACION_DW', 'OCUPACION_UP', 'ALFA', 'BETA', 'MEGA',\n",
       "       'NIVEL_ALARMA_MALO', 'NIVEL_ALARMA_BUENO', 'DIVISION', 'AREA', 'ZONA',\n",
       "       'CIUDAD', 'DISTRITO', 'comp_tarifa', 'operador_menor_tarifa',\n",
       "       'ALFA_tarifa', 'Llamadas_3M', 'Llamadas_Admin_3M', 'Llamadas_Tecn_3M'],\n",
       "      dtype='object')"
      ]
     },
     "execution_count": 167,
     "metadata": {},
     "output_type": "execute_result"
    }
   ],
   "source": [
    "data.columns"
   ]
  },
  {
   "cell_type": "code",
   "execution_count": 168,
   "id": "9870f7fd",
   "metadata": {},
   "outputs": [],
   "source": [
    "sel_variables_descrip=['CUENTA','FECHA','COD_NODO','INVOLUNTARIO', 'VOLUNTARIO','DIVISION', 'AREA', 'ZONA', 'CIUDAD', 'DISTRITO','CHURN_TEMPRANO']\n",
    "sel_variables_razones=['CONGELACION','VIAJES','CAPACIDAD_DE_PAGO','CAUSAS_EXTERNAS','COMPETENCIA','MAL_SERVICIO','NO_UTILIZAR',\n",
    "                    'NO_GUSTO','SIN_MOTIVO','SIN_CONTACTO','TRASLADOS','OTROS','CAMBIO_DE_SERVICIO','CAMBIO_TARIFA','EMPAQUETAMIENTO',\n",
    "                    'CESION_DE_CONTRATO','UNIFICACION_EMPAQUETAMIENTO','BAJAS_TOTAL']\n",
    "sel_variables_causas2=['ALFA_tarifa','ALFA', 'BETA', 'MEGA','Llamadas_3M', 'Llamadas_Admin_3M', 'Llamadas_Tecn_3M','PROM_VEL_HOGAR']"
   ]
  },
  {
   "cell_type": "code",
   "execution_count": 169,
   "id": "cf71871a",
   "metadata": {
    "scrolled": true
   },
   "outputs": [],
   "source": [
    "#data.to_csv('dataSetCompleto_actual.csv',index=False)"
   ]
  },
  {
   "cell_type": "code",
   "execution_count": 170,
   "id": "dd33f97a",
   "metadata": {},
   "outputs": [],
   "source": [
    "#data[sel_variables_descrip+sel_variables_razones+sel_variables_causas2].to_csv('dataSet_variables.csv')"
   ]
  },
  {
   "cell_type": "markdown",
   "id": "f1b45bec",
   "metadata": {},
   "source": [
    "## Procesar Nodos"
   ]
  },
  {
   "cell_type": "markdown",
   "id": "e0e72a76",
   "metadata": {},
   "source": [
    "### Validacion Nodos Internet"
   ]
  },
  {
   "cell_type": "code",
   "execution_count": 171,
   "id": "d23b8859",
   "metadata": {},
   "outputs": [
    {
     "data": {
      "text/plain": [
       "@    992998\n",
       "T    947518\n",
       "V    800259\n",
       "Name: servicio, dtype: int64"
      ]
     },
     "execution_count": 171,
     "metadata": {},
     "output_type": "execute_result"
    }
   ],
   "source": [
    "data['servicio'].value_counts()"
   ]
  },
  {
   "cell_type": "code",
   "execution_count": 172,
   "id": "ef7a0e15",
   "metadata": {},
   "outputs": [],
   "source": [
    "data=data[data['servicio']=='@']"
   ]
  },
  {
   "cell_type": "code",
   "execution_count": 173,
   "id": "12aa38e0",
   "metadata": {},
   "outputs": [
    {
     "data": {
      "text/plain": [
       "@    992998\n",
       "Name: servicio, dtype: int64"
      ]
     },
     "execution_count": 173,
     "metadata": {},
     "output_type": "execute_result"
    }
   ],
   "source": [
    "data['servicio'].value_counts()"
   ]
  },
  {
   "cell_type": "code",
   "execution_count": 174,
   "id": "def3ce69",
   "metadata": {},
   "outputs": [
    {
     "data": {
      "text/plain": [
       "0"
      ]
     },
     "execution_count": 174,
     "metadata": {},
     "output_type": "execute_result"
    }
   ],
   "source": [
    "data['COD_NODO'].isnull().sum()"
   ]
  },
  {
   "cell_type": "code",
   "execution_count": 175,
   "id": "7669d31d",
   "metadata": {},
   "outputs": [
    {
     "data": {
      "text/plain": [
       "0"
      ]
     },
     "execution_count": 175,
     "metadata": {},
     "output_type": "execute_result"
    }
   ],
   "source": [
    "data['FECHA'].isnull().sum()"
   ]
  },
  {
   "cell_type": "markdown",
   "id": "97d79889",
   "metadata": {},
   "source": [
    "### Fin validación "
   ]
  },
  {
   "cell_type": "code",
   "execution_count": 176,
   "id": "6ff34d4a",
   "metadata": {},
   "outputs": [
    {
     "data": {
      "text/plain": [
       " 0    533413\n",
       "-1    459585\n",
       "Name: VOLUNTARIO, dtype: int64"
      ]
     },
     "execution_count": 176,
     "metadata": {},
     "output_type": "execute_result"
    }
   ],
   "source": [
    "data['VOLUNTARIO'].value_counts()"
   ]
  },
  {
   "cell_type": "code",
   "execution_count": 177,
   "id": "85766932",
   "metadata": {},
   "outputs": [],
   "source": [
    "sel_variables_descrip=['CUENTA','FECHA','COD_NODO','INVOLUNTARIO', 'VOLUNTARIO','DIVISION', 'AREA', 'ZONA', 'CIUDAD', 'DISTRITO','CHURN_TEMPRANO']\n",
    "sel_variables_razones=['CONGELACION','VIAJES','CAPACIDAD_DE_PAGO','CAUSAS_EXTERNAS','COMPETENCIA','MAL_SERVICIO','NO_UTILIZAR',\n",
    "                    'NO_GUSTO','SIN_MOTIVO','SIN_CONTACTO','OTROS','Total_Bajas']\n",
    "sel_variables_causas2=['ALFA_tarifa','ALFA', 'BETA', 'MEGA','Llamadas_Admin_3M', 'Llamadas_Tecn_3M','PENETRACION','OCUPACION_DW']"
   ]
  },
  {
   "cell_type": "code",
   "execution_count": 178,
   "id": "7c20eb99",
   "metadata": {},
   "outputs": [],
   "source": [
    "var_agrupacion_sum=['CONGELACION','VIAJES','CAPACIDAD_DE_PAGO','CAUSAS_EXTERNAS','COMPETENCIA','MAL_SERVICIO','NO_UTILIZAR',\n",
    "                    'NO_GUSTO','SIN_MOTIVO','SIN_CONTACTO','OTROS','Total_Bajas','Llamadas_Admin_3M', 'Llamadas_Tecn_3M']\n",
    "var_agrupacion_mean=['ALFA_tarifa','ALFA', 'BETA', 'MEGA','PENETRACION','OCUPACION_DW']"
   ]
  },
  {
   "cell_type": "code",
   "execution_count": 179,
   "id": "5c8bf325",
   "metadata": {},
   "outputs": [],
   "source": [
    "data=data[data['VOLUNTARIO']==-1]"
   ]
  },
  {
   "cell_type": "code",
   "execution_count": 180,
   "id": "01650c69",
   "metadata": {},
   "outputs": [],
   "source": [
    "#for col in sel_variables_razones :\n",
    "#    data[col]=data[col]*-1"
   ]
  },
  {
   "cell_type": "code",
   "execution_count": 181,
   "id": "d5a327e8",
   "metadata": {},
   "outputs": [],
   "source": [
    "#data=data[(data['BAJAS_TOTAL']>=1)&(data['BAJAS_TOTAL']<=2)]"
   ]
  },
  {
   "cell_type": "code",
   "execution_count": 182,
   "id": "49bb8bb6",
   "metadata": {},
   "outputs": [],
   "source": [
    "#data=data[(data['FECHA']>=1)&(data['FECHA']<=10)]"
   ]
  },
  {
   "cell_type": "code",
   "execution_count": 183,
   "id": "95dff5d6",
   "metadata": {},
   "outputs": [],
   "source": [
    "nodos_tab=data.groupby(['FECHA','COD_NODO'])[['CANT_USER']].min().reset_index()"
   ]
  },
  {
   "cell_type": "code",
   "execution_count": 184,
   "id": "b15d443d",
   "metadata": {},
   "outputs": [],
   "source": [
    "nodos_tab_bajas=data.groupby(['FECHA','COD_NODO'])[var_agrupacion_sum].sum().reset_index()"
   ]
  },
  {
   "cell_type": "code",
   "execution_count": 185,
   "id": "f190a1c2",
   "metadata": {},
   "outputs": [],
   "source": [
    "data_comp=data[['COD_NODO','FECHA']+var_agrupacion_mean].groupby(['COD_NODO','FECHA']).mean()\n",
    "data_comp.reset_index(inplace=True)\n",
    "data_comp.sort_values(['COD_NODO','FECHA'],inplace=True)"
   ]
  },
  {
   "cell_type": "code",
   "execution_count": 186,
   "id": "0386d7d7",
   "metadata": {},
   "outputs": [
    {
     "data": {
      "text/html": [
       "<div>\n",
       "<style scoped>\n",
       "    .dataframe tbody tr th:only-of-type {\n",
       "        vertical-align: middle;\n",
       "    }\n",
       "\n",
       "    .dataframe tbody tr th {\n",
       "        vertical-align: top;\n",
       "    }\n",
       "\n",
       "    .dataframe thead th {\n",
       "        text-align: right;\n",
       "    }\n",
       "</style>\n",
       "<table border=\"1\" class=\"dataframe\">\n",
       "  <thead>\n",
       "    <tr style=\"text-align: right;\">\n",
       "      <th></th>\n",
       "      <th>FECHA</th>\n",
       "      <th>COD_NODO</th>\n",
       "      <th>CANT_USER</th>\n",
       "      <th>CONGELACION</th>\n",
       "      <th>VIAJES</th>\n",
       "      <th>CAPACIDAD_DE_PAGO</th>\n",
       "      <th>CAUSAS_EXTERNAS</th>\n",
       "      <th>COMPETENCIA</th>\n",
       "      <th>MAL_SERVICIO</th>\n",
       "      <th>NO_UTILIZAR</th>\n",
       "      <th>NO_GUSTO</th>\n",
       "      <th>SIN_MOTIVO</th>\n",
       "      <th>SIN_CONTACTO</th>\n",
       "      <th>OTROS</th>\n",
       "      <th>Total_Bajas</th>\n",
       "      <th>Llamadas_Admin_3M</th>\n",
       "      <th>Llamadas_Tecn_3M</th>\n",
       "      <th>ALFA_tarifa</th>\n",
       "      <th>ALFA</th>\n",
       "      <th>BETA</th>\n",
       "      <th>MEGA</th>\n",
       "      <th>PENETRACION</th>\n",
       "      <th>OCUPACION_DW</th>\n",
       "    </tr>\n",
       "  </thead>\n",
       "  <tbody>\n",
       "    <tr>\n",
       "      <th>0</th>\n",
       "      <td>1</td>\n",
       "      <td>01S</td>\n",
       "      <td>159.0</td>\n",
       "      <td>0</td>\n",
       "      <td>0</td>\n",
       "      <td>0</td>\n",
       "      <td>0</td>\n",
       "      <td>0</td>\n",
       "      <td>1</td>\n",
       "      <td>0</td>\n",
       "      <td>0</td>\n",
       "      <td>0</td>\n",
       "      <td>0</td>\n",
       "      <td>0</td>\n",
       "      <td>1</td>\n",
       "      <td>3.0</td>\n",
       "      <td>0.0</td>\n",
       "      <td>NaN</td>\n",
       "      <td>0.420691</td>\n",
       "      <td>0.824528</td>\n",
       "      <td>0.510220</td>\n",
       "      <td>0.250360</td>\n",
       "      <td>0.395358</td>\n",
       "    </tr>\n",
       "    <tr>\n",
       "      <th>1</th>\n",
       "      <td>1</td>\n",
       "      <td>02S</td>\n",
       "      <td>135.0</td>\n",
       "      <td>2</td>\n",
       "      <td>0</td>\n",
       "      <td>0</td>\n",
       "      <td>0</td>\n",
       "      <td>0</td>\n",
       "      <td>0</td>\n",
       "      <td>0</td>\n",
       "      <td>0</td>\n",
       "      <td>1</td>\n",
       "      <td>0</td>\n",
       "      <td>1</td>\n",
       "      <td>4</td>\n",
       "      <td>13.0</td>\n",
       "      <td>3.0</td>\n",
       "      <td>1.274914</td>\n",
       "      <td>0.757639</td>\n",
       "      <td>0.938875</td>\n",
       "      <td>0.806965</td>\n",
       "      <td>0.206704</td>\n",
       "      <td>0.395358</td>\n",
       "    </tr>\n",
       "    <tr>\n",
       "      <th>2</th>\n",
       "      <td>1</td>\n",
       "      <td>03J</td>\n",
       "      <td>32.0</td>\n",
       "      <td>0</td>\n",
       "      <td>0</td>\n",
       "      <td>0</td>\n",
       "      <td>0</td>\n",
       "      <td>0</td>\n",
       "      <td>1</td>\n",
       "      <td>1</td>\n",
       "      <td>0</td>\n",
       "      <td>0</td>\n",
       "      <td>0</td>\n",
       "      <td>0</td>\n",
       "      <td>2</td>\n",
       "      <td>13.0</td>\n",
       "      <td>0.0</td>\n",
       "      <td>NaN</td>\n",
       "      <td>NaN</td>\n",
       "      <td>1.483871</td>\n",
       "      <td>NaN</td>\n",
       "      <td>0.284553</td>\n",
       "      <td>0.311891</td>\n",
       "    </tr>\n",
       "    <tr>\n",
       "      <th>3</th>\n",
       "      <td>1</td>\n",
       "      <td>05J</td>\n",
       "      <td>63.0</td>\n",
       "      <td>0</td>\n",
       "      <td>0</td>\n",
       "      <td>1</td>\n",
       "      <td>0</td>\n",
       "      <td>0</td>\n",
       "      <td>0</td>\n",
       "      <td>0</td>\n",
       "      <td>0</td>\n",
       "      <td>2</td>\n",
       "      <td>0</td>\n",
       "      <td>0</td>\n",
       "      <td>3</td>\n",
       "      <td>25.0</td>\n",
       "      <td>1.0</td>\n",
       "      <td>NaN</td>\n",
       "      <td>NaN</td>\n",
       "      <td>NaN</td>\n",
       "      <td>3.477203</td>\n",
       "      <td>0.311881</td>\n",
       "      <td>0.273088</td>\n",
       "    </tr>\n",
       "    <tr>\n",
       "      <th>4</th>\n",
       "      <td>1</td>\n",
       "      <td>060</td>\n",
       "      <td>388.0</td>\n",
       "      <td>0</td>\n",
       "      <td>0</td>\n",
       "      <td>0</td>\n",
       "      <td>0</td>\n",
       "      <td>0</td>\n",
       "      <td>1</td>\n",
       "      <td>1</td>\n",
       "      <td>0</td>\n",
       "      <td>2</td>\n",
       "      <td>0</td>\n",
       "      <td>0</td>\n",
       "      <td>4</td>\n",
       "      <td>18.0</td>\n",
       "      <td>3.0</td>\n",
       "      <td>0.822443</td>\n",
       "      <td>NaN</td>\n",
       "      <td>NaN</td>\n",
       "      <td>NaN</td>\n",
       "      <td>NaN</td>\n",
       "      <td>NaN</td>\n",
       "    </tr>\n",
       "    <tr>\n",
       "      <th>...</th>\n",
       "      <td>...</td>\n",
       "      <td>...</td>\n",
       "      <td>...</td>\n",
       "      <td>...</td>\n",
       "      <td>...</td>\n",
       "      <td>...</td>\n",
       "      <td>...</td>\n",
       "      <td>...</td>\n",
       "      <td>...</td>\n",
       "      <td>...</td>\n",
       "      <td>...</td>\n",
       "      <td>...</td>\n",
       "      <td>...</td>\n",
       "      <td>...</td>\n",
       "      <td>...</td>\n",
       "      <td>...</td>\n",
       "      <td>...</td>\n",
       "      <td>...</td>\n",
       "      <td>...</td>\n",
       "      <td>...</td>\n",
       "      <td>...</td>\n",
       "      <td>...</td>\n",
       "      <td>...</td>\n",
       "    </tr>\n",
       "    <tr>\n",
       "      <th>124375</th>\n",
       "      <td>11</td>\n",
       "      <td>ZVD</td>\n",
       "      <td>381.0</td>\n",
       "      <td>0</td>\n",
       "      <td>1</td>\n",
       "      <td>1</td>\n",
       "      <td>0</td>\n",
       "      <td>1</td>\n",
       "      <td>2</td>\n",
       "      <td>0</td>\n",
       "      <td>1</td>\n",
       "      <td>0</td>\n",
       "      <td>0</td>\n",
       "      <td>0</td>\n",
       "      <td>6</td>\n",
       "      <td>16.0</td>\n",
       "      <td>0.0</td>\n",
       "      <td>0.891455</td>\n",
       "      <td>1.388825</td>\n",
       "      <td>1.414188</td>\n",
       "      <td>0.982066</td>\n",
       "      <td>0.311698</td>\n",
       "      <td>0.540601</td>\n",
       "    </tr>\n",
       "    <tr>\n",
       "      <th>124376</th>\n",
       "      <td>11</td>\n",
       "      <td>ZVG</td>\n",
       "      <td>293.0</td>\n",
       "      <td>1</td>\n",
       "      <td>0</td>\n",
       "      <td>1</td>\n",
       "      <td>0</td>\n",
       "      <td>0</td>\n",
       "      <td>0</td>\n",
       "      <td>0</td>\n",
       "      <td>0</td>\n",
       "      <td>0</td>\n",
       "      <td>0</td>\n",
       "      <td>0</td>\n",
       "      <td>2</td>\n",
       "      <td>5.0</td>\n",
       "      <td>0.0</td>\n",
       "      <td>1.054891</td>\n",
       "      <td>NaN</td>\n",
       "      <td>1.596154</td>\n",
       "      <td>NaN</td>\n",
       "      <td>0.431105</td>\n",
       "      <td>0.385325</td>\n",
       "    </tr>\n",
       "    <tr>\n",
       "      <th>124377</th>\n",
       "      <td>11</td>\n",
       "      <td>ZVS</td>\n",
       "      <td>465.0</td>\n",
       "      <td>1</td>\n",
       "      <td>1</td>\n",
       "      <td>3</td>\n",
       "      <td>0</td>\n",
       "      <td>0</td>\n",
       "      <td>2</td>\n",
       "      <td>0</td>\n",
       "      <td>0</td>\n",
       "      <td>4</td>\n",
       "      <td>0</td>\n",
       "      <td>0</td>\n",
       "      <td>11</td>\n",
       "      <td>39.0</td>\n",
       "      <td>0.0</td>\n",
       "      <td>1.003476</td>\n",
       "      <td>4.500045</td>\n",
       "      <td>3.247191</td>\n",
       "      <td>1.385827</td>\n",
       "      <td>0.407743</td>\n",
       "      <td>0.388761</td>\n",
       "    </tr>\n",
       "    <tr>\n",
       "      <th>124378</th>\n",
       "      <td>11</td>\n",
       "      <td>ZVT</td>\n",
       "      <td>140.0</td>\n",
       "      <td>0</td>\n",
       "      <td>0</td>\n",
       "      <td>0</td>\n",
       "      <td>0</td>\n",
       "      <td>0</td>\n",
       "      <td>0</td>\n",
       "      <td>0</td>\n",
       "      <td>0</td>\n",
       "      <td>1</td>\n",
       "      <td>0</td>\n",
       "      <td>0</td>\n",
       "      <td>1</td>\n",
       "      <td>6.0</td>\n",
       "      <td>0.0</td>\n",
       "      <td>0.749528</td>\n",
       "      <td>0.763597</td>\n",
       "      <td>0.604651</td>\n",
       "      <td>1.262872</td>\n",
       "      <td>0.444444</td>\n",
       "      <td>0.412226</td>\n",
       "    </tr>\n",
       "    <tr>\n",
       "      <th>124379</th>\n",
       "      <td>11</td>\n",
       "      <td>ZVZ</td>\n",
       "      <td>447.0</td>\n",
       "      <td>2</td>\n",
       "      <td>0</td>\n",
       "      <td>0</td>\n",
       "      <td>0</td>\n",
       "      <td>0</td>\n",
       "      <td>1</td>\n",
       "      <td>1</td>\n",
       "      <td>0</td>\n",
       "      <td>1</td>\n",
       "      <td>0</td>\n",
       "      <td>0</td>\n",
       "      <td>5</td>\n",
       "      <td>16.0</td>\n",
       "      <td>2.0</td>\n",
       "      <td>NaN</td>\n",
       "      <td>1.920703</td>\n",
       "      <td>1.729134</td>\n",
       "      <td>1.110789</td>\n",
       "      <td>0.374907</td>\n",
       "      <td>0.528656</td>\n",
       "    </tr>\n",
       "  </tbody>\n",
       "</table>\n",
       "<p>124380 rows × 23 columns</p>\n",
       "</div>"
      ],
      "text/plain": [
       "        FECHA COD_NODO  CANT_USER  CONGELACION  VIAJES  CAPACIDAD_DE_PAGO  \\\n",
       "0           1      01S      159.0            0       0                  0   \n",
       "1           1      02S      135.0            2       0                  0   \n",
       "2           1      03J       32.0            0       0                  0   \n",
       "3           1      05J       63.0            0       0                  1   \n",
       "4           1      060      388.0            0       0                  0   \n",
       "...       ...      ...        ...          ...     ...                ...   \n",
       "124375     11      ZVD      381.0            0       1                  1   \n",
       "124376     11      ZVG      293.0            1       0                  1   \n",
       "124377     11      ZVS      465.0            1       1                  3   \n",
       "124378     11      ZVT      140.0            0       0                  0   \n",
       "124379     11      ZVZ      447.0            2       0                  0   \n",
       "\n",
       "        CAUSAS_EXTERNAS  COMPETENCIA  MAL_SERVICIO  NO_UTILIZAR  NO_GUSTO  \\\n",
       "0                     0            0             1            0         0   \n",
       "1                     0            0             0            0         0   \n",
       "2                     0            0             1            1         0   \n",
       "3                     0            0             0            0         0   \n",
       "4                     0            0             1            1         0   \n",
       "...                 ...          ...           ...          ...       ...   \n",
       "124375                0            1             2            0         1   \n",
       "124376                0            0             0            0         0   \n",
       "124377                0            0             2            0         0   \n",
       "124378                0            0             0            0         0   \n",
       "124379                0            0             1            1         0   \n",
       "\n",
       "        SIN_MOTIVO  SIN_CONTACTO  OTROS  Total_Bajas  Llamadas_Admin_3M  \\\n",
       "0                0             0      0            1                3.0   \n",
       "1                1             0      1            4               13.0   \n",
       "2                0             0      0            2               13.0   \n",
       "3                2             0      0            3               25.0   \n",
       "4                2             0      0            4               18.0   \n",
       "...            ...           ...    ...          ...                ...   \n",
       "124375           0             0      0            6               16.0   \n",
       "124376           0             0      0            2                5.0   \n",
       "124377           4             0      0           11               39.0   \n",
       "124378           1             0      0            1                6.0   \n",
       "124379           1             0      0            5               16.0   \n",
       "\n",
       "        Llamadas_Tecn_3M  ALFA_tarifa      ALFA      BETA      MEGA  \\\n",
       "0                    0.0          NaN  0.420691  0.824528  0.510220   \n",
       "1                    3.0     1.274914  0.757639  0.938875  0.806965   \n",
       "2                    0.0          NaN       NaN  1.483871       NaN   \n",
       "3                    1.0          NaN       NaN       NaN  3.477203   \n",
       "4                    3.0     0.822443       NaN       NaN       NaN   \n",
       "...                  ...          ...       ...       ...       ...   \n",
       "124375               0.0     0.891455  1.388825  1.414188  0.982066   \n",
       "124376               0.0     1.054891       NaN  1.596154       NaN   \n",
       "124377               0.0     1.003476  4.500045  3.247191  1.385827   \n",
       "124378               0.0     0.749528  0.763597  0.604651  1.262872   \n",
       "124379               2.0          NaN  1.920703  1.729134  1.110789   \n",
       "\n",
       "        PENETRACION  OCUPACION_DW  \n",
       "0          0.250360      0.395358  \n",
       "1          0.206704      0.395358  \n",
       "2          0.284553      0.311891  \n",
       "3          0.311881      0.273088  \n",
       "4               NaN           NaN  \n",
       "...             ...           ...  \n",
       "124375     0.311698      0.540601  \n",
       "124376     0.431105      0.385325  \n",
       "124377     0.407743      0.388761  \n",
       "124378     0.444444      0.412226  \n",
       "124379     0.374907      0.528656  \n",
       "\n",
       "[124380 rows x 23 columns]"
      ]
     },
     "execution_count": 186,
     "metadata": {},
     "output_type": "execute_result"
    }
   ],
   "source": [
    "Nodos_Final=nodos_tab.merge(nodos_tab_bajas, left_on=['COD_NODO','FECHA'], right_on=['COD_NODO','FECHA'])\n",
    "Nodos_Final=Nodos_Final.merge(data_comp, left_on=['COD_NODO','FECHA'], right_on=['COD_NODO','FECHA'])\n",
    "Nodos_Final"
   ]
  },
  {
   "cell_type": "code",
   "execution_count": null,
   "id": "53a9b4a9",
   "metadata": {},
   "outputs": [],
   "source": [
    "#  aqui voy"
   ]
  },
  {
   "cell_type": "code",
   "execution_count": 187,
   "id": "b97e1a5b",
   "metadata": {},
   "outputs": [],
   "source": [
    "### Promedio sin tasa\n",
    "\n",
    "Nodos_Final['Llamadas_Admin_3M']=Nodos_Final['Llamadas_Admin_3M']/Nodos_Final['CANT_USER']\n",
    "Nodos_Final['Llamadas_Tecn_3M']=Nodos_Final['Llamadas_Tecn_3M']/Nodos_Final['CANT_USER']\n",
    "#Nodos_Final['Llamadas_Tecn_3M']=Nodos_Final['Llamadas_Tecn_3M']/Nodos_Final['CANT_USER']"
   ]
  },
  {
   "cell_type": "code",
   "execution_count": 188,
   "id": "e5959dee",
   "metadata": {},
   "outputs": [],
   "source": [
    "#Nodos_Final['ind_churn']=np.where(Nodos_Final['CANT_USER']>0,Nodos_Final['BAJAS_TOTAL']/Nodos_Final['CANT_USER'],np.nan)\n",
    "Nodos_Final['ind_churn']=np.where(Nodos_Final['CANT_USER']>0,Nodos_Final['Total_Bajas']/Nodos_Final['CANT_USER'],np.nan)"
   ]
  },
  {
   "cell_type": "markdown",
   "id": "57ad74fa",
   "metadata": {},
   "source": [
    "## Seleccion de Nodos"
   ]
  },
  {
   "cell_type": "code",
   "execution_count": 189,
   "id": "26b215d9",
   "metadata": {},
   "outputs": [
    {
     "name": "stdout",
     "output_type": "stream",
     "text": [
      "Nodos:  15937  Registros (nodosxmes):  124380\n"
     ]
    }
   ],
   "source": [
    "print('Nodos: ',Nodos_Final['COD_NODO'].nunique(), ' Registros (nodosxmes): ', len(Nodos_Final))"
   ]
  },
  {
   "cell_type": "code",
   "execution_count": 190,
   "id": "b9cec781",
   "metadata": {},
   "outputs": [],
   "source": [
    "Nodos_Final_fil=Nodos_Final[Nodos_Final['CANT_USER']>30]"
   ]
  },
  {
   "cell_type": "code",
   "execution_count": 191,
   "id": "cce98741",
   "metadata": {},
   "outputs": [
    {
     "name": "stdout",
     "output_type": "stream",
     "text": [
      "Nodos:  12700  Registros (nodosxmes):  115089\n"
     ]
    }
   ],
   "source": [
    "print('Nodos: ',Nodos_Final_fil['COD_NODO'].nunique(), ' Registros (nodosxmes): ', len(Nodos_Final_fil))"
   ]
  },
  {
   "cell_type": "code",
   "execution_count": 192,
   "id": "c192a327",
   "metadata": {},
   "outputs": [],
   "source": [
    "Nodos_Final_fil=Nodos_Final_fil.merge(Nodos_Final_fil['COD_NODO'].value_counts().to_frame(), left_on='COD_NODO', right_index=True, how='left')"
   ]
  },
  {
   "cell_type": "code",
   "execution_count": 193,
   "id": "b13c29a2",
   "metadata": {},
   "outputs": [],
   "source": [
    "Nodos_Final_fil=Nodos_Final_fil[Nodos_Final_fil['COD_NODO_y']==11]"
   ]
  },
  {
   "cell_type": "code",
   "execution_count": 194,
   "id": "fcae00fb",
   "metadata": {},
   "outputs": [],
   "source": [
    "Nodos_Final_fil.rename(columns={'COD_NODO_x':'COD_NODO','COD_NODO_y':'nMeses'},inplace=True)"
   ]
  },
  {
   "cell_type": "code",
   "execution_count": 195,
   "id": "0bab15d3",
   "metadata": {},
   "outputs": [
    {
     "name": "stdout",
     "output_type": "stream",
     "text": [
      "Nodos:  5605  Registros (nodosxmes):  61655\n"
     ]
    }
   ],
   "source": [
    "print('Nodos: ',Nodos_Final_fil['COD_NODO'].nunique(), ' Registros (nodosxmes): ', len(Nodos_Final_fil))"
   ]
  },
  {
   "cell_type": "code",
   "execution_count": 196,
   "id": "f9e12958",
   "metadata": {},
   "outputs": [],
   "source": [
    "data_comp=Nodos_Final_fil[['COD_NODO','FECHA']+sel_variables_causas2].groupby(['COD_NODO','FECHA']).mean()\n",
    "data_comp.reset_index(inplace=True)\n",
    "data_comp.sort_values(['COD_NODO','FECHA'],inplace=True)\n",
    "data_comp_pt=pd.pivot_table(data_comp,index='FECHA',columns='COD_NODO')"
   ]
  },
  {
   "cell_type": "code",
   "execution_count": 197,
   "id": "797d3e37",
   "metadata": {},
   "outputs": [
    {
     "name": "stdout",
     "output_type": "stream",
     "text": [
      "ALFA_tarifa\n",
      "ALFA\n",
      "BETA\n",
      "MEGA\n",
      "Llamadas_Admin_3M\n",
      "Llamadas_Tecn_3M\n",
      "PENETRACION\n",
      "OCUPACION_DW\n"
     ]
    }
   ],
   "source": [
    "list_eliminar=[]\n",
    "i=0\n",
    "for col in sel_variables_causas2:\n",
    "    print(col)\n",
    "    df_aux=data_comp_pt[col].isnull().sum().to_frame()\n",
    "    df_aux=df_aux[df_aux[0]>2]\n",
    "    if i==0:\n",
    "        list_eliminar=list(df_aux.index)\n",
    "    else :\n",
    "        list_eliminar=list_eliminar+list(df_aux.index)\n",
    "    i=i+1\n",
    "list_eliminar = list(set(list_eliminar))"
   ]
  },
  {
   "cell_type": "code",
   "execution_count": 198,
   "id": "743b51f7",
   "metadata": {},
   "outputs": [
    {
     "data": {
      "text/plain": [
       "1100"
      ]
     },
     "execution_count": 198,
     "metadata": {},
     "output_type": "execute_result"
    }
   ],
   "source": [
    "len(list_eliminar)"
   ]
  },
  {
   "cell_type": "code",
   "execution_count": 199,
   "id": "0a39778c",
   "metadata": {},
   "outputs": [],
   "source": [
    "data_comp_pt=data_comp_pt.interpolate()\n",
    "data_comp_pt.reset_index(inplace=True)\n",
    "data_comp_un=data_comp_pt.melt(id_vars=['FECHA'], var_name=['varible','COD_NODO'],value_name='valor')\n",
    "data_comp=pd.pivot_table(data_comp_un,index=['COD_NODO','FECHA'],columns='varible')\n",
    "data_comp.columns = data_comp.columns.droplevel()\n",
    "data_comp.reset_index(inplace=True)"
   ]
  },
  {
   "cell_type": "code",
   "execution_count": 200,
   "id": "916799d6",
   "metadata": {},
   "outputs": [],
   "source": [
    "Nodos_Final_fil=Nodos_Final_fil.drop(columns=sel_variables_causas2).merge(data_comp,left_on=['COD_NODO','FECHA'],right_on=['COD_NODO','FECHA'])"
   ]
  },
  {
   "cell_type": "code",
   "execution_count": 201,
   "id": "5d3b59c7",
   "metadata": {},
   "outputs": [],
   "source": [
    "### Eliminar Nodos con mayor imputaciones\n",
    "Nodos_Final_fil=Nodos_Final_fil[~Nodos_Final_fil['COD_NODO'].isin(list_eliminar)]"
   ]
  },
  {
   "cell_type": "code",
   "execution_count": 202,
   "id": "c3b3c005",
   "metadata": {},
   "outputs": [
    {
     "name": "stdout",
     "output_type": "stream",
     "text": [
      "Nodos:  4505  Registros (nodosxmes):  49555\n"
     ]
    }
   ],
   "source": [
    "print('Nodos: ',Nodos_Final_fil['COD_NODO'].nunique(), ' Registros (nodosxmes): ', len(Nodos_Final_fil))"
   ]
  },
  {
   "cell_type": "code",
   "execution_count": 203,
   "id": "53ce45ba",
   "metadata": {},
   "outputs": [],
   "source": [
    "Nodos_Final_fil=Nodos_Final_fil.merge(maestro_data, left_on=['COD_NODO'], right_on=['COD_NODO'], how='left')"
   ]
  },
  {
   "cell_type": "code",
   "execution_count": 204,
   "id": "270880d2",
   "metadata": {},
   "outputs": [
    {
     "name": "stdout",
     "output_type": "stream",
     "text": [
      "Nodos:  4505  Registros (nodosxmes):  51689\n"
     ]
    }
   ],
   "source": [
    "print('Nodos: ',Nodos_Final_fil['COD_NODO'].nunique(), ' Registros (nodosxmes): ', len(Nodos_Final_fil))"
   ]
  },
  {
   "cell_type": "code",
   "execution_count": null,
   "id": "876e5dba",
   "metadata": {},
   "outputs": [],
   "source": []
  },
  {
   "cell_type": "markdown",
   "id": "9b6b392b",
   "metadata": {},
   "source": [
    "# Outliers"
   ]
  },
  {
   "cell_type": "code",
   "execution_count": 205,
   "id": "21906a57",
   "metadata": {},
   "outputs": [
    {
     "data": {
      "text/html": [
       "<div>\n",
       "<style scoped>\n",
       "    .dataframe tbody tr th:only-of-type {\n",
       "        vertical-align: middle;\n",
       "    }\n",
       "\n",
       "    .dataframe tbody tr th {\n",
       "        vertical-align: top;\n",
       "    }\n",
       "\n",
       "    .dataframe thead th {\n",
       "        text-align: right;\n",
       "    }\n",
       "</style>\n",
       "<table border=\"1\" class=\"dataframe\">\n",
       "  <thead>\n",
       "    <tr style=\"text-align: right;\">\n",
       "      <th></th>\n",
       "      <th>ALFA_tarifa</th>\n",
       "      <th>ALFA</th>\n",
       "      <th>BETA</th>\n",
       "      <th>MEGA</th>\n",
       "      <th>Llamadas_Admin_3M</th>\n",
       "      <th>Llamadas_Tecn_3M</th>\n",
       "      <th>PENETRACION</th>\n",
       "      <th>OCUPACION_DW</th>\n",
       "    </tr>\n",
       "  </thead>\n",
       "  <tbody>\n",
       "    <tr>\n",
       "      <th>count</th>\n",
       "      <td>39432.000000</td>\n",
       "      <td>51165.000000</td>\n",
       "      <td>51454.000000</td>\n",
       "      <td>51188.000000</td>\n",
       "      <td>51689.000000</td>\n",
       "      <td>51689.000000</td>\n",
       "      <td>51689.000000</td>\n",
       "      <td>51628.000000</td>\n",
       "    </tr>\n",
       "    <tr>\n",
       "      <th>mean</th>\n",
       "      <td>0.979724</td>\n",
       "      <td>1.329461</td>\n",
       "      <td>1.286775</td>\n",
       "      <td>1.039191</td>\n",
       "      <td>0.070161</td>\n",
       "      <td>0.008313</td>\n",
       "      <td>0.371876</td>\n",
       "      <td>0.530385</td>\n",
       "    </tr>\n",
       "    <tr>\n",
       "      <th>std</th>\n",
       "      <td>0.198288</td>\n",
       "      <td>1.625889</td>\n",
       "      <td>1.131374</td>\n",
       "      <td>0.689453</td>\n",
       "      <td>0.050574</td>\n",
       "      <td>0.014179</td>\n",
       "      <td>0.098035</td>\n",
       "      <td>0.153742</td>\n",
       "    </tr>\n",
       "    <tr>\n",
       "      <th>min</th>\n",
       "      <td>0.446971</td>\n",
       "      <td>0.000000</td>\n",
       "      <td>0.100062</td>\n",
       "      <td>0.000000</td>\n",
       "      <td>0.000000</td>\n",
       "      <td>0.000000</td>\n",
       "      <td>0.113691</td>\n",
       "      <td>0.000000</td>\n",
       "    </tr>\n",
       "    <tr>\n",
       "      <th>25%</th>\n",
       "      <td>0.838902</td>\n",
       "      <td>0.558801</td>\n",
       "      <td>0.868731</td>\n",
       "      <td>0.547553</td>\n",
       "      <td>0.035294</td>\n",
       "      <td>0.000000</td>\n",
       "      <td>0.303265</td>\n",
       "      <td>0.420168</td>\n",
       "    </tr>\n",
       "    <tr>\n",
       "      <th>50%</th>\n",
       "      <td>0.962140</td>\n",
       "      <td>1.029155</td>\n",
       "      <td>1.128344</td>\n",
       "      <td>0.917436</td>\n",
       "      <td>0.059347</td>\n",
       "      <td>0.003876</td>\n",
       "      <td>0.356554</td>\n",
       "      <td>0.524379</td>\n",
       "    </tr>\n",
       "    <tr>\n",
       "      <th>75%</th>\n",
       "      <td>1.096527</td>\n",
       "      <td>1.740192</td>\n",
       "      <td>1.474269</td>\n",
       "      <td>1.411976</td>\n",
       "      <td>0.092179</td>\n",
       "      <td>0.010714</td>\n",
       "      <td>0.420619</td>\n",
       "      <td>0.634469</td>\n",
       "    </tr>\n",
       "    <tr>\n",
       "      <th>max</th>\n",
       "      <td>2.567901</td>\n",
       "      <td>119.079644</td>\n",
       "      <td>100.000000</td>\n",
       "      <td>13.884362</td>\n",
       "      <td>0.805195</td>\n",
       "      <td>0.518797</td>\n",
       "      <td>1.151235</td>\n",
       "      <td>1.045716</td>\n",
       "    </tr>\n",
       "  </tbody>\n",
       "</table>\n",
       "</div>"
      ],
      "text/plain": [
       "        ALFA_tarifa          ALFA          BETA          MEGA  \\\n",
       "count  39432.000000  51165.000000  51454.000000  51188.000000   \n",
       "mean       0.979724      1.329461      1.286775      1.039191   \n",
       "std        0.198288      1.625889      1.131374      0.689453   \n",
       "min        0.446971      0.000000      0.100062      0.000000   \n",
       "25%        0.838902      0.558801      0.868731      0.547553   \n",
       "50%        0.962140      1.029155      1.128344      0.917436   \n",
       "75%        1.096527      1.740192      1.474269      1.411976   \n",
       "max        2.567901    119.079644    100.000000     13.884362   \n",
       "\n",
       "       Llamadas_Admin_3M  Llamadas_Tecn_3M   PENETRACION  OCUPACION_DW  \n",
       "count       51689.000000      51689.000000  51689.000000  51628.000000  \n",
       "mean            0.070161          0.008313      0.371876      0.530385  \n",
       "std             0.050574          0.014179      0.098035      0.153742  \n",
       "min             0.000000          0.000000      0.113691      0.000000  \n",
       "25%             0.035294          0.000000      0.303265      0.420168  \n",
       "50%             0.059347          0.003876      0.356554      0.524379  \n",
       "75%             0.092179          0.010714      0.420619      0.634469  \n",
       "max             0.805195          0.518797      1.151235      1.045716  "
      ]
     },
     "execution_count": 205,
     "metadata": {},
     "output_type": "execute_result"
    }
   ],
   "source": [
    "Nodos_Final_fil[sel_variables_causas2].describe()"
   ]
  },
  {
   "cell_type": "code",
   "execution_count": 206,
   "id": "16106e67",
   "metadata": {
    "scrolled": true
   },
   "outputs": [
    {
     "data": {
      "text/plain": [
       "ALFA_tarifa          1.516800\n",
       "ALFA                 5.547088\n",
       "BETA                 3.919192\n",
       "MEGA                 3.144476\n",
       "Llamadas_Admin_3M    0.246518\n",
       "Llamadas_Tecn_3M     0.062201\n",
       "PENETRACION          0.660696\n",
       "OCUPACION_DW         0.901475\n",
       "Name: 0.99, dtype: float64"
      ]
     },
     "execution_count": 206,
     "metadata": {},
     "output_type": "execute_result"
    }
   ],
   "source": [
    "outliers=Nodos_Final_fil[sel_variables_causas2].quantile(0.99)\n",
    "outliers"
   ]
  },
  {
   "cell_type": "code",
   "execution_count": 207,
   "id": "d74c799c",
   "metadata": {},
   "outputs": [],
   "source": [
    "data_finalV2=Nodos_Final_fil.copy()"
   ]
  },
  {
   "cell_type": "code",
   "execution_count": 208,
   "id": "84fee107",
   "metadata": {},
   "outputs": [],
   "source": [
    "for col in sel_variables_causas2:     \n",
    "    data_finalV2['val_'+col]=np.where(data_finalV2[col]>outliers[col],1,0)"
   ]
  },
  {
   "cell_type": "code",
   "execution_count": 209,
   "id": "23f6873d",
   "metadata": {},
   "outputs": [
    {
     "data": {
      "text/plain": [
       "['val_ALFA_tarifa',\n",
       " 'val_ALFA',\n",
       " 'val_BETA',\n",
       " 'val_MEGA',\n",
       " 'val_Llamadas_Admin_3M',\n",
       " 'val_Llamadas_Tecn_3M',\n",
       " 'val_PENETRACION',\n",
       " 'val_OCUPACION_DW']"
      ]
     },
     "execution_count": 209,
     "metadata": {},
     "output_type": "execute_result"
    }
   ],
   "source": [
    "colums_validacion=list(data_finalV2.filter(regex=(\"val_.*\")).columns)\n",
    "colums_validacion"
   ]
  },
  {
   "cell_type": "code",
   "execution_count": 210,
   "id": "ddb021d4",
   "metadata": {},
   "outputs": [],
   "source": [
    "res=data_finalV2.groupby('COD_NODO')[colums_validacion].max()"
   ]
  },
  {
   "cell_type": "code",
   "execution_count": 211,
   "id": "e21fa5f3",
   "metadata": {},
   "outputs": [],
   "source": [
    "res['val']=res.max(axis=1)"
   ]
  },
  {
   "cell_type": "code",
   "execution_count": 212,
   "id": "57939a51",
   "metadata": {},
   "outputs": [
    {
     "data": {
      "text/plain": [
       "val_ALFA_tarifa           123\n",
       "val_ALFA                  376\n",
       "val_BETA                  399\n",
       "val_MEGA                  362\n",
       "val_Llamadas_Admin_3M     402\n",
       "val_Llamadas_Tecn_3M      407\n",
       "val_PENETRACION            85\n",
       "val_OCUPACION_DW          238\n",
       "val                      1626\n",
       "dtype: int64"
      ]
     },
     "execution_count": 212,
     "metadata": {},
     "output_type": "execute_result"
    }
   ],
   "source": [
    "res.sum()"
   ]
  },
  {
   "cell_type": "code",
   "execution_count": 213,
   "id": "ca791f85",
   "metadata": {},
   "outputs": [],
   "source": [
    "Nodos_Final_fil=Nodos_Final_fil[Nodos_Final_fil['COD_NODO'].isin(res[res['val']==0].index)]"
   ]
  },
  {
   "cell_type": "code",
   "execution_count": 214,
   "id": "8a32ba40",
   "metadata": {},
   "outputs": [
    {
     "name": "stdout",
     "output_type": "stream",
     "text": [
      "Nodos:  2879  Registros (nodosxmes):  33110\n"
     ]
    }
   ],
   "source": [
    "print('Nodos: ',Nodos_Final_fil['COD_NODO'].nunique(), ' Registros (nodosxmes): ', len(Nodos_Final_fil))"
   ]
  },
  {
   "cell_type": "code",
   "execution_count": 215,
   "id": "de2b2012",
   "metadata": {},
   "outputs": [
    {
     "data": {
      "text/html": [
       "<div>\n",
       "<style scoped>\n",
       "    .dataframe tbody tr th:only-of-type {\n",
       "        vertical-align: middle;\n",
       "    }\n",
       "\n",
       "    .dataframe tbody tr th {\n",
       "        vertical-align: top;\n",
       "    }\n",
       "\n",
       "    .dataframe thead th {\n",
       "        text-align: right;\n",
       "    }\n",
       "</style>\n",
       "<table border=\"1\" class=\"dataframe\">\n",
       "  <thead>\n",
       "    <tr style=\"text-align: right;\">\n",
       "      <th></th>\n",
       "      <th>ALFA_tarifa</th>\n",
       "      <th>ALFA</th>\n",
       "      <th>BETA</th>\n",
       "      <th>MEGA</th>\n",
       "      <th>Llamadas_Admin_3M</th>\n",
       "      <th>Llamadas_Tecn_3M</th>\n",
       "      <th>PENETRACION</th>\n",
       "      <th>OCUPACION_DW</th>\n",
       "    </tr>\n",
       "  </thead>\n",
       "  <tbody>\n",
       "    <tr>\n",
       "      <th>count</th>\n",
       "      <td>24210.000000</td>\n",
       "      <td>32837.000000</td>\n",
       "      <td>32970.000000</td>\n",
       "      <td>32843.000000</td>\n",
       "      <td>33110.000000</td>\n",
       "      <td>33110.000000</td>\n",
       "      <td>33110.000000</td>\n",
       "      <td>33058.000000</td>\n",
       "    </tr>\n",
       "    <tr>\n",
       "      <th>mean</th>\n",
       "      <td>0.977127</td>\n",
       "      <td>1.121190</td>\n",
       "      <td>1.203535</td>\n",
       "      <td>0.939373</td>\n",
       "      <td>0.064959</td>\n",
       "      <td>0.006932</td>\n",
       "      <td>0.368277</td>\n",
       "      <td>0.530226</td>\n",
       "    </tr>\n",
       "    <tr>\n",
       "      <th>std</th>\n",
       "      <td>0.183071</td>\n",
       "      <td>0.841582</td>\n",
       "      <td>0.497725</td>\n",
       "      <td>0.587523</td>\n",
       "      <td>0.041724</td>\n",
       "      <td>0.009491</td>\n",
       "      <td>0.088019</td>\n",
       "      <td>0.141458</td>\n",
       "    </tr>\n",
       "    <tr>\n",
       "      <th>min</th>\n",
       "      <td>0.464753</td>\n",
       "      <td>0.001073</td>\n",
       "      <td>0.130435</td>\n",
       "      <td>0.001944</td>\n",
       "      <td>0.000000</td>\n",
       "      <td>0.000000</td>\n",
       "      <td>0.113691</td>\n",
       "      <td>0.000000</td>\n",
       "    </tr>\n",
       "    <tr>\n",
       "      <th>25%</th>\n",
       "      <td>0.847321</td>\n",
       "      <td>0.509546</td>\n",
       "      <td>0.867209</td>\n",
       "      <td>0.502863</td>\n",
       "      <td>0.033981</td>\n",
       "      <td>0.000000</td>\n",
       "      <td>0.304807</td>\n",
       "      <td>0.428710</td>\n",
       "    </tr>\n",
       "    <tr>\n",
       "      <th>50%</th>\n",
       "      <td>0.963110</td>\n",
       "      <td>0.915530</td>\n",
       "      <td>1.114215</td>\n",
       "      <td>0.838239</td>\n",
       "      <td>0.056818</td>\n",
       "      <td>0.003594</td>\n",
       "      <td>0.356208</td>\n",
       "      <td>0.528716</td>\n",
       "    </tr>\n",
       "    <tr>\n",
       "      <th>75%</th>\n",
       "      <td>1.096842</td>\n",
       "      <td>1.547715</td>\n",
       "      <td>1.430497</td>\n",
       "      <td>1.301638</td>\n",
       "      <td>0.087065</td>\n",
       "      <td>0.009780</td>\n",
       "      <td>0.415194</td>\n",
       "      <td>0.631619</td>\n",
       "    </tr>\n",
       "    <tr>\n",
       "      <th>max</th>\n",
       "      <td>1.516707</td>\n",
       "      <td>5.543854</td>\n",
       "      <td>3.905138</td>\n",
       "      <td>3.143584</td>\n",
       "      <td>0.246479</td>\n",
       "      <td>0.062201</td>\n",
       "      <td>0.659483</td>\n",
       "      <td>0.901423</td>\n",
       "    </tr>\n",
       "  </tbody>\n",
       "</table>\n",
       "</div>"
      ],
      "text/plain": [
       "        ALFA_tarifa          ALFA          BETA          MEGA  \\\n",
       "count  24210.000000  32837.000000  32970.000000  32843.000000   \n",
       "mean       0.977127      1.121190      1.203535      0.939373   \n",
       "std        0.183071      0.841582      0.497725      0.587523   \n",
       "min        0.464753      0.001073      0.130435      0.001944   \n",
       "25%        0.847321      0.509546      0.867209      0.502863   \n",
       "50%        0.963110      0.915530      1.114215      0.838239   \n",
       "75%        1.096842      1.547715      1.430497      1.301638   \n",
       "max        1.516707      5.543854      3.905138      3.143584   \n",
       "\n",
       "       Llamadas_Admin_3M  Llamadas_Tecn_3M   PENETRACION  OCUPACION_DW  \n",
       "count       33110.000000      33110.000000  33110.000000  33058.000000  \n",
       "mean            0.064959          0.006932      0.368277      0.530226  \n",
       "std             0.041724          0.009491      0.088019      0.141458  \n",
       "min             0.000000          0.000000      0.113691      0.000000  \n",
       "25%             0.033981          0.000000      0.304807      0.428710  \n",
       "50%             0.056818          0.003594      0.356208      0.528716  \n",
       "75%             0.087065          0.009780      0.415194      0.631619  \n",
       "max             0.246479          0.062201      0.659483      0.901423  "
      ]
     },
     "execution_count": 215,
     "metadata": {},
     "output_type": "execute_result"
    }
   ],
   "source": [
    "Nodos_Final_fil[sel_variables_causas2].describe()"
   ]
  },
  {
   "cell_type": "markdown",
   "id": "b760774a",
   "metadata": {},
   "source": [
    "### Guardar Resultado"
   ]
  },
  {
   "cell_type": "code",
   "execution_count": 216,
   "id": "c9fae3f4",
   "metadata": {},
   "outputs": [],
   "source": [
    "Nodos_Final_fil.to_csv('../NODOS_FILTRADOS_base2(enfoque_llamadas).csv',sep=';',index=False)"
   ]
  },
  {
   "cell_type": "code",
   "execution_count": null,
   "id": "d25cc82c",
   "metadata": {},
   "outputs": [],
   "source": []
  }
 ],
 "metadata": {
  "kernelspec": {
   "display_name": "Python 3",
   "language": "python",
   "name": "python3"
  },
  "language_info": {
   "codemirror_mode": {
    "name": "ipython",
    "version": 3
   },
   "file_extension": ".py",
   "mimetype": "text/x-python",
   "name": "python",
   "nbconvert_exporter": "python",
   "pygments_lexer": "ipython3",
   "version": "3.9.0"
  }
 },
 "nbformat": 4,
 "nbformat_minor": 5
}
